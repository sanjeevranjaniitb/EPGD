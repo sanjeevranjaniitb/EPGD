{
  "cells": [
    {
      "cell_type": "markdown",
      "metadata": {
        "id": "MCsLFvsEpG9S"
      },
      "source": [
        "# Tokenization and Word Embeddings\n",
        "\n",
        "### The Goal\n",
        "\n",
        "To translate human language into numbers that a computer can understand, in a way that preserves the meaning and relationships between words."
      ]
    },
    {
      "cell_type": "markdown",
      "metadata": {
        "id": "ZO9vfJYmpG9T"
      },
      "source": [
        "## 1. Setup\n"
      ]
    },
    {
      "cell_type": "code",
      "execution_count": null,
      "metadata": {
        "colab": {
          "base_uri": "https://localhost:8080/"
        },
        "id": "tLz73CXPpG9U",
        "outputId": "a299781a-0183-4b53-8394-5ddad4b78969"
      },
      "outputs": [
        {
          "output_type": "stream",
          "name": "stdout",
          "text": [
            "Requirement already satisfied: nltk in /usr/local/lib/python3.12/dist-packages (3.9.1)\n",
            "Requirement already satisfied: torch in /usr/local/lib/python3.12/dist-packages (2.8.0+cu126)\n",
            "Requirement already satisfied: transformers in /usr/local/lib/python3.12/dist-packages (4.56.1)\n",
            "Requirement already satisfied: click in /usr/local/lib/python3.12/dist-packages (from nltk) (8.2.1)\n",
            "Requirement already satisfied: joblib in /usr/local/lib/python3.12/dist-packages (from nltk) (1.5.2)\n",
            "Requirement already satisfied: regex>=2021.8.3 in /usr/local/lib/python3.12/dist-packages (from nltk) (2024.11.6)\n",
            "Requirement already satisfied: tqdm in /usr/local/lib/python3.12/dist-packages (from nltk) (4.67.1)\n",
            "Requirement already satisfied: filelock in /usr/local/lib/python3.12/dist-packages (from torch) (3.19.1)\n",
            "Requirement already satisfied: typing-extensions>=4.10.0 in /usr/local/lib/python3.12/dist-packages (from torch) (4.15.0)\n",
            "Requirement already satisfied: setuptools in /usr/local/lib/python3.12/dist-packages (from torch) (75.2.0)\n",
            "Requirement already satisfied: sympy>=1.13.3 in /usr/local/lib/python3.12/dist-packages (from torch) (1.13.3)\n",
            "Requirement already satisfied: networkx in /usr/local/lib/python3.12/dist-packages (from torch) (3.5)\n",
            "Requirement already satisfied: jinja2 in /usr/local/lib/python3.12/dist-packages (from torch) (3.1.6)\n",
            "Requirement already satisfied: fsspec in /usr/local/lib/python3.12/dist-packages (from torch) (2025.3.0)\n",
            "Requirement already satisfied: nvidia-cuda-nvrtc-cu12==12.6.77 in /usr/local/lib/python3.12/dist-packages (from torch) (12.6.77)\n",
            "Requirement already satisfied: nvidia-cuda-runtime-cu12==12.6.77 in /usr/local/lib/python3.12/dist-packages (from torch) (12.6.77)\n",
            "Requirement already satisfied: nvidia-cuda-cupti-cu12==12.6.80 in /usr/local/lib/python3.12/dist-packages (from torch) (12.6.80)\n",
            "Requirement already satisfied: nvidia-cudnn-cu12==9.10.2.21 in /usr/local/lib/python3.12/dist-packages (from torch) (9.10.2.21)\n",
            "Requirement already satisfied: nvidia-cublas-cu12==12.6.4.1 in /usr/local/lib/python3.12/dist-packages (from torch) (12.6.4.1)\n",
            "Requirement already satisfied: nvidia-cufft-cu12==11.3.0.4 in /usr/local/lib/python3.12/dist-packages (from torch) (11.3.0.4)\n",
            "Requirement already satisfied: nvidia-curand-cu12==10.3.7.77 in /usr/local/lib/python3.12/dist-packages (from torch) (10.3.7.77)\n",
            "Requirement already satisfied: nvidia-cusolver-cu12==11.7.1.2 in /usr/local/lib/python3.12/dist-packages (from torch) (11.7.1.2)\n",
            "Requirement already satisfied: nvidia-cusparse-cu12==12.5.4.2 in /usr/local/lib/python3.12/dist-packages (from torch) (12.5.4.2)\n",
            "Requirement already satisfied: nvidia-cusparselt-cu12==0.7.1 in /usr/local/lib/python3.12/dist-packages (from torch) (0.7.1)\n",
            "Requirement already satisfied: nvidia-nccl-cu12==2.27.3 in /usr/local/lib/python3.12/dist-packages (from torch) (2.27.3)\n",
            "Requirement already satisfied: nvidia-nvtx-cu12==12.6.77 in /usr/local/lib/python3.12/dist-packages (from torch) (12.6.77)\n",
            "Requirement already satisfied: nvidia-nvjitlink-cu12==12.6.85 in /usr/local/lib/python3.12/dist-packages (from torch) (12.6.85)\n",
            "Requirement already satisfied: nvidia-cufile-cu12==1.11.1.6 in /usr/local/lib/python3.12/dist-packages (from torch) (1.11.1.6)\n",
            "Requirement already satisfied: triton==3.4.0 in /usr/local/lib/python3.12/dist-packages (from torch) (3.4.0)\n",
            "Requirement already satisfied: huggingface-hub<1.0,>=0.34.0 in /usr/local/lib/python3.12/dist-packages (from transformers) (0.34.4)\n",
            "Requirement already satisfied: numpy>=1.17 in /usr/local/lib/python3.12/dist-packages (from transformers) (1.26.4)\n",
            "Requirement already satisfied: packaging>=20.0 in /usr/local/lib/python3.12/dist-packages (from transformers) (25.0)\n",
            "Requirement already satisfied: pyyaml>=5.1 in /usr/local/lib/python3.12/dist-packages (from transformers) (6.0.2)\n",
            "Requirement already satisfied: requests in /usr/local/lib/python3.12/dist-packages (from transformers) (2.32.4)\n",
            "Requirement already satisfied: tokenizers<=0.23.0,>=0.22.0 in /usr/local/lib/python3.12/dist-packages (from transformers) (0.22.0)\n",
            "Requirement already satisfied: safetensors>=0.4.3 in /usr/local/lib/python3.12/dist-packages (from transformers) (0.6.2)\n",
            "Requirement already satisfied: hf-xet<2.0.0,>=1.1.3 in /usr/local/lib/python3.12/dist-packages (from huggingface-hub<1.0,>=0.34.0->transformers) (1.1.9)\n",
            "Requirement already satisfied: mpmath<1.4,>=1.1.0 in /usr/local/lib/python3.12/dist-packages (from sympy>=1.13.3->torch) (1.3.0)\n",
            "Requirement already satisfied: MarkupSafe>=2.0 in /usr/local/lib/python3.12/dist-packages (from jinja2->torch) (3.0.2)\n",
            "Requirement already satisfied: charset_normalizer<4,>=2 in /usr/local/lib/python3.12/dist-packages (from requests->transformers) (3.4.3)\n",
            "Requirement already satisfied: idna<4,>=2.5 in /usr/local/lib/python3.12/dist-packages (from requests->transformers) (3.10)\n",
            "Requirement already satisfied: urllib3<3,>=1.21.1 in /usr/local/lib/python3.12/dist-packages (from requests->transformers) (2.5.0)\n",
            "Requirement already satisfied: certifi>=2017.4.17 in /usr/local/lib/python3.12/dist-packages (from requests->transformers) (2025.8.3)\n",
            "Requirement already satisfied: numpy==1.26.4 in /usr/local/lib/python3.12/dist-packages (1.26.4)\n",
            "Requirement already satisfied: scipy==1.11.4 in /usr/local/lib/python3.12/dist-packages (1.11.4)\n",
            "Requirement already satisfied: gensim==4.3.2 in /usr/local/lib/python3.12/dist-packages (4.3.2)\n",
            "Requirement already satisfied: smart_open>=1.8.1 in /usr/local/lib/python3.12/dist-packages (from gensim==4.3.2) (7.3.0.post1)\n",
            "Requirement already satisfied: wrapt in /usr/local/lib/python3.12/dist-packages (from smart_open>=1.8.1->gensim==4.3.2) (1.17.3)\n"
          ]
        }
      ],
      "source": [
        "# Run these installations if you don't have the libraries yet\n",
        "!pip install nltk torch transformers\n",
        "!pip install numpy==1.26.4 scipy==1.11.4 gensim==4.3.2\n"
      ]
    },
    {
      "cell_type": "code",
      "execution_count": null,
      "metadata": {
        "colab": {
          "base_uri": "https://localhost:8080/"
        },
        "id": "xZHW0p-QpG9W",
        "outputId": "2d07b752-2350-4949-a5ac-af9b2134bfff"
      },
      "outputs": [
        {
          "output_type": "stream",
          "name": "stderr",
          "text": [
            "[nltk_data] Downloading package punkt to /root/nltk_data...\n",
            "[nltk_data]   Unzipping tokenizers/punkt.zip.\n",
            "[nltk_data] Downloading package punkt_tab to /root/nltk_data...\n",
            "[nltk_data]   Unzipping tokenizers/punkt_tab.zip.\n"
          ]
        },
        {
          "output_type": "stream",
          "name": "stdout",
          "text": [
            "Setup complete!\n"
          ]
        },
        {
          "output_type": "stream",
          "name": "stderr",
          "text": [
            "[nltk_data] Downloading package stopwords to /root/nltk_data...\n",
            "[nltk_data]   Unzipping corpora/stopwords.zip.\n"
          ]
        }
      ],
      "source": [
        "import nltk\n",
        "from nltk.tokenize import word_tokenize\n",
        "from nltk.corpus import stopwords\n",
        "import string\n",
        "import numpy as np\n",
        "import gensim.downloader as api\n",
        "from sklearn.manifold import TSNE\n",
        "import matplotlib.pyplot as plt\n",
        "\n",
        "# Download necessary NLTK data\n",
        "nltk.download('punkt') # for tokenization\n",
        "nltk.download('punkt_tab')\n",
        "nltk.download('stopwords') # for identifying stopwords\n",
        "\n",
        "print(\"Setup complete!\")"
      ]
    },
    {
      "cell_type": "markdown",
      "metadata": {
        "id": "tWHs6sA5pG9X"
      },
      "source": [
        "## 2. Tokenization\n",
        "\n",
        "Tokenization is like breaking a LEGO model down into its individual bricks.\n",
        "\n",
        "Let's take a couple of sentences and see how `NLTK` handles it."
      ]
    },
    {
      "cell_type": "code",
      "execution_count": null,
      "metadata": {
        "colab": {
          "base_uri": "https://localhost:8080/"
        },
        "id": "AX83I7IXpG9Y",
        "outputId": "5afa3de1-6c54-49c5-aa7d-c12a801b3121"
      },
      "outputs": [
        {
          "output_type": "stream",
          "name": "stdout",
          "text": [
            "Original Sentence: Apple is looking at buying U.K. startup for $1 billion.\n",
            "Tokens: ['Apple', 'is', 'looking', 'at', 'buying', 'U.K.', 'startup', 'for', '$', '1', 'billion', '.']\n",
            "\n",
            "--- NLTK's Intelligence ---\n",
            "Apple      | Is Punctuation? 0     | Is Stopword? 0    \n",
            "is         | Is Punctuation? 0     | Is Stopword? 1    \n",
            "looking    | Is Punctuation? 0     | Is Stopword? 0    \n",
            "at         | Is Punctuation? 0     | Is Stopword? 1    \n",
            "buying     | Is Punctuation? 0     | Is Stopword? 0    \n",
            "U.K.       | Is Punctuation? 0     | Is Stopword? 0    \n",
            "startup    | Is Punctuation? 0     | Is Stopword? 0    \n",
            "for        | Is Punctuation? 0     | Is Stopword? 1    \n",
            "$          | Is Punctuation? 1     | Is Stopword? 0    \n",
            "1          | Is Punctuation? 0     | Is Stopword? 0    \n",
            "billion    | Is Punctuation? 0     | Is Stopword? 0    \n",
            ".          | Is Punctuation? 1     | Is Stopword? 0    \n"
          ]
        }
      ],
      "source": [
        "sentence = \"Apple is looking at buying U.K. startup for $1 billion.\"\n",
        "\n",
        "# Use the word_tokenize function from NLTK\n",
        "tokens = word_tokenize(sentence)\n",
        "\n",
        "print(\"Original Sentence:\", sentence)\n",
        "print(\"Tokens:\", tokens)\n",
        "\n",
        "print(\"\\n--- NLTK's Intelligence ---\")\n",
        "stop_words = set(stopwords.words('english'))\n",
        "for token in tokens:\n",
        "    is_punct = token in string.punctuation\n",
        "    is_stop = token.lower() in stop_words\n",
        "    print(f\"{token:<10} | Is Punctuation? {is_punct:<5} | Is Stopword? {is_stop:<5}\")"
      ]
    },
    {
      "cell_type": "markdown",
      "metadata": {
        "id": "zCZhU0dNpG9Y"
      },
      "source": [
        "Notice that NLTK also does a great job separating words and punctuation. To check for things like stopwords, we need to import the list from `nltk.corpus` and check against it manually, which shows how NLTK is more of a \"toolkit\" where you bring the pieces together yourself."
      ]
    },
    {
      "cell_type": "markdown",
      "metadata": {
        "id": "new-special-tokens-section"
      },
      "source": [
        "### 2.5 Handling the Details: Special Tokens\n",
        "\n",
        "When we build a vocabulary for a model, we need a few special tokens to handle the practical realities of processing text data. These are like utility tools that make our models more robust.\n",
        "\n",
        "#### `<PAD>` (Padding)\n",
        "Neural networks are most efficient when they process data in batches. To do this, all sequences in a batch must have the **same length**. But sentences are naturally different lengths!\n",
        "* **Problem:** Sentence A has 5 tokens, Sentence B has 8.\n",
        "* **Solution:** We use the `<PAD>` token to fill up the shorter sentences until they match the length of the longest sentence in the batch.\n",
        "* **Example:**\n",
        "    `['The', 'cat', 'sat', '.']` -> `['The', 'cat', 'sat', '.', '<PAD>', '<PAD>', '<PAD>']`\n",
        "\n",
        "The model is then designed to ignore these padding tokens during calculations.\n",
        "\n",
        "#### `<UNK>` (Unknown)\n",
        "A model can only know the words it saw during training. What happens when it encounters a new word it's never seen before (an \"out-of-vocabulary\" word)?\n",
        "* **Problem:** The model was trained on a vocabulary that doesn't include the word \"serendipity\".\n",
        "* **Solution:** We replace the new word with the `<UNK>` token. This allows the model to continue processing the sentence without crashing, even though it doesn't know that specific word's meaning.\n",
        "\n",
        "#### `<SOS>` (Start of Sentence) / `<CLS>` (Classification)\n",
        "It's often useful for a model to know when a new sequence is beginning.\n",
        "* **`<SOS>` (Start of Sentence/Sequence):** This token is placed at the beginning of an input sequence. It acts as a starting signal, which is especially important in models that generate text (like machine translation), telling them, \"Okay, start generating the output now.\"\n",
        "* **`<CLS>` (Classification):** In models like BERT, this token is added to the start of the input. Its corresponding output from the model is then used as a summary of the entire sentence, which is perfect for classification tasks (like sentiment analysis).\n",
        "\n",
        "#### `<EOS>` (End of Sentence) / `<SEP>` (Separator)\n",
        "Just as important as knowing when to start is knowing when to stop.\n",
        "* **`<EOS>` (End of Sentence/Sequence):** This token marks the end of a sequence. In text generation tasks, the model learns that when it produces an `<EOS>` token, its job is done and it should stop generating more words.\n",
        "* **`<SEP>` (Separator):** In models like BERT that can take two sentences as input (e.g., for question-answering), the `<SEP>` token is used to mark the boundary between the first and second sentence."
      ]
    },
    {
      "cell_type": "markdown",
      "metadata": {
        "id": "7sD0F8i5pG9Z"
      },
      "source": [
        "## 3. Word Embeddings\n",
        "\n",
        "A word embedding is like a set of GPS coordinates that places a word in a high-dimensional \"meaning space.\"\n",
        "\n",
        "While NLTK is great for tokenization, it doesn't come packaged with pre-trained word vectors like some spaCy models do. For this, we'll use another excellent library, `gensim`, to download and explore pre-trained GloVe vectors."
      ]
    },
    {
      "cell_type": "markdown",
      "metadata": {
        "id": "Q9qDRAdwpG9a"
      },
      "source": [
        "### 3.1. Looking at a Word Vector\n",
        "\n",
        "Let's load a model and see the vector for a word."
      ]
    },
    {
      "cell_type": "code",
      "execution_count": null,
      "metadata": {
        "colab": {
          "base_uri": "https://localhost:8080/"
        },
        "id": "7WBKpmdMpG9b",
        "outputId": "e44e22fc-3017-4262-e3db-04ab9831b531"
      },
      "outputs": [
        {
          "output_type": "stream",
          "name": "stdout",
          "text": [
            "[==================================================] 100.0% 128.1/128.1MB downloaded\n",
            "Word: king\n",
            "Vector Shape: (100,)\n",
            "Vector (first 10 values): [-0.32307 -0.87616  0.21977  0.25268  0.22976  0.7388  -0.37954 -0.35307\n",
            " -0.84369 -1.1113 ]\n"
          ]
        }
      ],
      "source": [
        "# This will download the GloVe model (around 128MB)\n",
        "glove_vectors = api.load('glove-wiki-gigaword-100')\n",
        "\n",
        "# Get the vector for the word 'king'\n",
        "word = \"king\"\n",
        "king_vector = glove_vectors[word]\n",
        "\n",
        "print(\"Word:\", word)\n",
        "print(\"Vector Shape:\", king_vector.shape)\n",
        "print(\"Vector (first 10 values):\", king_vector[:10])"
      ]
    },
    {
      "cell_type": "markdown",
      "metadata": {
        "id": "UMaA-ExupG9b"
      },
      "source": [
        "### Semantic Similarity\n",
        "\n",
        "Words with similar meanings should have similar vectors (be \"close\" to each other). We can measure the similarity between vectors using a metric called Cosine Similarity. `gensim` has a handy `.similarity()` method for this."
      ]
    },
    {
      "cell_type": "code",
      "execution_count": null,
      "metadata": {
        "colab": {
          "base_uri": "https://localhost:8080/"
        },
        "id": "6fjGBLLrpG9c",
        "outputId": "08f1c139-82ef-421e-ba59-051cfc72ab9e"
      },
      "outputs": [
        {
          "output_type": "stream",
          "name": "stdout",
          "text": [
            "Similarity(king, queen)    -> 0.7508\n",
            "Similarity(king, prince)   -> 0.7682\n",
            "Similarity(queen, prince)  -> 0.6641\n",
            "--------------------------------------\n",
            "Similarity(king, spaghetti) -> 0.0660\n"
          ]
        }
      ],
      "source": [
        "print(f\"Similarity(king, queen)    -> {glove_vectors.similarity('king', 'queen'):.4f}\")\n",
        "print(f\"Similarity(king, prince)   -> {glove_vectors.similarity('king', 'prince'):.4f}\")\n",
        "print(f\"Similarity(queen, prince)  -> {glove_vectors.similarity('queen', 'prince'):.4f}\")\n",
        "print(\"--------------------------------------\")\n",
        "print(f\"Similarity(king, spaghetti) -> {glove_vectors.similarity('king', 'spaghetti'):.4f}\")"
      ]
    },
    {
      "cell_type": "markdown",
      "metadata": {
        "id": "nKdVYJDLpG9c"
      },
      "source": [
        "As expected, the words related to royalty are highly similar to each other, while `king` and `spaghetti` have a very low similarity score. The embedding works!"
      ]
    },
    {
      "cell_type": "markdown",
      "metadata": {
        "id": "g1DQ6yhXpG9c"
      },
      "source": [
        "### 3.3. Visualizing the \"Meaning Space\"\n",
        "\n",
        "We can't visualize 100 dimensions, but we can use an algorithm like **t-SNE** to project the vectors down to 2 dimensions. This will let us see how the words are clustered."
      ]
    },
    {
      "cell_type": "code",
      "execution_count": null,
      "metadata": {
        "colab": {
          "base_uri": "https://localhost:8080/",
          "height": 632
        },
        "id": "RaNVAQeapG9c",
        "outputId": "4fa3d289-d873-452c-bae5-1f7a264f669e"
      },
      "outputs": [
        {
          "output_type": "display_data",
          "data": {
            "text/plain": [
              "<Figure size 1000x800 with 1 Axes>"
            ],
            "image/png": "[encoded data removed]"
          },
          "metadata": {}
        }
      ],
      "source": [
        "words = ['dog', 'cat', 'puppy', 'kitten', 'animal', 'car', 'truck', 'bicycle', 'vehicle', 'apple', 'banana', 'fruit']\n",
        "vectors = np.array([glove_vectors[word] for word in words])\n",
        "\n",
        "# Use t-SNE to reduce dimensionality to 2D\n",
        "tsne = TSNE(n_components=2, random_state=42, perplexity=5)\n",
        "vectors_2d = tsne.fit_transform(vectors)\n",
        "\n",
        "# Plot the words\n",
        "plt.figure(figsize=(10, 8))\n",
        "plt.scatter(vectors_2d[:, 0], vectors_2d[:, 1])\n",
        "for i, word in enumerate(words):\n",
        "    plt.annotate(word, (vectors_2d[i, 0], vectors_2d[i, 1]))\n",
        "plt.title('2D Visualization of Word Embeddings')\n",
        "plt.show()"
      ]
    },
    {
      "cell_type": "markdown",
      "metadata": {
        "id": "vxUDRr8apG9d"
      },
      "source": [
        "The words cluster into logical groups: animals, vehicles, and fruits. This visual proof is a powerful way to understand what embeddings are doing."
      ]
    },
    {
      "cell_type": "markdown",
      "metadata": {
        "id": "MpPAx8PhpG9e"
      },
      "source": [
        "### 3.4. The Famous Analogy: `King - Man + Woman = Queen`\n",
        "\n",
        "The most amazing property of word embeddings is that the relationships between words are also captured in the vector math. Our `gensim` model is perfect for this."
      ]
    },
    {
      "cell_type": "code",
      "execution_count": null,
      "metadata": {
        "colab": {
          "base_uri": "https://localhost:8080/"
        },
        "id": "Vl6-Et2npG9e",
        "outputId": "76134951-8a40-4865-aba8-1372537a3fad"
      },
      "outputs": [
        {
          "output_type": "stream",
          "name": "stdout",
          "text": [
            "Result of 'king - man + woman': [('queen', 0.7698540687561035), ('monarch', 0.6843381524085999), ('throne', 0.6755736470222473)]\n"
          ]
        }
      ],
      "source": [
        "# Find the 3 most similar words to the result of our vector math\n",
        "# positive=['king', 'woman'] means we add their vectors\n",
        "# negative=['man'] means we subtract its vector\n",
        "result = glove_vectors.most_similar(positive=['king', 'woman'], negative=['man'], topn=3)\n",
        "\n",
        "print(\"Result of 'king - man + woman':\", result)"
      ]
    },
    {
      "cell_type": "markdown",
      "metadata": {
        "id": "yv2dpd_ppG9e"
      },
      "source": [
        "The top result is **'queen'**. The model learned the concept of gender and royalty from text data alone."
      ]
    },
    {
      "cell_type": "markdown",
      "metadata": {
        "id": "Edxrti0SpG9f"
      },
      "source": [
        "## Conclusion\n",
        "\n",
        "Today, we've seen the two foundational steps of NLP:\n",
        "\n",
        "1.  **Tokenization:** Breaking text into manageable pieces (including special utility tokens).\n",
        "2.  **Word Embeddings:** Converting those pieces into meaningful numerical vectors.\n",
        "\n",
        "By understanding these concepts, you now have the key to how machines can begin to comprehend and process human language.\n",
        "\n",
        "### Next things to try\n",
        "- Compare **Word2Vec, GloVe and FastText**.\n",
        "- Observe how each handles rare words, out-of-vocabulary (OOV) tokens, and semantic similarity.  "
      ]
    },
    {
      "cell_type": "code",
      "source": [],
      "metadata": {
        "id": "18J7f4vwjUP2"
      },
      "execution_count": null,
      "outputs": []
    }
  ],
  "metadata": {
    "kernelspec": {
      "display_name": "Python 3 (ipykernel)",
      "language": "python",
      "name": "python3"
    },
    "language_info": {
      "codemirror_mode": {
        "name": "ipython",
        "version": 3
      },
      "file_extension": ".py",
      "mimetype": "text/x-python",
      "name": "python",
      "nbconvert_exporter": "python",
      "pygments_lexer": "ipython3",
      "version": "3.9.12"
    },
    "colab": {
      "provenance": []
    }
  },
  "nbformat": 4,
  "nbformat_minor": 0
}