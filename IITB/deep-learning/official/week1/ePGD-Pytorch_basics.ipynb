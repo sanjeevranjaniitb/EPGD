{
  "nbformat": 4,
  "nbformat_minor": 0,
  "metadata": {
    "colab": {
      "provenance": []
    },
    "kernelspec": {
      "name": "python3",
      "display_name": "Python 3"
    },
    "language_info": {
      "name": "python"
    }
  },
  "cells": [
    {
      "cell_type": "markdown",
      "source": [
        " PyTorch Overview\n",
        "Open-Source Deep Learning Library: Developed by Meta AI (formerly Facebook AI\n",
        "Research)."
      ],
      "metadata": {
        "id": "lNloC9pS0Lk2"
      }
    },
    {
      "cell_type": "code",
      "execution_count": 1,
      "metadata": {
        "colab": {
          "base_uri": "https://localhost:8080/",
          "height": 35
        },
        "id": "udTG2wyTwQgp",
        "outputId": "bf42eddd-7dab-46f7-e582-a1b71458f03e"
      },
      "outputs": [
        {
          "output_type": "execute_result",
          "data": {
            "text/plain": [
              "'2.6.0+cu124'"
            ],
            "application/vnd.google.colaboratory.intrinsic+json": {
              "type": "string"
            }
          },
          "metadata": {},
          "execution_count": 1
        }
      ],
      "source": [
        "import torch\n",
        "torch.__version__"
      ]
    },
    {
      "cell_type": "markdown",
      "source": [
        "# Scalars, vectors, matrices, and tensors. PyTorch tensors are similar to NumPy arrays"
      ],
      "metadata": {
        "id": "PvhC208HxGch"
      }
    },
    {
      "cell_type": "code",
      "source": [
        "# using zeros\n",
        "torch.zeros(2,3)\n",
        "# using ones\n",
        "torch.ones(2,3)\n",
        "# create a 0D tensor (scalar) from a Python integer\n",
        "tensor0d = torch.tensor(1)\n",
        "print(tensor0d)\n",
        "# create a 1D tensor (vector) from a Python list\n",
        "tensor1d = torch.tensor([1, 2, 3])\n",
        "print(tensor1d)\n",
        "# create a 2D tensor from a nested Python list\n",
        "tensor2d = torch.tensor([[1, 2], [3, 4]])\n",
        "print(tensor2d)\n",
        "# create a 3D tensor from a nested Python list\n",
        "tensor3d = torch.tensor([[[1, 2], [3, 4]], [[5, 6], [7, 8]]])\n",
        "print(tensor3d)"
      ],
      "metadata": {
        "colab": {
          "base_uri": "https://localhost:8080/"
        },
        "id": "rysJAsNlxPm2",
        "outputId": "95aed7bf-0956-4e9d-ba6d-ac62b6f09006"
      },
      "execution_count": 5,
      "outputs": [
        {
          "output_type": "stream",
          "name": "stdout",
          "text": [
            "tensor(1)\n",
            "tensor([1, 2, 3])\n",
            "tensor([[1, 2],\n",
            "        [3, 4]])\n",
            "tensor([[[1, 2],\n",
            "         [3, 4]],\n",
            "\n",
            "        [[5, 6],\n",
            "         [7, 8]]])\n"
          ]
        }
      ]
    },
    {
      "cell_type": "markdown",
      "source": [
        "# dimension and shape of matrices"
      ],
      "metadata": {
        "id": "jo2Vjg1UyGeO"
      }
    },
    {
      "cell_type": "code",
      "source": [
        "scalar=torch.tensor(8)\n",
        "print(scalar.ndim)  #to know the number of dimension  scalar have zero dimension dim= no of pointer required to access it 1d or 2d\n",
        "vector=torch.tensor([3,4])  #ndim=1\n",
        "print(vector.ndim)\n",
        "vector=torch.tensor([[3,4],[4,6]])  #ndim=1\n",
        "print(vector.ndim)\n",
        "print(vector.shape) #to know the shape of matrix"
      ],
      "metadata": {
        "colab": {
          "base_uri": "https://localhost:8080/"
        },
        "id": "Cle8TY8xyM1k",
        "outputId": "8e9df738-cd9d-4822-b216-cddeff8b30e1"
      },
      "execution_count": 6,
      "outputs": [
        {
          "output_type": "stream",
          "name": "stdout",
          "text": [
            "0\n",
            "1\n",
            "2\n",
            "torch.Size([2, 2])\n"
          ]
        }
      ]
    },
    {
      "cell_type": "markdown",
      "source": [
        "# to generate random number"
      ],
      "metadata": {
        "id": "dyZb_bg0yc-J"
      }
    },
    {
      "cell_type": "code",
      "source": [
        "a=torch.rand(size=(3,4))  #to generate random uniform number\n",
        "print(a)\n",
        "b=torch.randn(3,4)\n",
        "print(a)\n",
        "a=torch.rand(2,3,4) #so 2 different matrixes of size 3*4\n",
        "print(a)"
      ],
      "metadata": {
        "colab": {
          "base_uri": "https://localhost:8080/"
        },
        "id": "q-5QUCilygBc",
        "outputId": "81ad9671-6df1-47c6-d254-c1650912363a"
      },
      "execution_count": 7,
      "outputs": [
        {
          "output_type": "stream",
          "name": "stdout",
          "text": [
            "tensor([[0.3892, 0.4894, 0.7315, 0.8282],\n",
            "        [0.1136, 0.1603, 0.9173, 0.4244],\n",
            "        [0.8561, 0.4415, 0.2626, 0.8621]])\n",
            "tensor([[0.3892, 0.4894, 0.7315, 0.8282],\n",
            "        [0.1136, 0.1603, 0.9173, 0.4244],\n",
            "        [0.8561, 0.4415, 0.2626, 0.8621]])\n",
            "tensor([[[0.2541, 0.2733, 0.9667, 0.6467],\n",
            "         [0.4895, 0.3373, 0.9565, 0.0638],\n",
            "         [0.5953, 0.1270, 0.4142, 0.0663]],\n",
            "\n",
            "        [[0.7361, 0.3279, 0.0458, 0.0808],\n",
            "         [0.7941, 0.7868, 0.8600, 0.3492],\n",
            "         [0.4367, 0.5535, 0.8550, 0.8929]]])\n"
          ]
        }
      ]
    },
    {
      "cell_type": "markdown",
      "source": [
        "# to know the datatype and shape\n"
      ],
      "metadata": {
        "id": "_rBuBkt_yo3f"
      }
    },
    {
      "cell_type": "code",
      "source": [
        "#to know the datatypes\n",
        "a=torch.rand(3,4)\n",
        "print(a)\n",
        "print(a.dtype)\n",
        "# assign data type\n",
        "a=torch.tensor([1.0,2.0,3.0], dtype=torch.int32)\n",
        "a=torch.tensor([1,2,3], dtype=torch.float64)\n",
        "a=torch.arange(3,8,dtype=torch.float32)\n",
        "print(a)\n",
        "print(a.dtype)\n",
        "a=a.type(torch.float64)  #to change the datatype of a variable\n",
        "print(a.dtype)\n",
        "a=torch.rand(3,4)\n",
        "print(a.shape)\n",
        "a=a.T   #to do transpose\n",
        "print(a.shape)"
      ],
      "metadata": {
        "colab": {
          "base_uri": "https://localhost:8080/"
        },
        "id": "mNK7jXRtzBsZ",
        "outputId": "b9423bd7-2903-42ac-a0c3-24db588518c7"
      },
      "execution_count": 12,
      "outputs": [
        {
          "output_type": "stream",
          "name": "stdout",
          "text": [
            "tensor([[0.4892, 0.5426, 0.9452, 0.3741],\n",
            "        [0.9541, 0.1483, 0.3216, 0.8482],\n",
            "        [0.6040, 0.0600, 0.3321, 0.1973]])\n",
            "torch.float32\n",
            "tensor([3., 4., 5., 6., 7.])\n",
            "torch.float32\n",
            "torch.float64\n",
            "torch.Size([3, 4])\n",
            "torch.Size([4, 3])\n"
          ]
        }
      ]
    },
    {
      "cell_type": "markdown",
      "source": [
        "# mathematical operation"
      ],
      "metadata": {
        "id": "Z3al0P7d1Ec6"
      }
    },
    {
      "cell_type": "code",
      "source": [
        "x = torch.rand(2,2)\n",
        "x\n",
        "# addition\n",
        "x + 2\n",
        "# substraction\n",
        "x - 2\n",
        "# multiplication\n",
        "x * 3\n",
        "# division\n",
        "x / 3\n",
        "# int division\n",
        "(x * 100)//3\n"
      ],
      "metadata": {
        "id": "Yriop7kB1IQh"
      },
      "execution_count": null,
      "outputs": []
    },
    {
      "cell_type": "code",
      "source": [
        "#element wise operation\n",
        "a = torch.rand(2,3)\n",
        "b = torch.rand(2,3)\n",
        "\n",
        "print(a)\n",
        "print(b)\n",
        "# add\n",
        "a + b\n",
        "# sub\n",
        "a - b\n",
        "# multiply\n",
        "a * b\n",
        "# division\n",
        "a / b\n",
        "# power\n",
        "a ** b\n",
        "# mod\n",
        "a % b"
      ],
      "metadata": {
        "id": "SVO3_C841SfM"
      },
      "execution_count": null,
      "outputs": []
    },
    {
      "cell_type": "code",
      "source": [
        "#matrix multiplication\n",
        "f = torch.randint(size=(2,3), low=0, high=10)\n",
        "g = torch.randint(size=(3,2), low=0, high=10)\n",
        "\n",
        "print(f)\n",
        "print(g)\n",
        "# matrix multiplcation\n",
        "torch.matmul(f, g)"
      ],
      "metadata": {
        "colab": {
          "base_uri": "https://localhost:8080/"
        },
        "id": "I6m3pEix1GuS",
        "outputId": "3810b774-37b9-4e60-f6e5-b73193f7c2b5"
      },
      "execution_count": 13,
      "outputs": [
        {
          "output_type": "stream",
          "name": "stdout",
          "text": [
            "tensor([[2, 0, 3],\n",
            "        [3, 4, 3]])\n",
            "tensor([[0, 5],\n",
            "        [6, 2],\n",
            "        [4, 7]])\n"
          ]
        },
        {
          "output_type": "execute_result",
          "data": {
            "text/plain": [
              "tensor([[12, 31],\n",
              "        [36, 44]])"
            ]
          },
          "metadata": {},
          "execution_count": 13
        }
      ]
    },
    {
      "cell_type": "code",
      "source": [
        "#dot product\n",
        "#torch.dot computes the dot product of two 1-dimensional tensors\n",
        "#torch.matmul: 1D x 1D: If both tensors are 1D, it behaves exactly like torch.dot, returning a scalar.\n",
        "vector1 = torch.tensor([1, 2])\n",
        "vector2 = torch.tensor([3, 4])\n",
        "\n",
        "# dot product\n",
        "torch.dot(vector1, vector2)"
      ],
      "metadata": {
        "colab": {
          "base_uri": "https://localhost:8080/"
        },
        "id": "8w74wXDQ2DUA",
        "outputId": "4f4dbaa6-2590-4461-9c49-510b7f949155"
      },
      "execution_count": 14,
      "outputs": [
        {
          "output_type": "execute_result",
          "data": {
            "text/plain": [
              "tensor(11)"
            ]
          },
          "metadata": {},
          "execution_count": 14
        }
      ]
    },
    {
      "cell_type": "markdown",
      "source": [
        "#special function"
      ],
      "metadata": {
        "id": "NXDjP90b2bXJ"
      }
    },
    {
      "cell_type": "code",
      "source": [
        "k = torch.randint(size=(2,3), low=0, high=10, dtype=torch.float32)\n",
        "print(k)\n",
        "# log\n",
        "print(torch.log(k))\n",
        "# exp\n",
        "print(torch.exp(k))\n",
        "# sigmoid\n",
        "print(torch.sigmoid(k))\n",
        "# softmax\n",
        "print(torch.softmax(k, dim=1))  #apply softmax columnwise\n",
        "print(k.relu_())"
      ],
      "metadata": {
        "colab": {
          "base_uri": "https://localhost:8080/"
        },
        "id": "vEu1_8AR2dfJ",
        "outputId": "b123365f-13be-48c6-9c77-c182c6e7b332"
      },
      "execution_count": 20,
      "outputs": [
        {
          "output_type": "stream",
          "name": "stdout",
          "text": [
            "tensor([[7., 7., 9.],\n",
            "        [0., 0., 0.]])\n",
            "tensor([[1.9459, 1.9459, 2.1972],\n",
            "        [  -inf,   -inf,   -inf]])\n",
            "tensor([[1.0966e+03, 1.0966e+03, 8.1031e+03],\n",
            "        [1.0000e+00, 1.0000e+00, 1.0000e+00]])\n",
            "tensor([[0.9991, 0.9991, 0.9999],\n",
            "        [0.5000, 0.5000, 0.5000]])\n",
            "tensor([[0.1065, 0.1065, 0.7870],\n",
            "        [0.3333, 0.3333, 0.3333]])\n",
            "tensor([[7., 7., 9.],\n",
            "        [0., 0., 0.]])\n"
          ]
        }
      ]
    },
    {
      "cell_type": "markdown",
      "source": [
        "# dataloader"
      ],
      "metadata": {
        "id": "LxUmDCiL5RKd"
      }
    },
    {
      "cell_type": "code",
      "source": [
        "import torch\n",
        "from torch.utils.data import DataLoader\n",
        "import torchvision\n",
        "from torchvision import transforms\n",
        "\n",
        "\n",
        "# 1. Define Transformations\n",
        "\n",
        "transform = transforms.Compose([\n",
        "    transforms.Resize((64, 64)),        # Resize image to 64x64\n",
        "    transforms.ToTensor(),              # Convert PIL Image to tensor (C, H, W) in [0,1]\n",
        "    transforms.Normalize((0.5,), (0.5,))  # Normalize with mean=0.5, std=0.5\n",
        "])\n",
        "\n",
        "\n",
        "# 2. Load Dataset\n",
        "\n",
        "# Here we use MNIST for simplicity\n",
        "train_dataset = torchvision.datasets.MNIST(\n",
        "    root='./data', train=True, download=True, transform=transform\n",
        ")\n",
        "\n",
        "\n",
        "# 3. Create DataLoader\n",
        "\n",
        "train_loader = DataLoader(train_dataset, batch_size=3, shuffle=True)\n",
        "\n",
        "\n",
        "# 4. Iterate Over Data\n",
        "\n",
        "for images, labels in train_loader:\n",
        "    print(\"Original shape:\", images.shape)  # (batch_size, channels, height, width)\n",
        "\n",
        "\n",
        "    # 5. Tensor Manipulation\n",
        "\n",
        "    # Indexing: get first image in batch\n",
        "    first_image = images[0]\n",
        "    print(\"First image shape:\", first_image.shape)  # (channels, height, width)\n",
        "\n",
        "    # Reshaping: flatten the image\n",
        "    flattened = first_image.view(-1)  # shape: (channels*height*width,)\n",
        "    print(\"Flattened shape:\", flattened.shape)\n",
        "\n",
        "    # Change shape to (height, width, channels) for some libs (like matplotlib)\n",
        "    hwc_image = first_image.permute(1, 2, 0)  # (H, W, C)\n",
        "    print(\"HWC shape:\", hwc_image.shape)\n",
        "\n",
        "    break  # Just show first batch for demo\n"
      ],
      "metadata": {
        "colab": {
          "base_uri": "https://localhost:8080/"
        },
        "id": "OhYjNxx75T4Z",
        "outputId": "da720a88-530c-479d-d660-0e6f1ed382d5"
      },
      "execution_count": 29,
      "outputs": [
        {
          "output_type": "stream",
          "name": "stdout",
          "text": [
            "Original shape: torch.Size([3, 1, 64, 64])\n",
            "First image shape: torch.Size([1, 64, 64])\n",
            "Flattened shape: torch.Size([4096])\n",
            "HWC shape: torch.Size([64, 64, 1])\n"
          ]
        }
      ]
    }
  ]
}