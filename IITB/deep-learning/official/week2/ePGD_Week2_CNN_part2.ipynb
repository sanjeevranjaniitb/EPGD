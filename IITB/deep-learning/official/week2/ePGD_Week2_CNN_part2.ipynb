{
  "cells": [
    {
      "cell_type": "markdown",
      "metadata": {
        "id": "HxZNZyevn8rI"
      },
      "source": [
        "# Building CNN from scratch\n",
        "\n",
        "\n",
        "**Our Agenda:**\n",
        "1.  **Setup & Data Loading**: Prepare our environment and the MNIST dataset.\n",
        "2.  **Flexible Model Building**: Create a dynamic CNN class where we can easily change the **depth** and **activation function**.\n",
        "3.  **Model Inspection with torchsummary**: Understand our network's architecture, layer outputs, and parameter counts.\n",
        "4.  **Systematic Experiments**: Train multiple models to compare:\n",
        "    * The effect of network depth (shallow vs. deep).\n",
        "    * The effect of different non-linearities (ReLU, Leaky ReLU, Tanh).\n",
        "5.  **Results Analysis**: Summarize our findings and draw conclusions about CNN design."
      ]
    },
    {
      "cell_type": "markdown",
      "metadata": {
        "id": "7HsC53eUn8rJ"
      },
      "source": [
        "## Step 1: Import Libraries and Setup\n"
      ]
    },
    {
      "cell_type": "code",
      "execution_count": 8,
      "metadata": {
        "colab": {
          "base_uri": "https://localhost:8080/"
        },
        "id": "KjkrEqk-n8rK",
        "outputId": "78a1ef43-5889-4d09-d4fc-6592feef4594"
      },
      "outputs": [
        {
          "output_type": "stream",
          "name": "stdout",
          "text": [
            "Using device: cpu\n"
          ]
        }
      ],
      "source": [
        "import torch\n",
        "import torch.nn as nn\n",
        "import torch.optim as optim\n",
        "from torchvision import datasets, transforms\n",
        "from torch.utils.data import DataLoader\n",
        "from torchsummary import summary\n",
        "import matplotlib.pyplot as plt\n",
        "import numpy as np\n",
        "import time\n",
        "\n",
        "# Check if a GPU is available and set the device\n",
        "device = torch.device('cuda' if torch.cuda.is_available() else 'cpu')\n",
        "print(f'Using device: {device}')"
      ]
    },
    {
      "cell_type": "markdown",
      "metadata": {
        "id": "nCw5uU0Xn8rK"
      },
      "source": [
        "## Step 2: Load and Prepare the MNIST Dataset\n"
      ]
    },
    {
      "cell_type": "code",
      "execution_count": 9,
      "metadata": {
        "colab": {
          "base_uri": "https://localhost:8080/",
          "height": 829
        },
        "id": "lafcrGk-n8rK",
        "outputId": "8e3b42f7-d992-414e-eb73-baa7d55c6cc2"
      },
      "outputs": [
        {
          "output_type": "display_data",
          "data": {
            "text/plain": [
              "<Figure size 1000x1000 with 16 Axes>"
            ],
            "image/png": "[encoded data removed]"
          },
          "metadata": {}
        }
      ],
      "source": [
        "# Define the transformation pipeline\n",
        "transform = transforms.Compose([\n",
        "    transforms.ToTensor(),\n",
        "    transforms.Normalize((0.5,), (0.5,))\n",
        "])\n",
        "\n",
        "# Download and load the data\n",
        "train_dataset = datasets.MNIST(root='./data', train=True, download=True, transform=transform)\n",
        "test_dataset = datasets.MNIST(root='./data', train=False, download=True, transform=transform)\n",
        "\n",
        "# Create data loaders\n",
        "batch_size = 128\n",
        "train_loader = DataLoader(dataset=train_dataset, batch_size=batch_size, shuffle=True)\n",
        "test_loader = DataLoader(dataset=test_dataset, batch_size=batch_size, shuffle=False)\n",
        "\n",
        "# Visualize a few images\n",
        "dataiter = iter(train_loader)\n",
        "images, labels = next(dataiter)\n",
        "fig = plt.figure(figsize=(10, 10))\n",
        "for idx in np.arange(16):\n",
        "    ax = fig.add_subplot(4, 4, idx+1, xticks=[], yticks=[])\n",
        "    img = images[idx] / 2 + 0.5\n",
        "    plt.imshow(np.squeeze(img), cmap='gray')\n",
        "    ax.set_title(str(labels[idx].item()))\n",
        "plt.show()"
      ]
    },
    {
      "cell_type": "markdown",
      "metadata": {
        "id": "KEFKyVnWn8rL"
      },
      "source": [
        "## Step 3: Build a Flexible CNN Model\n",
        "\n",
        "Here, we define our `SimpleCNN` class. This architecture is powerful because it's **dynamic**. We can specify any integer `depth` and choose from several activation functions.\n",
        "\n",
        "**Key Components:**\n",
        "- **`nn.Conv2d`**: The core convolutional layer that learns features.\n",
        "- **`nn.BatchNorm2d`**: Normalizes the activations from the convolutional layer. This stabilizes the network, prevents issues like vanishing/exploding gradients, and helps the model train faster and more reliably.\n",
        "- **Activation Function**: Introduces non-linearity, allowing the model to learn complex patterns.\n",
        "- **`nn.MaxPool2d`**: Downsamples the feature map, reducing its spatial dimensions. This makes the model more efficient and helps it learn features that are robust to small translations in the input image.\n",
        "- **`nn.Sequential`**: A container that chains our layers together, making the forward pass clean and simple.\n",
        "- **`nn.Linear`**: A standard fully connected layer for the final classification."
      ]
    },
    {
      "cell_type": "code",
      "execution_count": 10,
      "metadata": {
        "id": "Br6DGaWkn8rL"
      },
      "outputs": [],
      "source": [
        "class SimpleCNN(nn.Module):\n",
        "    # This class defines a flexible Convolutional Neural Network.\n",
        "    # You can change its depth and activation function when you create it.\n",
        "\n",
        "    def __init__(self, activation='relu', depth=2):\n",
        "        \"\"\"\n",
        "        This is the constructor method. It sets up all the layers of the network.\n",
        "        Args:\n",
        "            activation (str): The name of the activation function to use ('relu', 'leakyrelu', 'tanh').\n",
        "            depth (int): The number of convolutional blocks in the network.\n",
        "        \"\"\"\n",
        "        # This line is essential. It calls the constructor of the parent class (nn.Module),\n",
        "        # which is necessary for PyTorch to manage the model's layers and parameters.\n",
        "        super(SimpleCNN, self).__init__()\n",
        "\n",
        "        # --- 1. Choose the Activation Function ---\n",
        "        # A dictionary is used to map the string name of an activation function\n",
        "        # to its actual PyTorch layer object. This makes the code clean and easy to extend.\n",
        "        activations = {\n",
        "            'relu': nn.ReLU(),\n",
        "            'leakyrelu': nn.LeakyReLU(0.1),\n",
        "            'tanh': nn.Tanh()\n",
        "        }\n",
        "        # Look up the activation object from the dictionary based on the 'activation' argument\n",
        "        # and store it as an attribute of this class.\n",
        "        self.act = activations[activation]\n",
        "\n",
        "        # --- 2. Dynamically Build the Convolutional Layers ---\n",
        "        # We'll build the convolutional part of the network in a loop.\n",
        "\n",
        "        # Create an empty list to hold the layers for our convolutional blocks.\n",
        "        layers = []\n",
        "        # Initialize 'in_channels' to 1 because the input MNIST images are grayscale (one channel).\n",
        "        # This variable will be updated in each iteration of the loop.\n",
        "        in_channels = 1\n",
        "\n",
        "        # This loop runs 'depth' times. Each iteration adds one complete convolutional block.\n",
        "        for i in range(depth):\n",
        "            # Calculate the number of output channels (filters) for the current layer.\n",
        "            # The formula 16 * (2**i) doubles the channels at each layer:\n",
        "            # Layer 0 (i=0): 16 * 1 = 16 channels\n",
        "            # Layer 1 (i=1): 16 * 2 = 32 channels\n",
        "            # Layer 2 (i=2): 16 * 4 = 64 channels ...and so on.\n",
        "            out_channels = 16 * (2**i)\n",
        "\n",
        "            # --- Add a complete convolutional block to the 'layers' list ---\n",
        "            # a) Convolutional Layer: Applies filters to the input.\n",
        "            layers.append(nn.Conv2d(in_channels, out_channels, kernel_size=3, padding=1))\n",
        "            # b) Batch Normalization: Stabilizes training and helps the model learn faster.\n",
        "            layers.append(nn.BatchNorm2d(out_channels))\n",
        "            # c) Activation Function: Introduces non-linearity.\n",
        "            layers.append(self.act)\n",
        "            # d) Max Pooling: Downsamples the feature map, reducing its height and width by half.\n",
        "            layers.append(nn.MaxPool2d(2))\n",
        "\n",
        "            # Update 'in_channels' for the *next* iteration of the loop.\n",
        "            # The output channels of this layer become the input channels for the next one.\n",
        "            in_channels = out_channels\n",
        "\n",
        "        # --- 3. Wrap the Convolutional Layers in nn.Sequential ---\n",
        "        # The * operator unpacks the 'layers' list.\n",
        "        # nn.Sequential creates a single module that passes data through each layer in order.\n",
        "        self.conv_layers = nn.Sequential(*layers)\n",
        "\n",
        "        # --- 4. Define the Final Fully Connected (Classifier) Layer ---\n",
        "\n",
        "        # Automatically calculate the size of the feature map after all conv/pool layers.\n",
        "        # The initial image size is 28x28. Each MaxPool2d layer halves the dimensions.\n",
        "        final_img_size = 28 // (2**depth)\n",
        "        # The total number of features to be fed into the linear layer is:\n",
        "        # (last number of channels) * (final height) * (final width)\n",
        "        fc_input_features = in_channels * final_img_size * final_img_size\n",
        "\n",
        "        # Create the final linear layer. It takes the flattened features and outputs 10 scores,\n",
        "        # one for each digit class (0-9).\n",
        "        self.fc = nn.Linear(fc_input_features, 10)\n",
        "\n",
        "    def forward(self, x):\n",
        "        \"\"\"\n",
        "        This method defines the forward pass of the network.\n",
        "        It specifies how input data 'x' flows through the layers.\n",
        "        Args:\n",
        "            x (torch.Tensor): The input data (a batch of images).\n",
        "        \"\"\"\n",
        "        # 1. Pass the input 'x' through all the convolutional blocks.\n",
        "        x = self.conv_layers(x)\n",
        "\n",
        "        # 2. Flatten the output from the convolutional layers.\n",
        "        # The output is a 4D tensor: [batch_size, channels, height, width].\n",
        "        # We flatten it into a 2D tensor: [batch_size, total_features]\n",
        "        # so it can be processed by the linear layer. The '1' means we keep the batch dimension.\n",
        "        x = torch.flatten(x, 1)\n",
        "\n",
        "        # 3. Pass the flattened tensor through the final fully connected layer.\n",
        "        # This produces the raw output scores (logits) for each class.\n",
        "        x = self.fc(x)\n",
        "\n",
        "        # 4. Return the final scores.\n",
        "        return x\n"
      ]
    },
    {
      "cell_type": "markdown",
      "metadata": {
        "id": "md-BFqMqn8rL"
      },
      "source": [
        "## Step 4: Inspect the Model with `torchsummary`\n",
        "\n",
        "Before training, let's use torchsummary to understand what we've built. We'll create a model with depth=2 and look at its structure.\n",
        "\n",
        "**How to Read the Summary:**\n",
        "- **Layer (type)**: The name and type of the layer.\n",
        "- **Output Shape**: The shape of the tensor after passing through that layer. [batch_size, channels, height, width].\n",
        "- **Param #**: The number of trainable parameters in that layer.\n",
        "\n",
        "**Intuition:** Watch how the dimensions change. The Conv2d and BatchNorm2d layers increase the number of channels (from 1 to 16, then 32), while MaxPool2d halves the height and width (from 28x28 to 14x14, then 7x7). This process transforms the spatial information into a rich set of features."
      ]
    },
    {
      "cell_type": "code",
      "execution_count": 11,
      "metadata": {
        "colab": {
          "base_uri": "https://localhost:8080/"
        },
        "id": "JVZzA07in8rL",
        "outputId": "bb2d1d42-411d-4e5b-da6f-9ad97a25689f"
      },
      "outputs": [
        {
          "output_type": "stream",
          "name": "stdout",
          "text": [
            "----------------------------------------------------------------\n",
            "        Layer (type)               Output Shape         Param #\n",
            "================================================================\n",
            "            Conv2d-1           [-1, 16, 28, 28]             160\n",
            "       BatchNorm2d-2           [-1, 16, 28, 28]              32\n",
            "              ReLU-3           [-1, 16, 28, 28]               0\n",
            "              ReLU-4           [-1, 16, 28, 28]               0\n",
            "         MaxPool2d-5           [-1, 16, 14, 14]               0\n",
            "            Conv2d-6           [-1, 32, 14, 14]           4,640\n",
            "       BatchNorm2d-7           [-1, 32, 14, 14]              64\n",
            "              ReLU-8           [-1, 32, 14, 14]               0\n",
            "              ReLU-9           [-1, 32, 14, 14]               0\n",
            "        MaxPool2d-10             [-1, 32, 7, 7]               0\n",
            "           Linear-11                   [-1, 10]          15,690\n",
            "================================================================\n",
            "Total params: 20,586\n",
            "Trainable params: 20,586\n",
            "Non-trainable params: 0\n",
            "----------------------------------------------------------------\n",
            "Input size (MB): 0.00\n",
            "Forward/backward pass size (MB): 0.61\n",
            "Params size (MB): 0.08\n",
            "Estimated Total Size (MB): 0.69\n",
            "----------------------------------------------------------------\n"
          ]
        }
      ],
      "source": [
        "# Create a sample model to inspect (depth=2, relu activation)\n",
        "model_to_inspect = SimpleCNN(activation='relu', depth=2).to(device)\n",
        "\n",
        "# The input size is (channels, height, width)\n",
        "summary(model_to_inspect, (1, 28, 28))"
      ]
    },
    {
      "cell_type": "markdown",
      "metadata": {
        "id": "F-COXpozn8rL"
      },
      "source": [
        "## Step 5: Define Training and Experiment Runner\n",
        "\n",
        "We'll create a single, reusable function `run_experiment` that will:\n",
        "1.  Instantiate a model with a given depth and activation.\n",
        "2.  Define the loss function and optimizer.\n",
        "3.  Train the model for a few epochs.\n",
        "4.  Evaluate it on the test set.\n",
        "5.  Return the final accuracy and training time."
      ]
    },
    {
      "cell_type": "code",
      "execution_count": 12,
      "metadata": {
        "id": "1Ps2jeXcn8rM"
      },
      "outputs": [],
      "source": [
        "def run_experiment(depth, activation, epochs=4):\n",
        "    \"\"\"Initializes, trains, and tests a model with given hyperparameters.\"\"\"\n",
        "    print(f\"--- Starting Experiment: Depth={depth}, Activation={activation} ---\")\n",
        "\n",
        "    # 1. Create Model\n",
        "    model = SimpleCNN(activation=activation, depth=depth).to(device)\n",
        "\n",
        "    # 2. Define Loss and Optimizer\n",
        "    criterion = nn.CrossEntropyLoss()\n",
        "    optimizer = optim.Adam(model.parameters(), lr=0.001)\n",
        "\n",
        "    start_time = time.time()\n",
        "\n",
        "    # 3. Train the model\n",
        "    model.train()\n",
        "    for epoch in range(epochs):\n",
        "        for i, (images, labels) in enumerate(train_loader):\n",
        "            images, labels = images.to(device), labels.to(device)\n",
        "\n",
        "            # Forward pass\n",
        "            outputs = model(images)\n",
        "            loss = criterion(outputs, labels)\n",
        "\n",
        "            # Backward and optimize\n",
        "            optimizer.zero_grad()\n",
        "            loss.backward()\n",
        "            optimizer.step()\n",
        "\n",
        "        print(f'Epoch [{epoch+1}/{epochs}], Loss: {loss.item():.4f}')\n",
        "\n",
        "    training_time = time.time() - start_time\n",
        "    print(f'Finished Training in {training_time:.2f}s')\n",
        "\n",
        "    # 4. Test the model\n",
        "    model.eval()\n",
        "    with torch.no_grad():\n",
        "        correct = 0\n",
        "        total = 0\n",
        "        for images, labels in test_loader:\n",
        "            images, labels = images.to(device), labels.to(device)\n",
        "            outputs = model(images)\n",
        "            _, predicted = torch.max(outputs.data, 1)\n",
        "            total += labels.size(0)\n",
        "            correct += (predicted == labels).sum().item()\n",
        "\n",
        "    accuracy = 100 * correct / total\n",
        "    print(f'Accuracy on test images: {accuracy:.2f} %\\n')\n",
        "\n",
        "    return {'depth': depth, 'activation': activation, 'accuracy': accuracy, 'time': training_time}"
      ]
    },
    {
      "cell_type": "markdown",
      "metadata": {
        "id": "mSGF1NYbn8rM"
      },
      "source": [
        "## Step 6: Run the Experiments!"
      ]
    },
    {
      "cell_type": "code",
      "execution_count": 13,
      "metadata": {
        "colab": {
          "base_uri": "https://localhost:8080/"
        },
        "id": "hmXxqgcin8rM",
        "outputId": "d916f61a-4237-4842-d34e-59154e9fdc12"
      },
      "outputs": [
        {
          "output_type": "stream",
          "name": "stdout",
          "text": [
            "--- Starting Experiment: Depth=1, Activation=relu ---\n",
            "Epoch [1/4], Loss: 0.0888\n",
            "Epoch [2/4], Loss: 0.0766\n",
            "Epoch [3/4], Loss: 0.1944\n",
            "Epoch [4/4], Loss: 0.1878\n",
            "Finished Training in 125.54s\n",
            "Accuracy on test images: 97.87 %\n",
            "\n",
            "--- Starting Experiment: Depth=2, Activation=relu ---\n",
            "Epoch [1/4], Loss: 0.0664\n",
            "Epoch [2/4], Loss: 0.0818\n",
            "Epoch [3/4], Loss: 0.0130\n",
            "Epoch [4/4], Loss: 0.0471\n",
            "Finished Training in 190.57s\n",
            "Accuracy on test images: 98.79 %\n",
            "\n",
            "--- Starting Experiment: Depth=3, Activation=relu ---\n",
            "Epoch [1/4], Loss: 0.0936\n",
            "Epoch [2/4], Loss: 0.0109\n",
            "Epoch [3/4], Loss: 0.0160\n",
            "Epoch [4/4], Loss: 0.0200\n",
            "Finished Training in 221.18s\n",
            "Accuracy on test images: 98.95 %\n",
            "\n",
            "--- Starting Experiment: Depth=2, Activation=leakyrelu ---\n",
            "Epoch [1/4], Loss: 0.0620\n",
            "Epoch [2/4], Loss: 0.0970\n",
            "Epoch [3/4], Loss: 0.0932\n",
            "Epoch [4/4], Loss: 0.0285\n",
            "Finished Training in 183.25s\n",
            "Accuracy on test images: 98.79 %\n",
            "\n",
            "--- Starting Experiment: Depth=2, Activation=tanh ---\n",
            "Epoch [1/4], Loss: 0.1221\n",
            "Epoch [2/4], Loss: 0.0750\n",
            "Epoch [3/4], Loss: 0.0399\n",
            "Epoch [4/4], Loss: 0.0095\n",
            "Finished Training in 201.34s\n",
            "Accuracy on test images: 98.67 %\n",
            "\n"
          ]
        }
      ],
      "source": [
        "results = []\n",
        "\n",
        "# --- Part A: Comparing Depth (with ReLU) ---\n",
        "results.append(run_experiment(depth=1, activation='relu'))\n",
        "results.append(run_experiment(depth=2, activation='relu'))\n",
        "results.append(run_experiment(depth=3, activation='relu'))\n",
        "\n",
        "# --- Part B: Comparing Activation Functions (with Depth=2) ---\n",
        "# We already ran ReLU with depth=2, so we just need the others.\n",
        "results.append(run_experiment(depth=2, activation='leakyrelu'))\n",
        "results.append(run_experiment(depth=2, activation='tanh'))"
      ]
    },
    {
      "cell_type": "markdown",
      "metadata": {
        "id": "9hU-N3M3n8rM"
      },
      "source": [
        "## Step 7: Summary and Analysis of Results\n"
      ]
    },
    {
      "cell_type": "code",
      "execution_count": 14,
      "metadata": {
        "colab": {
          "base_uri": "https://localhost:8080/"
        },
        "id": "HzyjkqbBn8rM",
        "outputId": "f471bb9e-263c-4882-f6af-4f7f49778e13"
      },
      "outputs": [
        {
          "output_type": "stream",
          "name": "stdout",
          "text": [
            "--- Final Experiment Results ---\n",
            "----------------------------------------\n",
            "Depth      Activation      Accuracy (%)    Time (s)  \n",
            "----------------------------------------\n",
            "1          relu            97.87           125.54    \n",
            "2          relu            98.79           190.57    \n",
            "3          relu            98.95           221.18    \n",
            "2          leakyrelu       98.79           183.25    \n",
            "2          tanh            98.67           201.34    \n",
            "----------------------------------------\n"
          ]
        }
      ],
      "source": [
        "print(\"--- Final Experiment Results ---\")\n",
        "print(\"-\" * 40)\n",
        "print(f\"{'Depth':<10} {'Activation':<15} {'Accuracy (%)':<15} {'Time (s)':<10}\")\n",
        "print(\"-\" * 40)\n",
        "for res in results:\n",
        "    print(f\"{res['depth']:<10} {res['activation']:<15} {res['accuracy']:<15.2f} {res['time']:<10.2f}\")\n",
        "print(\"-\" * 40)"
      ]
    },
    {
      "cell_type": "markdown",
      "metadata": {
        "id": "ndcQLeMFn8rM"
      },
      "source": [
        "### Detailed Analysis & Intuition\n",
        "\n",
        "#### 1. The Impact of Depth\n",
        "\n",
        "When comparing the models with `depth=1`, `depth=2`, and `depth=3` (all using ReLU), you will almost certainly see that **accuracy increases with depth**.\n",
        "\n",
        "- **Depth 1 (Shallow Network)**: This model can only learn very simple features, like basic edges, corners, and gradients. Its performance is limited because it cannot combine these simple features into more complex concepts.\n",
        "\n",
        "- **Depth 2 (Deeper Network)**: The second convolutional layer takes the features from the first layer (edges, corners) as input. It can then learn to combine them into more complex patterns, like simple shapes, curves, and parts of digits (e.g., the loop in a '6' or the straight line in a '1'). This ability to build a **hierarchy of features** is why deeper networks are more powerful.\n",
        "\n",
        "- **Depth 3 (Deepest Network)**: This model adds another layer to the hierarchy. It can learn even more abstract and complex combinations of features, potentially recognizing entire digits or specific styles of handwriting. While performance might still improve, you may start to see diminishing returns. For a simple problem like MNIST, a very deep network can sometimes overfit.\n",
        "\n",
        "You'll also notice that **training time increases with depth**. This is because there are more layers to pass data through (forward pass) and more gradients to calculate (backward pass).\n",
        "\n",
        "#### 2. The Impact of Non-Linearity (Activation Functions)\n",
        "\n",
        "When comparing ReLU, Leaky ReLU, and Tanh at a fixed `depth=2`, you'll likely observe the following:\n",
        "\n",
        "- **ReLU**: This is the modern default and usually performs the best. It's computationally very efficient and helps mitigate the **vanishing gradient problem**. Because its gradient is either 0 or 1, it allows gradients to flow easily through the network during backpropagation for all positive inputs.\n",
        "\n",
        "- **Leaky ReLU**: This is a small improvement on ReLU. It addresses the \"dying ReLU\" problem (where neurons can get stuck in a state where they only output zero) by allowing a small, non-zero gradient when the input is negative. This can sometimes lead to slightly better and more consistent training, though the difference might be small on this dataset.\n",
        "\n",
        "- **Tanh**: This activation function often performs the worst of the three, especially in deeper networks. Like the sigmoid function, its outputs are squashed into a small range (-1 to 1). This causes its gradients to be very small when the inputs are large or small, leading to the **vanishing gradient problem**. The gradients become so tiny as they are backpropagated through the layers that the weights in the early layers of the network barely update. This severely slows down or even halts the learning process.\n",
        "\n",
        "### Final Conclusion\n",
        "\n",
        "Through these experiments, we've demonstrated two fundamental principles of modern deep learning:\n",
        "1.  **Depth is crucial for performance**: Deeper networks can build a hierarchy of features, allowing them to learn more complex patterns than shallow networks.\n",
        "2.  **The choice of activation function matters**: Functions like ReLU and its variants prevent the vanishing gradient problem, enabling the effective training of these deeper networks."
      ]
    },
    {
      "cell_type": "code",
      "source": [],
      "metadata": {
        "id": "9Unsferix_Ku"
      },
      "execution_count": null,
      "outputs": []
    }
  ],
  "metadata": {
    "kernelspec": {
      "display_name": "Python 3",
      "language": "python",
      "name": "python3"
    },
    "language_info": {
      "codemirror_mode": {
        "name": "ipython",
        "version": 3
      },
      "file_extension": ".py",
      "mimetype": "text/x-python",
      "name": "python",
      "nbconvert_exporter": "python",
      "pygments_lexer": "ipython3",
      "version": "3.9.7"
    },
    "colab": {
      "provenance": []
    }
  },
  "nbformat": 4,
  "nbformat_minor": 0
}