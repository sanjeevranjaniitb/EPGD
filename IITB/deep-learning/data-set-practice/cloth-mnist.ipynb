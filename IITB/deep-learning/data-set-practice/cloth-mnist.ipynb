{
 "cells": [
  {
   "cell_type": "code",
   "execution_count": 1,
   "id": "0ebfc4c6",
   "metadata": {},
   "outputs": [
    {
     "name": "stdout",
     "output_type": "stream",
     "text": [
      "Downloading http://fashion-mnist.s3-website.eu-central-1.amazonaws.com/train-images-idx3-ubyte.gz\n",
      "Downloading http://fashion-mnist.s3-website.eu-central-1.amazonaws.com/train-images-idx3-ubyte.gz to ./data/FashionMNIST/raw/train-images-idx3-ubyte.gz\n"
     ]
    },
    {
     "name": "stderr",
     "output_type": "stream",
     "text": [
      "100%|██████████| 26.4M/26.4M [00:03<00:00, 8.65MB/s]\n"
     ]
    },
    {
     "name": "stdout",
     "output_type": "stream",
     "text": [
      "Extracting ./data/FashionMNIST/raw/train-images-idx3-ubyte.gz to ./data/FashionMNIST/raw\n",
      "\n",
      "Downloading http://fashion-mnist.s3-website.eu-central-1.amazonaws.com/train-labels-idx1-ubyte.gz\n",
      "Downloading http://fashion-mnist.s3-website.eu-central-1.amazonaws.com/train-labels-idx1-ubyte.gz to ./data/FashionMNIST/raw/train-labels-idx1-ubyte.gz\n"
     ]
    },
    {
     "name": "stderr",
     "output_type": "stream",
     "text": [
      "100%|██████████| 29.5k/29.5k [00:00<00:00, 238kB/s]\n"
     ]
    },
    {
     "name": "stdout",
     "output_type": "stream",
     "text": [
      "Extracting ./data/FashionMNIST/raw/train-labels-idx1-ubyte.gz to ./data/FashionMNIST/raw\n",
      "\n",
      "Downloading http://fashion-mnist.s3-website.eu-central-1.amazonaws.com/t10k-images-idx3-ubyte.gz\n",
      "Downloading http://fashion-mnist.s3-website.eu-central-1.amazonaws.com/t10k-images-idx3-ubyte.gz to ./data/FashionMNIST/raw/t10k-images-idx3-ubyte.gz\n"
     ]
    },
    {
     "name": "stderr",
     "output_type": "stream",
     "text": [
      "100%|██████████| 4.42M/4.42M [00:01<00:00, 4.12MB/s]\n"
     ]
    },
    {
     "name": "stdout",
     "output_type": "stream",
     "text": [
      "Extracting ./data/FashionMNIST/raw/t10k-images-idx3-ubyte.gz to ./data/FashionMNIST/raw\n",
      "\n",
      "Downloading http://fashion-mnist.s3-website.eu-central-1.amazonaws.com/t10k-labels-idx1-ubyte.gz\n",
      "Downloading http://fashion-mnist.s3-website.eu-central-1.amazonaws.com/t10k-labels-idx1-ubyte.gz to ./data/FashionMNIST/raw/t10k-labels-idx1-ubyte.gz\n"
     ]
    },
    {
     "name": "stderr",
     "output_type": "stream",
     "text": [
      "100%|██████████| 5.15k/5.15k [00:00<00:00, 4.80MB/s]\n"
     ]
    },
    {
     "name": "stdout",
     "output_type": "stream",
     "text": [
      "Extracting ./data/FashionMNIST/raw/t10k-labels-idx1-ubyte.gz to ./data/FashionMNIST/raw\n",
      "\n"
     ]
    },
    {
     "data": {
      "image/png": "[encoded data removed]",
      "text/plain": [
       "<Figure size 640x480 with 1 Axes>"
      ]
     },
     "metadata": {},
     "output_type": "display_data"
    },
    {
     "name": "stdout",
     "output_type": "stream",
     "text": [
      "Predicted: Ankle boot, Actual: Ankle boot\n"
     ]
    },
    {
     "name": "stderr",
     "output_type": "stream",
     "text": [
      "/var/folders/z1/zxygp94n0ql_jmf4hd8t_5zc0000gn/T/ipykernel_60172/134817578.py:55: FutureWarning: You are using `torch.load` with `weights_only=False` (the current default value), which uses the default pickle module implicitly. It is possible to construct malicious pickle data which will execute arbitrary code during unpickling (See https://github.com/pytorch/pytorch/blob/main/SECURITY.md#untrusted-models for more details). In a future release, the default value for `weights_only` will be flipped to `True`. This limits the functions that could be executed during unpickling. Arbitrary objects will no longer be allowed to be loaded via this mode unless they are explicitly allowlisted by the user via `torch.serialization.add_safe_globals`. We recommend you start setting `weights_only=True` for any use case where you don't have full control of the loaded file. Please open an issue on GitHub for any issues related to this experimental feature.\n",
      "  model2.load_state_dict(torch.load('cloth_mnist_model.pth'))\n"
     ]
    }
   ],
   "source": [
    "import torch\n",
    "import torchvision\n",
    "from torchvision import transforms\n",
    "\n",
    "import matplotlib.pyplot as plt\n",
    "\n",
    "# Download and load the FashionMNIST dataset (often called \"cloth MNIST\")\n",
    "transform = transforms.Compose([transforms.ToTensor()])\n",
    "trainset = torchvision.datasets.FashionMNIST(root='./data', train=True, download=True, transform=transform)\n",
    "testset = torchvision.datasets.FashionMNIST(root='./data', train=False, download=True, transform=transform)\n",
    "\n",
    "# Show an example image and label\n",
    "classes = trainset.classes\n",
    "image, label = trainset[0]\n",
    "plt.imshow(image.squeeze(), cmap='gray')\n",
    "plt.title(f'Label: {classes[label]}')\n",
    "plt.show()\n",
    "\n",
    "# Define a simple neural network model\n",
    "import torch.nn as nn\n",
    "import torch.nn.functional as F\n",
    "\n",
    "class SimpleClothMNISTModel(nn.Module):\n",
    "    def __init__(self):\n",
    "        super().__init__()\n",
    "        self.fc1 = nn.Linear(28*28, 128)\n",
    "        self.fc2 = nn.Linear(128, 64)\n",
    "        self.fc3 = nn.Linear(64, 10)\n",
    "    def forward(self, x):\n",
    "        x = x.view(-1, 28*28)\n",
    "        x = F.relu(self.fc1(x))\n",
    "        x = F.relu(self.fc2(x))\n",
    "        x = self.fc3(x)\n",
    "        return x\n",
    "\n",
    "# Instantiate and train the model (quick demo, not full training)\n",
    "model = SimpleClothMNISTModel()\n",
    "optimizer = torch.optim.Adam(model.parameters(), lr=0.001)\n",
    "criterion = nn.CrossEntropyLoss()\n",
    "\n",
    "# Train for 1 epoch for demonstration\n",
    "for images, labels in torch.utils.data.DataLoader(trainset, batch_size=64, shuffle=True):\n",
    "    optimizer.zero_grad()\n",
    "    outputs = model(images)\n",
    "    loss = criterion(outputs, labels)\n",
    "    loss.backward()\n",
    "    optimizer.step()\n",
    "    break  # Only one batch for demo\n",
    "\n",
    "# Save the trained model\n",
    "torch.save(model.state_dict(), 'cloth_mnist_model.pth')\n",
    "\n",
    "# Reuse: Load the model and make a prediction\n",
    "model2 = SimpleClothMNISTModel()\n",
    "model2.load_state_dict(torch.load('cloth_mnist_model.pth'))\n",
    "model2.eval()\n",
    "with torch.no_grad():\n",
    "    sample_img, sample_label = testset[0]\n",
    "    output = model2(sample_img.unsqueeze(0))\n",
    "    pred_label = output.argmax(dim=1).item()\n",
    "    print(f'Predicted: {classes[pred_label]}, Actual: {classes[sample_label]}')"
   ]
  },
  {
   "cell_type": "code",
   "execution_count": 2,
   "id": "457a4704",
   "metadata": {},
   "outputs": [
    {
     "name": "stdout",
     "output_type": "stream",
     "text": [
      "Epoch 1, Loss: 2.2922\n",
      "Epoch 2, Loss: 2.1889\n",
      "Advanced Model Predicted: Pullover, Actual: Pullover\n"
     ]
    },
    {
     "data": {
      "image/png": "[encoded data removed]",
      "text/plain": [
       "<Figure size 640x480 with 1 Axes>"
      ]
     },
     "metadata": {},
     "output_type": "display_data"
    }
   ],
   "source": [
    "# Step 1: Define a more advanced neural network model for FashionMNIST\n",
    "# This model uses convolutional layers for better image feature extraction.\n",
    "\n",
    "class AdvancedClothMNISTModel(nn.Module):\n",
    "    \"\"\"\n",
    "    A convolutional neural network for FashionMNIST classification.\n",
    "    Architecture:\n",
    "    - 2 convolutional layers with ReLU and MaxPool\n",
    "    - 2 fully connected layers\n",
    "    \"\"\"\n",
    "    def __init__(self):\n",
    "        super().__init__()\n",
    "        self.conv1 = nn.Conv2d(1, 16, kernel_size=3, padding=1)\n",
    "        self.conv2 = nn.Conv2d(16, 32, kernel_size=3, padding=1)\n",
    "        self.pool = nn.MaxPool2d(2, 2)\n",
    "        self.fc1 = nn.Linear(32 * 7 * 7, 128)\n",
    "        self.fc2 = nn.Linear(128, 10)\n",
    "    def forward(self, x):\n",
    "        x = self.pool(F.relu(self.conv1(x)))\n",
    "        x = self.pool(F.relu(self.conv2(x)))\n",
    "        x = x.view(-1, 32 * 7 * 7)\n",
    "        x = F.relu(self.fc1(x))\n",
    "        x = self.fc2(x)\n",
    "        return x\n",
    "\n",
    "# Step 2: Instantiate the new model, optimizer, and loss function\n",
    "advanced_model = AdvancedClothMNISTModel()\n",
    "advanced_optimizer = torch.optim.Adam(advanced_model.parameters(), lr=0.001)\n",
    "advanced_criterion = nn.CrossEntropyLoss()\n",
    "\n",
    "# Step 3: Train the model for a few epochs on the FashionMNIST dataset\n",
    "# For demonstration, we use only a few batches\n",
    "\n",
    "for epoch in range(2):  # 2 epochs for example\n",
    "    running_loss = 0.0\n",
    "    for i, (images, labels) in enumerate(torch.utils.data.DataLoader(trainset, batch_size=64, shuffle=True)):\n",
    "        advanced_optimizer.zero_grad()\n",
    "        outputs = advanced_model(images)\n",
    "        loss = advanced_criterion(outputs, labels)\n",
    "        loss.backward()\n",
    "        advanced_optimizer.step()\n",
    "        running_loss += loss.item()\n",
    "        if i == 4:  # Only 5 batches for quick demo\n",
    "            break\n",
    "    print(f\"Epoch {epoch+1}, Loss: {running_loss/5:.4f}\")\n",
    "\n",
    "# Step 4: Save the trained advanced model\n",
    "torch.save(advanced_model.state_dict(), 'advanced_cloth_mnist_model.pth')\n",
    "\n",
    "# Step 5: Load the model and make a prediction on a test image\n",
    "advanced_model.eval()\n",
    "with torch.no_grad():\n",
    "    test_img, test_label = testset[1]  # Pick a different cloth for example\n",
    "    output = advanced_model(test_img.unsqueeze(0))\n",
    "    pred_label = output.argmax(dim=1).item()\n",
    "    print(f'Advanced Model Predicted: {classes[pred_label]}, Actual: {classes[test_label]}')\n",
    "\n",
    "# Step 6: Visualize the test image and prediction\n",
    "plt.imshow(test_img.squeeze(), cmap='gray')\n",
    "plt.title(f'Predicted: {classes[pred_label]}, Actual: {classes[test_label]}')\n",
    "plt.show()\n",
    "\n",
    "# Documentation:\n",
    "# 1. We defined a convolutional neural network for better accuracy on image data.\n",
    "# 2. The model was trained for a few batches for demonstration purposes.\n",
    "# 3. We saved and loaded the model, then made a prediction on a test image.\n",
    "# 4. The prediction and actual label are displayed along with the image."
   ]
  }
 ],
 "metadata": {
  "kernelspec": {
   "display_name": "base",
   "language": "python",
   "name": "python3"
  },
  "language_info": {
   "codemirror_mode": {
    "name": "ipython",
    "version": 3
   },
   "file_extension": ".py",
   "mimetype": "text/x-python",
   "name": "python",
   "nbconvert_exporter": "python",
   "pygments_lexer": "ipython3",
   "version": "3.12.7"
  }
 },
 "nbformat": 4,
 "nbformat_minor": 5
}
