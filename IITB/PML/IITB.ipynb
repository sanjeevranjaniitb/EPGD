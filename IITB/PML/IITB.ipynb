{
 "cells": [
  {
   "cell_type": "code",
   "execution_count": 1,
   "metadata": {
    "id": "5ul-sFRiWCf8"
   },
   "outputs": [],
   "source": [
    "import numpy as np\n",
    "import matplotlib.pyplot as plt"
   ]
  },
  {
   "cell_type": "markdown",
   "metadata": {
    "id": "ciIZd2xipDv0"
   },
   "source": [
    "##1.1:  Basic Array Operations[5 marks]\n",
    "1.  Create a NumPy array with values from 0 to 10, reshape it into a 5×2 matrix, and printit.\n",
    "2.  Generate an array of 50 random numbers between 1 and 100.\n",
    "3.  Create an identity matrix of size 3×3 and multiply it by 2.\n",
    "4.  GivenX=np.array([1, 2, 3, 4, 5]), compute:•Mean, median, variance, and standard deviation.\n",
    "5.  Compute the dot product of two vectors:a= [1,2,3] andb= [4,5,6]."
   ]
  },
  {
   "cell_type": "code",
   "execution_count": 2,
   "metadata": {
    "colab": {
     "base_uri": "https://localhost:8080/"
    },
    "id": "EsQBw2PqpPmc",
    "outputId": "8555b3e3-deb2-4e60-c97a-3c4ab543a27e"
   },
   "outputs": [
    {
     "name": "stdout",
     "output_type": "stream",
     "text": [
      "[ 0  1  2  3  4  5  6  7  8  9 10]\n"
     ]
    },
    {
     "data": {
      "text/plain": [
       "(11,)"
      ]
     },
     "execution_count": 2,
     "metadata": {},
     "output_type": "execute_result"
    }
   ],
   "source": [
    "a = np.array(range(0,11))\n",
    "print(a)\n",
    "a.shape\n",
    "#If the array has the numbers from 0 to 10 including 10 it has 11 values and cant be reshaped into a 5x2 matrix"
   ]
  },
  {
   "cell_type": "code",
   "execution_count": 3,
   "metadata": {
    "colab": {
     "base_uri": "https://localhost:8080/"
    },
    "id": "7Hqsj5-MqVQx",
    "outputId": "f9290d71-7b32-4575-ccde-b7cd5b657102"
   },
   "outputs": [
    {
     "data": {
      "text/plain": [
       "array([[0, 1],\n",
       "       [2, 3],\n",
       "       [4, 5],\n",
       "       [6, 7],\n",
       "       [8, 9]])"
      ]
     },
     "execution_count": 3,
     "metadata": {},
     "output_type": "execute_result"
    }
   ],
   "source": [
    "#if the array is exclusive then it will work\n",
    "a_new = np.arange(10)\n",
    "a_new.reshape(5,2)"
   ]
  },
  {
   "cell_type": "code",
   "execution_count": 4,
   "metadata": {
    "colab": {
     "base_uri": "https://localhost:8080/"
    },
    "id": "VleozF6Vqp-k",
    "outputId": "8eda4b7b-60cf-4682-8b34-459fc39bed8c"
   },
   "outputs": [
    {
     "data": {
      "text/plain": [
       "array([ 7,  9, 24, 84, 89,  2, 74, 52, 96, 87, 85, 82, 42, 66, 40,  5, 50,\n",
       "       10, 10, 20, 17, 79, 50, 58, 28,  6, 72, 25, 80,  3, 33, 87, 90, 46,\n",
       "       50, 76, 79, 58, 93, 22,  4, 61,  2, 79, 98,  6, 78, 65, 59, 11])"
      ]
     },
     "execution_count": 4,
     "metadata": {},
     "output_type": "execute_result"
    }
   ],
   "source": [
    "b = np.random.randint(1,100,50)\n",
    "b"
   ]
  },
  {
   "cell_type": "code",
   "execution_count": 5,
   "metadata": {
    "colab": {
     "base_uri": "https://localhost:8080/"
    },
    "id": "9p-g-NuscV-T",
    "outputId": "17e61053-b100-4d8d-b6ad-c360aa137825"
   },
   "outputs": [
    {
     "name": "stdout",
     "output_type": "stream",
     "text": [
      "[[1. 0. 0.]\n",
      " [0. 1. 0.]\n",
      " [0. 0. 1.]]\n",
      "\n",
      "[[2. 0. 0.]\n",
      " [0. 2. 0.]\n",
      " [0. 0. 2.]]\n"
     ]
    }
   ],
   "source": [
    "im = np.identity(3)\n",
    "print(im)\n",
    "print()\n",
    "print(im * 2)"
   ]
  },
  {
   "cell_type": "code",
   "execution_count": 6,
   "metadata": {
    "colab": {
     "base_uri": "https://localhost:8080/"
    },
    "id": "4oNnHyKj7eZ5",
    "outputId": "e01c4eee-1cdb-48a7-911a-25e06b318be0"
   },
   "outputs": [
    {
     "name": "stdout",
     "output_type": "stream",
     "text": [
      "3.0\n",
      "3.0\n",
      "2.0\n",
      "1.4142135623730951\n"
     ]
    }
   ],
   "source": [
    "c = np.array([1,2,3,4,5])\n",
    "print(c.mean())\n",
    "print(np.median(c))\n",
    "print(c.var())\n",
    "print(c.std())"
   ]
  },
  {
   "cell_type": "code",
   "execution_count": 7,
   "metadata": {
    "colab": {
     "base_uri": "https://localhost:8080/"
    },
    "id": "tBXGZzLe714X",
    "outputId": "ef0f578e-9184-4f68-8db6-8bd64f58f8de"
   },
   "outputs": [
    {
     "name": "stdout",
     "output_type": "stream",
     "text": [
      "32\n",
      "[ 4 10 18]\n"
     ]
    }
   ],
   "source": [
    "d= np.array([1,2,3])\n",
    "e= np.array([4,5,6])\n",
    "print(np.dot(d,e))\n",
    "print(d*e)"
   ]
  },
  {
   "cell_type": "markdown",
   "metadata": {
    "id": "ze2G8tz39b0d"
   },
   "source": [
    "1.2:  Working with Data (Loading and Preprocessing)[5 marks]\n",
    "1.  Generate a dataset of 100 samples where:\n",
    "  - X is a random feature between 1 and 10.\n",
    "  - y= 3X+ noise (where noise is a small random value).\n",
    "2.  Convert the dataset into a NumPy array and reshape X into a column vector of shape(100,1).\n",
    "3.  Normalize X so that it has a mean of 0 and a standard deviation of 1.\n",
    "4.  Split the dataset into training (80%) and testing (20%) using NumPy.\n",
    "5.  Compute the correlation coefficient between X and y to check if there is a linear relationship."
   ]
  },
  {
   "cell_type": "code",
   "execution_count": 8,
   "metadata": {
    "colab": {
     "base_uri": "https://localhost:8080/"
    },
    "id": "pXO0cHGls5XX",
    "outputId": "35e74497-cf68-4a27-af83-635fcdc5c4fc"
   },
   "outputs": [
    {
     "name": "stdout",
     "output_type": "stream",
     "text": [
      "          X          y\n",
      "0  4.370861  13.286677\n",
      "1  9.556429  28.071272\n",
      "2  7.587945  22.947358\n",
      "3  6.387926  15.188641\n",
      "4  2.404168   6.773160\n"
     ]
    }
   ],
   "source": [
    "import numpy as np\n",
    "import pandas as pd\n",
    "\n",
    "# Set a seed for reproducibility\n",
    "np.random.seed(42)\n",
    "\n",
    "# Generate 100 samples\n",
    "num_samples = 100\n",
    "\n",
    "# Generate random feature X between 1 and 10\n",
    "X = np.random.uniform(1, 10, num_samples)\n",
    "\n",
    "# Generate noise (small random values)\n",
    "noise = np.random.normal(0, 2, num_samples)  # Mean 0, standard deviation 2\n",
    "\n",
    "# Generate y = 3X + noise\n",
    "y = 3 * X + noise\n",
    "\n",
    "# Create a Pandas DataFrame to store the dataset\n",
    "data = pd.DataFrame({'X': X, 'y': y})\n",
    "\n",
    "# Print the first 5 rows of the dataset\n",
    "print(data.head())\n",
    "\n",
    "# Optionally, you can save the dataset to a CSV file\n",
    "# data.to_csv('generated_dataset.csv', index=False)"
   ]
  },
  {
   "cell_type": "code",
   "execution_count": 9,
   "metadata": {
    "colab": {
     "base_uri": "https://localhost:8080/"
    },
    "id": "yDGnQtMvusVi",
    "outputId": "aef1fc09-1631-464f-ab68-129aebf8404a"
   },
   "outputs": [
    {
     "data": {
      "text/plain": [
       "(100, 1)"
      ]
     },
     "execution_count": 9,
     "metadata": {},
     "output_type": "execute_result"
    }
   ],
   "source": [
    "X_arr = np.array(data[\"X\"])\n",
    "Xarr = X_arr.reshape(100,1)\n",
    "Xarr.shape"
   ]
  },
  {
   "cell_type": "code",
   "execution_count": 11,
   "metadata": {
    "id": "4gTkZd-7usSs"
   },
   "outputs": [
    {
     "name": "stdout",
     "output_type": "stream",
     "text": [
      "5.231626690403885\n"
     ]
    }
   ],
   "source": [
    "Xmean = Xarr.mean()\n",
    "Xsd = Xarr.std()\n",
    "\n",
    "X_normalised = (Xarr - Xmean)/Xsd\n"
   ]
  },
  {
   "cell_type": "code",
   "execution_count": 7,
   "metadata": {
    "id": "K--BOS3extq0"
   },
   "outputs": [],
   "source": [
    "Y_arr = np.array(data[\"y\"]).reshape(100,1)"
   ]
  },
  {
   "cell_type": "code",
   "execution_count": 8,
   "metadata": {
    "colab": {
     "base_uri": "https://localhost:8080/"
    },
    "id": "qqF0KAw-yUcQ",
    "outputId": "9fb8b847-f7ea-4c8f-a348-61cbb1632892"
   },
   "outputs": [
    {
     "name": "stdout",
     "output_type": "stream",
     "text": [
      "X_train shape: (80, 1)\n",
      "X_test shape: (20, 1)\n",
      "y_train shape: (80, 1)\n",
      "y_test shape: (20, 1)\n"
     ]
    }
   ],
   "source": [
    "split_index = int(.8 * num_samples)\n",
    "\n",
    "# Split the dataset into training and testing sets\n",
    "X_train = X_normalised[:split_index]\n",
    "X_test = X_normalised[split_index:]\n",
    "y_train = Y_arr[:split_index]\n",
    "y_test = Y_arr[split_index:]\n",
    "\n",
    "# Print the shapes of the training and testing sets\n",
    "print(\"X_train shape:\", X_train.shape)\n",
    "print(\"X_test shape:\", X_test.shape)\n",
    "print(\"y_train shape:\", y_train.shape)\n",
    "print(\"y_test shape:\", y_test.shape)\n"
   ]
  },
  {
   "cell_type": "code",
   "execution_count": 9,
   "metadata": {
    "colab": {
     "base_uri": "https://localhost:8080/"
    },
    "id": "iDE0eMnMyUYv",
    "outputId": "2e06da62-426d-4db4-ea3a-45e4b095a5cc"
   },
   "outputs": [
    {
     "name": "stdout",
     "output_type": "stream",
     "text": [
      "Correlation Coefficient between X and y: 0.9739827967956117\n"
     ]
    }
   ],
   "source": [
    "# Calculate the correlation coefficient\n",
    "#np.corrcoef expects 1D arrays as input. Therefore, we use .flatten() to convert the reshaped X_normalized and y_reshaped (which are 2D column vectors) into 1D arrays.\n",
    "correlation_coefficient = np.corrcoef(X_normalised.flatten(),Y_arr.flatten())[0, 1]\n",
    "\n",
    "# Print the correlation coefficient\n",
    "print(\"Correlation Coefficient between X and y:\", correlation_coefficient)"
   ]
  },
  {
   "cell_type": "markdown",
   "metadata": {
    "id": "F6o0ulGM2g39"
   },
   "source": [
    "1.3:  Visualizing Data with Matplotlib[5 marks]\n",
    "1.  Plot a scatter plot of X vs.y.\n",
    "2.  Add a title, labels, and adjust the size of data points.\n",
    "3.  Plot a histogram of y to understand the distribution.\n",
    "4.  Generate and plot two different trend lines:\n",
    "- y= 2X+ 5\n",
    "- y= 4X−35.\n",
    "- Visualize the data distribution using a boxplot."
   ]
  },
  {
   "cell_type": "code",
   "execution_count": null,
   "metadata": {
    "colab": {
     "base_uri": "https://localhost:8080/",
     "height": 472
    },
    "id": "FOUApbvt0wy-",
    "outputId": "f59eb003-7bb6-47bf-9137-9cedbe9b0370"
   },
   "outputs": [
    {
     "data": {
      "image/png": "[encoded data removed]",
      "text/plain": [
       "<Figure size 640x480 with 1 Axes>"
      ]
     },
     "metadata": {},
     "output_type": "display_data"
    }
   ],
   "source": [
    "plt.scatter(data['X'], data['y'])\n",
    "plt.xlabel('X')\n",
    "plt.ylabel('y')\n",
    "plt.title('Scatter Plot of X vs. y')\n",
    "plt.show()"
   ]
  },
  {
   "cell_type": "code",
   "execution_count": null,
   "metadata": {
    "colab": {
     "base_uri": "https://localhost:8080/",
     "height": 472
    },
    "id": "h6XbbUVg4OF7",
    "outputId": "aa63b20d-c92f-42c0-a046-c57227f19b03"
   },
   "outputs": [
    {
     "data": {
      "image/png": "[encoded data removed]",
      "text/plain": [
       "<Figure size 640x480 with 1 Axes>"
      ]
     },
     "metadata": {},
     "output_type": "display_data"
    }
   ],
   "source": [
    "plt.hist(data[\"y\"])\n",
    "plt.xlabel('y')\n",
    "plt.ylabel('frequency')\n",
    "plt.title('Histogram')\n",
    "plt.show()"
   ]
  },
  {
   "cell_type": "code",
   "execution_count": 7,
   "metadata": {
    "colab": {
     "base_uri": "https://localhost:8080/",
     "height": 564
    },
    "id": "FXMHRQuD4maw",
    "outputId": "79110036-6895-4252-89d5-af890376be3f"
   },
   "outputs": [
    {
     "ename": "NameError",
     "evalue": "name 'X' is not defined",
     "output_type": "error",
     "traceback": [
      "\u001b[0;31m---------------------------------------------------------------------------\u001b[0m",
      "\u001b[0;31mNameError\u001b[0m                                 Traceback (most recent call last)",
      "Cell \u001b[0;32mIn[7], line 2\u001b[0m\n\u001b[1;32m      1\u001b[0m \u001b[38;5;66;03m# Generate trend line data\u001b[39;00m\n\u001b[0;32m----> 2\u001b[0m x_range \u001b[38;5;241m=\u001b[39m np\u001b[38;5;241m.\u001b[39mlinspace(\u001b[38;5;28mmin\u001b[39m(X), \u001b[38;5;28mmax\u001b[39m(X), \u001b[38;5;241m100\u001b[39m)  \u001b[38;5;66;03m# Range of x values for plotting trend lines\u001b[39;00m\n\u001b[1;32m      3\u001b[0m y_trend1 \u001b[38;5;241m=\u001b[39m \u001b[38;5;241m2\u001b[39m \u001b[38;5;241m*\u001b[39m x_range \u001b[38;5;241m+\u001b[39m \u001b[38;5;241m5\u001b[39m\n\u001b[1;32m      4\u001b[0m y_trend2 \u001b[38;5;241m=\u001b[39m \u001b[38;5;241m4\u001b[39m \u001b[38;5;241m*\u001b[39m x_range \u001b[38;5;241m-\u001b[39m \u001b[38;5;241m35\u001b[39m\n",
      "\u001b[0;31mNameError\u001b[0m: name 'X' is not defined"
     ]
    }
   ],
   "source": [
    "# Generate trend line data\n",
    "x_range = np.linspace(min(X), max(X), 100)  # Range of x values for plotting trend lines\n",
    "y_trend1 = 2 * x_range + 5\n",
    "y_trend2 = 4 * x_range - 35\n",
    "\n",
    "# Plot scatter plot and trend lines\n",
    "plt.figure(figsize=(10, 6))\n",
    "plt.scatter(data['X'], data['y'], label='Data Points')\n",
    "plt.plot(x_range, y_trend1, color='red', label='y = 2X + 5')\n",
    "plt.plot(x_range, y_trend2, color='green', label='y = 4X - 35')\n",
    "plt.xlabel('X')\n",
    "plt.ylabel('y')\n",
    "plt.title('Scatter Plot with Trend Lines')\n",
    "plt.legend()\n",
    "plt.show()"
   ]
  },
  {
   "cell_type": "markdown",
   "metadata": {
    "id": "_CTW-27mAsGK"
   },
   "source": [
    "##2.1:  Construct the Functions using NumPy[5 Marks]\n"
   ]
  },
  {
   "cell_type": "code",
   "execution_count": null,
   "metadata": {
    "colab": {
     "base_uri": "https://localhost:8080/"
    },
    "id": "qb2VMhs3AWfI",
    "outputId": "508f0d17-8df2-4b7b-a021-ec035d528d7a"
   },
   "outputs": [
    {
     "data": {
      "text/plain": [
       "(200,)"
      ]
     },
     "execution_count": 61,
     "metadata": {},
     "output_type": "execute_result"
    }
   ],
   "source": [
    "x = np.linspace(0,10,200)\n",
    "x.shape"
   ]
  },
  {
   "cell_type": "code",
   "execution_count": null,
   "metadata": {
    "colab": {
     "base_uri": "https://localhost:8080/"
    },
    "id": "pbUU2UKmCG1B",
    "outputId": "bd4db3b0-363f-4be0-f6b0-790a681f3c4c"
   },
   "outputs": [
    {
     "data": {
      "text/plain": [
       "array([ 0.69314718,  0.71858842,  0.7446605 ,  0.77136222,  0.79869159,\n",
       "        0.82664587,  0.85522152,  0.88441427,  0.91421913,  0.9446304 ,\n",
       "        0.97564169,  1.007246  ,  1.03943569,  1.07220255,  1.10553783,\n",
       "        1.13943227,  1.17387616,  1.20885935,  1.24437132,  1.28040121,\n",
       "        1.31693783,  1.35396976,  1.39148535,  1.42947276,  1.46792002,\n",
       "        1.50681503,  1.54614564,  1.58589964,  1.62606484,  1.66662904,\n",
       "        1.70758013,  1.74890605,  1.79059485,  1.8326347 ,  1.87501395,\n",
       "        1.91772106,  1.96074473,  2.00407382,  2.0476974 ,  2.09160479,\n",
       "        2.13578553,  2.18022939,  2.22492641,  2.26986686,  2.3150413 ,\n",
       "        2.36044052,  2.40605559,  2.45187785,  2.49789889,  2.54411059,\n",
       "        2.59050507,  2.63707471,  2.68381218,  2.73071035,  2.7777624 ,\n",
       "        2.82496171,  2.87230193,  2.91977694,  2.96738084,  3.01510797,\n",
       "        3.06295288,  3.11091033,  3.15897532,  3.20714301,  3.25540878,\n",
       "        3.30376819,  3.35221699,  3.40075111,  3.44936665,  3.49805987,\n",
       "        3.54682719,  3.5956652 ,  3.64457061,  3.69354029,  3.74257126,\n",
       "        3.79166066,  3.84080574,  3.8900039 ,  3.93925264,  3.98854958,\n",
       "        4.03789244,  4.08727906,  4.13670736,  4.18617537,  4.23568119,\n",
       "        4.28522303,  4.33479917,  4.38440797,  4.43404788,  4.4837174 ,\n",
       "        4.53341512,  4.58313968,  4.6328898 ,  4.68266425,  4.73246185,\n",
       "        4.7822815 ,  4.83212212,  4.88198271,  4.93186231,  4.98176   ,\n",
       "        5.0316749 ,  5.08160617,  5.13155304,  5.18151473,  5.23149054,\n",
       "        5.28147978,  5.3314818 ,  5.38149597,  5.43152171,  5.48155846,\n",
       "        5.53160568,  5.58166286,  5.63172951,  5.68180518,  5.73188943,\n",
       "        5.78198183,  5.832082  ,  5.88218955,  5.93230413,  5.98242539,\n",
       "        6.032553  ,  6.08268666,  6.13282606,  6.18297094,  6.23312102,\n",
       "        6.28327605,  6.33343579,  6.38360001,  6.43376848,  6.48394101,\n",
       "        6.53411738,  6.58429743,  6.63448095,  6.6846678 ,  6.73485779,\n",
       "        6.78505079,  6.83524663,  6.88544519,  6.93564633,  6.98584993,\n",
       "        7.03605586,  7.086264  ,  7.13647426,  7.18668653,  7.2369007 ,\n",
       "        7.28711669,  7.33733441,  7.38755377,  7.4377747 ,  7.48799711,\n",
       "        7.53822093,  7.58844609,  7.63867254,  7.6889002 ,  7.73912901,\n",
       "        7.78935893,  7.83958989,  7.88982184,  7.94005474,  7.99028854,\n",
       "        8.0405232 ,  8.09075867,  8.14099491,  8.19123188,  8.24146956,\n",
       "        8.2917079 ,  8.34194688,  8.39218646,  8.44242661,  8.4926673 ,\n",
       "        8.54290851,  8.59315021,  8.64339238,  8.693635  ,  8.74387804,\n",
       "        8.79412148,  8.84436531,  8.8946095 ,  8.94485403,  8.9950989 ,\n",
       "        9.04534408,  9.09558955,  9.14583531,  9.19608134,  9.24632763,\n",
       "        9.29657415,  9.34682091,  9.3970679 ,  9.44731509,  9.49756247,\n",
       "        9.54781005,  9.59805781,  9.64830574,  9.69855384,  9.74880208,\n",
       "        9.79905048,  9.84929902,  9.89954769,  9.94979648, 10.0000454 ])"
      ]
     },
     "execution_count": 63,
     "metadata": {},
     "output_type": "execute_result"
    }
   ],
   "source": [
    "fx_1 = np.log(1+np.exp(x))\n",
    "fx_1"
   ]
  },
  {
   "cell_type": "code",
   "execution_count": null,
   "metadata": {
    "colab": {
     "base_uri": "https://localhost:8080/"
    },
    "id": "pAILXkvgCmMw",
    "outputId": "62cd4ae6-b7e2-469b-cc5f-0331e479b7e7"
   },
   "outputs": [
    {
     "data": {
      "text/plain": [
       "13.015696970055112"
      ]
     },
     "execution_count": 65,
     "metadata": {},
     "output_type": "execute_result"
    }
   ],
   "source": [
    "fx_2 = np.log(np.sum(np.exp(x)))\n",
    "fx_2"
   ]
  },
  {
   "cell_type": "code",
   "execution_count": null,
   "metadata": {
    "colab": {
     "base_uri": "https://localhost:8080/"
    },
    "id": "L-eO2JwrDXsE",
    "outputId": "eb868c1c-6036-4296-dd47-7ea9e940c606"
   },
   "outputs": [
    {
     "data": {
      "text/plain": [
       "array([1.00000000e+00, 9.98738202e-01, 9.94962354e-01, 9.88700970e-01,\n",
       "       9.80001173e-01, 9.68928110e-01, 9.55564133e-01, 9.40007782e-01,\n",
       "       9.22372577e-01, 9.02785636e-01, 8.81386152e-01, 8.58323750e-01,\n",
       "       8.33756746e-01, 8.07850348e-01, 7.80774816e-01, 7.52703614e-01,\n",
       "       7.23811586e-01, 6.94273173e-01, 6.64260705e-01, 6.33942786e-01,\n",
       "       6.03482793e-01, 5.73037499e-01, 5.42755857e-01, 5.12777923e-01,\n",
       "       4.83233956e-01, 4.54243679e-01, 4.25915717e-01, 3.98347196e-01,\n",
       "       3.71623515e-01, 3.45818270e-01, 3.20993328e-01, 2.97199039e-01,\n",
       "       2.74474575e-01, 2.52848375e-01, 2.32338690e-01, 2.12954210e-01,\n",
       "       1.94694753e-01, 1.77552009e-01, 1.61510313e-01, 1.46547444e-01,\n",
       "       1.32635435e-01, 1.19741365e-01, 1.07828154e-01, 9.68553155e-02,\n",
       "       8.67796859e-02, 7.75561090e-02, 6.91380737e-02, 6.14783018e-02,\n",
       "       5.45292814e-02, 4.82437447e-02, 4.25750896e-02, 3.74777453e-02,\n",
       "       3.29074830e-02, 2.88216739e-02, 2.51794974e-02, 2.19421026e-02,\n",
       "       1.90727251e-02, 1.65367660e-02, 1.43018341e-02, 1.23377571e-02,\n",
       "       1.06165650e-02, 9.11244986e-03, 7.80170646e-03, 6.66265590e-03,\n",
       "       5.67555697e-03, 4.82250753e-03, 4.08733907e-03, 3.45550673e-03,\n",
       "       2.91397716e-03, 2.45111602e-03, 2.05657674e-03, 1.72119190e-03,\n",
       "       1.43686839e-03, 1.19648708e-03, 9.93807712e-04, 8.23379471e-04,\n",
       "       6.80457540e-04, 5.60925717e-04, 4.61225168e-04, 3.78289221e-04,\n",
       "       3.09484043e-04, 2.52554947e-04, 2.05578088e-04, 1.66917200e-04,\n",
       "       1.35185055e-04, 1.09209294e-04, 8.80022631e-05, 7.07345193e-05,\n",
       "       5.67116517e-05, 4.53540956e-05, 3.61796240e-05, 2.87882266e-05,\n",
       "       2.28491001e-05, 1.80895021e-05, 1.42852370e-05, 1.12525671e-05,\n",
       "       8.84136045e-06, 6.92930865e-06, 5.41706493e-06, 4.22417109e-06,\n",
       "       3.28565745e-06, 2.54921457e-06, 1.97284890e-06, 1.52294627e-06,\n",
       "       1.17267769e-06, 9.00691507e-07, 6.90044022e-07, 5.27328025e-07,\n",
       "       4.01964992e-07, 3.05632079e-07, 2.31799750e-07, 1.75359911e-07,\n",
       "       1.32327770e-07, 9.96035904e-08, 7.47829029e-08, 5.60057955e-08,\n",
       "       4.18376175e-08, 3.11748408e-08, 2.31710048e-08, 1.71786415e-08,\n",
       "       1.27038714e-08, 9.37101613e-09, 6.89510060e-09, 5.06055154e-09,\n",
       "       3.70474587e-09, 2.70534289e-09, 1.97055943e-09, 1.43172656e-09,\n",
       "       1.03760952e-09, 7.50086142e-10, 5.40868463e-10, 3.89023199e-10,\n",
       "       2.79101819e-10, 1.99734532e-10, 1.42576179e-10, 1.01518247e-10,\n",
       "       7.21015458e-11, 5.10797031e-11, 3.60957007e-11, 2.54428592e-11,\n",
       "       1.78887369e-11, 1.25457538e-11, 8.77641543e-12, 6.12408074e-12,\n",
       "       4.26253509e-12, 2.95936376e-12, 2.04942514e-12, 1.41569303e-12,\n",
       "       9.75459965e-13, 6.70429524e-13, 4.59621291e-13, 3.14304406e-13,\n",
       "       2.14389802e-13, 1.45868361e-13, 9.89968572e-14, 6.70170082e-14,\n",
       "       4.52534807e-14, 3.04805126e-14, 2.04783928e-14, 1.37237499e-14,\n",
       "       9.17387980e-15, 6.11697381e-15, 4.06839883e-15, 2.69906749e-15,\n",
       "       1.78610626e-15, 1.17897383e-15, 7.76254917e-16, 5.09809456e-16,\n",
       "       3.33975596e-16, 2.18235252e-16, 1.42245455e-16, 9.24815754e-17,\n",
       "       5.99757052e-17, 3.87970614e-17, 2.50337336e-17, 1.61122334e-17,\n",
       "       1.03440160e-17, 6.62408584e-18, 4.23122425e-18, 2.69593526e-18,\n",
       "       1.71338988e-18, 1.08619116e-18, 6.86846440e-19, 4.33227848e-19,\n",
       "       2.72568964e-19, 1.71056572e-19, 1.07079529e-19, 6.68615535e-20,\n",
       "       4.16437469e-20, 2.58717889e-20, 1.60326918e-20, 9.91036734e-21,\n",
       "       6.11049490e-21, 3.75808279e-21, 2.30547080e-21, 1.41077006e-21,\n",
       "       8.61105106e-22, 5.24275327e-22, 3.18394825e-22, 1.92874985e-22])"
      ]
     },
     "execution_count": 72,
     "metadata": {},
     "output_type": "execute_result"
    }
   ],
   "source": [
    "fx_3 = np.exp(-(x**2)/2)\n",
    "fx_3"
   ]
  },
  {
   "cell_type": "code",
   "execution_count": null,
   "metadata": {
    "colab": {
     "base_uri": "https://localhost:8080/"
    },
    "id": "TZx_BaS9DwDp",
    "outputId": "14a6c12d-7d50-416b-b623-2a3e1e729531"
   },
   "outputs": [
    {
     "name": "stderr",
     "output_type": "stream",
     "text": [
      "<ipython-input-70-1f70a01c4b16>:1: RuntimeWarning: divide by zero encountered in divide\n",
      "  fx_4 = 1/(1-np.exp(-x))\n"
     ]
    },
    {
     "data": {
      "text/plain": [
       "array([        inf, 20.40418743, 10.4583738 ,  7.14589139,  5.49173915,\n",
       "        4.50091603,  3.84175431,  3.3721101 ,  3.02091095,  2.7486717 ,\n",
       "        2.53170086,  2.35492168,  2.20828266,  2.08482478,  1.97957706,\n",
       "        1.88889386,  1.81004072,  1.74092642,  1.67992422,  1.62574972,\n",
       "        1.57737523,  1.53396868,  1.49484913,  1.45945397,  1.42731423,\n",
       "        1.3980359 ,  1.37128546,  1.34677876,  1.32427213,  1.30355547,\n",
       "        1.28444661,  1.26678684,  1.25043724,  1.2352757 ,  1.2211944 ,\n",
       "        1.20809785,  1.19590112,  1.18452843,  1.17391197,  1.16399088,\n",
       "        1.15471033,  1.14602088,  1.13787775,  1.13024035,  1.12307176,\n",
       "        1.11633835,  1.11000942,  1.10405688,  1.098455  ,  1.09318015,\n",
       "        1.0882106 ,  1.08352634,  1.07910892,  1.07494127,  1.07100763,\n",
       "        1.0672934 ,  1.06378501,  1.0604699 ,  1.05733638,  1.05437356,\n",
       "        1.05157131,  1.04892017,  1.04641134,  1.04403658,  1.04178818,\n",
       "        1.03965894,  1.03764211,  1.03573137,  1.03392079,  1.03220481,\n",
       "        1.0305782 ,  1.02903606,  1.02757378,  1.02618701,  1.02487168,\n",
       "        1.02362393,  1.02244015,  1.02131693,  1.02025104,  1.01923945,\n",
       "        1.0182793 ,  1.01736788,  1.01650264,  1.01568117,  1.01490119,\n",
       "        1.01416055,  1.01345721,  1.01278924,  1.01215483,  1.01155224,\n",
       "        1.01097985,  1.01043612,  1.00991958,  1.00942884,  1.0089626 ,\n",
       "        1.0085196 ,  1.00809868,  1.00769871,  1.00731864,  1.00695746,\n",
       "        1.00661422,  1.00628802,  1.00597801,  1.00568336,  1.00540332,\n",
       "        1.00513714,  1.00488415,  1.00464366,  1.00441508,  1.00419779,\n",
       "        1.00399123,  1.00379488,  1.00360823,  1.00343078,  1.00326209,\n",
       "        1.00310172,  1.00294926,  1.00280431,  1.00266651,  1.00253549,\n",
       "        1.00241093,  1.0022925 ,  1.0021799 ,  1.00207284,  1.00197105,\n",
       "        1.00187427,  1.00178225,  1.00169476,  1.00161156,  1.00153246,\n",
       "        1.00145725,  1.00138573,  1.00131772,  1.00125306,  1.00119158,\n",
       "        1.00113311,  1.00107752,  1.00102466,  1.00097439,  1.00092659,\n",
       "        1.00088114,  1.00083792,  1.00079682,  1.00075774,  1.00072058,\n",
       "        1.00068524,  1.00065163,  1.00061968,  1.00058929,  1.00056039,\n",
       "        1.00053291,  1.00050678,  1.00048193,  1.0004583 ,  1.00043583,\n",
       "        1.00041446,  1.00039414,  1.00037482,  1.00035644,  1.00033897,\n",
       "        1.00032235,  1.00030655,  1.00029152,  1.00027723,  1.00026364,\n",
       "        1.00025071,  1.00023842,  1.00022673,  1.00021562,  1.00020505,\n",
       "        1.000195  ,  1.00018544,  1.00017635,  1.00016771,  1.00015949,\n",
       "        1.00015167,  1.00014423,  1.00013716,  1.00013044,  1.00012405,\n",
       "        1.00011797,  1.00011218,  1.00010669,  1.00010146,  1.00009648,\n",
       "        1.00009175,  1.00008726,  1.00008298,  1.00007891,  1.00007505,\n",
       "        1.00007137,  1.00006787,  1.00006454,  1.00006138,  1.00005837,\n",
       "        1.00005551,  1.00005279,  1.0000502 ,  1.00004774,  1.0000454 ])"
      ]
     },
     "execution_count": 70,
     "metadata": {},
     "output_type": "execute_result"
    }
   ],
   "source": [
    "fx_4 = 1/(1-np.exp(-x))\n",
    "fx_4"
   ]
  },
  {
   "cell_type": "code",
   "execution_count": null,
   "metadata": {
    "colab": {
     "base_uri": "https://localhost:8080/"
    },
    "id": "9_17LEKREDF0",
    "outputId": "10aa64a4-3ac6-4050-b985-7b7ac3491910"
   },
   "outputs": [
    {
     "data": {
      "text/plain": [
       "array([0.        , 0.04999937, 0.0994975 , 0.14849814, 0.19700506,\n",
       "       0.24502196, 0.29255254, 0.33960046, 0.38616938, 0.43226291,\n",
       "       0.47788465, 0.52303817, 0.56772701, 0.61195471, 0.65572475,\n",
       "       0.69904063, 0.74190578, 0.78432365, 0.82629764, 0.86783113,\n",
       "       0.90892748, 0.94959003, 0.98982211, 1.02962699, 1.06900797,\n",
       "       1.10796827, 1.14651114, 1.18463978, 1.22235737, 1.25966707,\n",
       "       1.29657203, 1.33307537, 1.36918018, 1.40488954, 1.44020652,\n",
       "       1.47513415, 1.50967544, 1.54383338, 1.57761096, 1.61101113,\n",
       "       1.64403683, 1.67669096, 1.70897643, 1.7408961 , 1.77245284,\n",
       "       1.80364949, 1.83448885, 1.86497373, 1.8951069 , 1.92489113,\n",
       "       1.95432916, 1.9834237 , 2.01217747, 2.04059315, 2.0686734 ,\n",
       "       2.09642087, 2.1238382 , 2.150928  , 2.17769285, 2.20413535,\n",
       "       2.23025804, 2.25606347, 2.28155417, 2.30673264, 2.33160136,\n",
       "       2.35616282, 2.38041947, 2.40437374, 2.42802806, 2.45138484,\n",
       "       2.47444645, 2.49721529, 2.51969369, 2.541884  , 2.56378855,\n",
       "       2.58540963, 2.60674955, 2.62781057, 2.64859496, 2.66910496,\n",
       "       2.6893428 , 2.7093107 , 2.72901084, 2.74844542, 2.76761659,\n",
       "       2.78652652, 2.80517734, 2.82357117, 2.84171012, 2.85959629,\n",
       "       2.87723174, 2.89461856, 2.91175877, 2.92865443, 2.94530755,\n",
       "       2.96172013, 2.97789418, 2.99383167, 3.00953456, 3.02500481,\n",
       "       3.04024435, 3.05525512, 3.07003901, 3.08459793, 3.09893375,\n",
       "       3.11304836, 3.12694361, 3.14062134, 3.15408339, 3.16733157,\n",
       "       3.18036769, 3.19319354, 3.2058109 , 3.21822154, 3.23042722,\n",
       "       3.24242968, 3.25423064, 3.26583184, 3.27723497, 3.28844172,\n",
       "       3.29945379, 3.31027283, 3.32090052, 3.33133849, 3.34158838,\n",
       "       3.35165181, 3.3615304 , 3.37122574, 3.38073943, 3.39007304,\n",
       "       3.39922814, 3.40820628, 3.417009  , 3.42563785, 3.43409434,\n",
       "       3.44237998, 3.45049628, 3.45844471, 3.46622677, 3.47384392,\n",
       "       3.48129762, 3.48858931, 3.49572043, 3.50269241, 3.50950667,\n",
       "       3.5161646 , 3.52266762, 3.52901709, 3.5352144 , 3.54126092,\n",
       "       3.547158  , 3.55290698, 3.5585092 , 3.563966  , 3.56927868,\n",
       "       3.57444855, 3.57947692, 3.58436507, 3.58911428, 3.59372581,\n",
       "       3.59820094, 3.60254092, 3.60674698, 3.61082036, 3.61476228,\n",
       "       3.61857396, 3.6222566 , 3.62581141, 3.62923957, 3.63254227,\n",
       "       3.63572066, 3.63877593, 3.64170922, 3.64452167, 3.64721444,\n",
       "       3.64978863, 3.65224539, 3.65458581, 3.656811  , 3.65892207,\n",
       "       3.66092009, 3.66280615, 3.66458132, 3.66624666, 3.66780324,\n",
       "       3.66925209, 3.67059427, 3.6718308 , 3.67296271, 3.67399101,\n",
       "       3.67491672, 3.67574084, 3.67646436, 3.67708828, 3.67761357,\n",
       "       3.67804121, 3.67837215, 3.67860737, 3.67874781, 3.67879441])"
      ]
     },
     "execution_count": 71,
     "metadata": {},
     "output_type": "execute_result"
    }
   ],
   "source": [
    "fx_5 = x*np.exp(-0.1*x)\n",
    "fx_5"
   ]
  },
  {
   "cell_type": "markdown",
   "metadata": {
    "id": "y-SAzI33IZzj"
   },
   "source": [
    "2.2:  Visualize the Functions using Matplotlib"
   ]
  },
  {
   "cell_type": "code",
   "execution_count": null,
   "metadata": {
    "colab": {
     "base_uri": "https://localhost:8080/",
     "height": 807
    },
    "id": "RG_Exp--EYVc",
    "outputId": "d6ce06ef-c08d-46d7-9a9b-033ea33bc57f"
   },
   "outputs": [
    {
     "data": {
      "image/png": "[encoded data removed]",
      "text/plain": [
       "<Figure size 1200x800 with 4 Axes>"
      ]
     },
     "metadata": {},
     "output_type": "display_data"
    }
   ],
   "source": [
    "# Calculate y values for each function\n",
    "y1 = fx_1\n",
    "y3 = fx_3\n",
    "y4 = fx_4\n",
    "y5 = fx_5\n",
    "# Create the figure and subplots\n",
    "fig, axs = plt.subplots(2, 2, figsize=(12, 8))  # 2 rows, 2 columns\n",
    "\n",
    "# Plot y1\n",
    "axs[0, 0].plot(x, y1, color='blue', linestyle='-', label='f1(x) = log(1 + exp(x))')\n",
    "axs[0, 0].set_title('Softplus Activation Function')\n",
    "axs[0, 0].set_xlabel('x')\n",
    "axs[0, 0].set_ylabel('f1(x)')\n",
    "axs[0, 0].legend()\n",
    "\n",
    "# Plot y3\n",
    "axs[0, 1].plot(x, y3, color='red', linestyle='--', label='f3(x) = exp(-x^2/2)')\n",
    "axs[0, 1].set_title('Gaussian Function')\n",
    "axs[0, 1].set_xlabel('x')\n",
    "axs[0, 1].set_ylabel('f3(x)')\n",
    "axs[0, 1].legend()\n",
    "\n",
    "# Plot y4\n",
    "axs[1, 0].plot(x, y4, color='green', linestyle='-.', label='f4(x) = 1 / (1 + exp(-x))')\n",
    "axs[1, 0].set_title('Sigmoid Function')\n",
    "axs[1, 0].set_xlabel('x')\n",
    "axs[1, 0].set_ylabel('f4(x)')\n",
    "axs[1, 0].legend()\n",
    "\n",
    "# Plot y5\n",
    "axs[1, 1].plot(x, y5, color='purple', linestyle=':', label='f5(x) = x * exp(-0.1x)')\n",
    "axs[1, 1].set_title('Linear-Exponential Function')\n",
    "axs[1, 1].set_xlabel('x')\n",
    "axs[1, 1].set_ylabel('f5(x)')\n",
    "axs[1, 1].legend()\n",
    "\n",
    "# Adjust layout for better spacing\n",
    "plt.tight_layout()\n",
    "\n",
    "# Show the plot\n",
    "plt.show()"
   ]
  },
  {
   "cell_type": "code",
   "execution_count": null,
   "metadata": {
    "colab": {
     "base_uri": "https://localhost:8080/",
     "height": 447
    },
    "id": "CYCOHA9yJXT6",
    "outputId": "e093e9da-0745-4663-b45c-faf2ea72a38e"
   },
   "outputs": [
    {
     "data": {
      "text/plain": [
       "<matplotlib.legend.Legend at 0x7bbd61b9c3d0>"
      ]
     },
     "execution_count": 78,
     "metadata": {},
     "output_type": "execute_result"
    },
    {
     "data": {
      "image/png": "[encoded data removed]",
      "text/plain": [
       "<Figure size 640x480 with 1 Axes>"
      ]
     },
     "metadata": {},
     "output_type": "display_data"
    }
   ],
   "source": [
    "plt.plot(x, y1, color='blue', linestyle='-', label='f1(x) = log(1 + exp(x))')\n",
    "plt.plot(x, y4, color='green', linestyle='-.', label='f4(x) = 1 / (1 + exp(-x))')\n",
    "plt.legend()"
   ]
  },
  {
   "cell_type": "code",
   "execution_count": null,
   "metadata": {
    "colab": {
     "base_uri": "https://localhost:8080/",
     "height": 489
    },
    "id": "hFkX8VEKKH1h",
    "outputId": "b1fcd4e6-73cf-4be6-d285-6320a42bee76"
   },
   "outputs": [
    {
     "data": {
      "text/plain": [
       "<matplotlib.legend.Legend at 0x7bbd61a4b990>"
      ]
     },
     "execution_count": 84,
     "metadata": {},
     "output_type": "execute_result"
    },
    {
     "data": {
      "image/png": "[encoded data removed]",
      "text/plain": [
       "<Figure size 640x480 with 1 Axes>"
      ]
     },
     "metadata": {},
     "output_type": "display_data"
    }
   ],
   "source": [
    "plt.plot(x, y1, color='blue', linestyle='-',linewidth=2.5 , label='f1(x) = log(1 + exp(x))')\n",
    "plt.yscale('log')\n",
    "plt.title('Softplus Activation Function')\n",
    "plt.xlabel('x')\n",
    "plt.ylabel('f1(x)')\n",
    "plt.grid(True, linestyle='--', alpha=0.7)\n",
    "plt.legend()"
   ]
  },
  {
   "cell_type": "code",
   "execution_count": null,
   "metadata": {
    "colab": {
     "base_uri": "https://localhost:8080/"
    },
    "id": "2aP9-Py-Krid",
    "outputId": "12595df0-db50-47e6-b39b-0ada4919c34c"
   },
   "outputs": [
    {
     "name": "stdout",
     "output_type": "stream",
     "text": [
      "74.13333333333334\n",
      "12.438470788467349\n"
     ]
    }
   ],
   "source": [
    "l = [54,56,58,60,61,62,62,63,64,65,65,70,71,72,72,74,75,75,76,77,78,86,87,88,89,89,89,93,95,98]\n",
    "t= np.array(l)\n",
    "print(t.mean())\n",
    "print(t.std())"
   ]
  },
  {
   "cell_type": "markdown",
   "metadata": {
    "id": "MGA0LWiaRBjO"
   },
   "source": [
    "##3.1:  Implementation and visualization"
   ]
  },
  {
   "cell_type": "code",
   "execution_count": null,
   "metadata": {
    "id": "3RJHKhGsSMu3"
   },
   "outputs": [],
   "source": [
    "import numpy as np\n",
    "import matplotlib.pyplot as plt"
   ]
  },
  {
   "cell_type": "code",
   "execution_count": null,
   "metadata": {
    "id": "9YLpAkotRknc"
   },
   "outputs": [],
   "source": [
    "X_train = np.array([[1,1,2],[1,2,5],[1,3,7],[1,4,10],[1,5,12]])\n",
    "X_test = np.array([[1,6,14],[1,7,16],[1,8,19]])\n",
    "\n",
    "y_train = np.array([[6],[11],[16],[22],[27]])\n",
    "y_test = np.array([[33],[38],[43]])\n"
   ]
  },
  {
   "cell_type": "code",
   "execution_count": null,
   "metadata": {
    "id": "XGsCbRJkSaW7"
   },
   "outputs": [],
   "source": [
    "# Normal Equation to compute the weight vector W\n",
    "W = np.linalg.inv(X_train.T @ X_train) @ X_train.T @ y_train #  @: Matrix multiplication operator."
   ]
  },
  {
   "cell_type": "code",
   "execution_count": null,
   "metadata": {
    "id": "7xMkAtogXt-_"
   },
   "outputs": [],
   "source": [
    "y_pred = X_test @ W"
   ]
  },
  {
   "cell_type": "code",
   "execution_count": null,
   "metadata": {
    "id": "9rDK9KaUXyoD"
   },
   "outputs": [],
   "source": [
    "# Calculate Mean Squared Error (MSE)\n",
    "mse = np.mean((y_test - y_pred)**2)\n",
    "\n",
    "# Calculate Mean Absolute Error (MAE)\n",
    "mae = np.mean(np.abs(y_test - y_pred))"
   ]
  },
  {
   "cell_type": "code",
   "execution_count": null,
   "metadata": {
    "colab": {
     "base_uri": "https://localhost:8080/"
    },
    "id": "G5asVecsYyLD",
    "outputId": "0f36ef9e-002e-455c-99b4-19acb98b046a"
   },
   "outputs": [
    {
     "name": "stdout",
     "output_type": "stream",
     "text": [
      "Weight Vector (W):\n",
      " [[0.6       ]\n",
      " [4.46666667]\n",
      " [0.33333333]]\n",
      "Mean Squared Error (MSE): 0.5407407407426713\n",
      "Mean Absolute Error (MAE): 0.6888888888901997\n"
     ]
    }
   ],
   "source": [
    "# Print the results\n",
    "print(\"Weight Vector (W):\\n\", W)\n",
    "print(\"Mean Squared Error (MSE):\", mse)\n",
    "print(\"Mean Absolute Error (MAE):\", mae)"
   ]
  },
  {
   "cell_type": "code",
   "execution_count": null,
   "metadata": {
    "colab": {
     "base_uri": "https://localhost:8080/",
     "height": 564
    },
    "id": "8f5CTMtmZVcY",
    "outputId": "6f08a14d-ce2b-422a-cd99-481f2aa1f0e4"
   },
   "outputs": [
    {
     "data": {
      "image/png": "[encoded data removed]",
      "text/plain": [
       "<Figure size 800x600 with 1 Axes>"
      ]
     },
     "metadata": {},
     "output_type": "display_data"
    }
   ],
   "source": [
    "# Plot actual vs. predicted values\n",
    "plt.figure(figsize=(8, 6))\n",
    "plt.scatter(y_pred, y_test, color='blue', label='Actual vs. Predicted')\n",
    "\n",
    "# Add a dashed red line for perfect predictions (y = x)\n",
    "min_val = min(np.min(y_test), np.min(y_pred))\n",
    "max_val = max(np.max(y_test), np.max(y_pred))\n",
    "plt.plot([min_val, max_val], [min_val, max_val], color='red', linestyle='--', label='Perfect Predictions (y=x)')\n",
    "\n",
    "plt.xlabel('Actual Values')\n",
    "plt.ylabel('Predicted Values')\n",
    "plt.title('Actual vs. Predicted Values')\n",
    "plt.legend()\n",
    "plt.grid(True)\n",
    "plt.show()"
   ]
  },
  {
   "cell_type": "markdown",
   "metadata": {
    "id": "B0HuCWigmyBa"
   },
   "source": [
    "##4. Sales data Analysis"
   ]
  },
  {
   "cell_type": "markdown",
   "metadata": {
    "id": "2LBDZcYVm1qm"
   },
   "source": [
    "###4.1:  Array Manipulation and Broadcasting"
   ]
  },
  {
   "cell_type": "code",
   "execution_count": null,
   "metadata": {
    "colab": {
     "base_uri": "https://localhost:8080/",
     "height": 38
    },
    "id": "zmA1M-JVZVZX",
    "outputId": "02149c12-96ae-4d34-b08b-eb5a7c130a32"
   },
   "outputs": [
    {
     "data": {
      "text/html": [
       "\n",
       "     <input type=\"file\" id=\"files-c7c26981-502d-4f41-b806-769aaa86d22b\" name=\"files[]\" multiple disabled\n",
       "        style=\"border:none\" />\n",
       "     <output id=\"result-c7c26981-502d-4f41-b806-769aaa86d22b\">\n",
       "      Upload widget is only available when the cell has been executed in the\n",
       "      current browser session. Please rerun this cell to enable.\n",
       "      </output>\n",
       "      <script>// Copyright 2017 Google LLC\n",
       "//\n",
       "// Licensed under the Apache License, Version 2.0 (the \"License\");\n",
       "// you may not use this file except in compliance with the License.\n",
       "// You may obtain a copy of the License at\n",
       "//\n",
       "//      http://www.apache.org/licenses/LICENSE-2.0\n",
       "//\n",
       "// Unless required by applicable law or agreed to in writing, software\n",
       "// distributed under the License is distributed on an \"AS IS\" BASIS,\n",
       "// WITHOUT WARRANTIES OR CONDITIONS OF ANY KIND, either express or implied.\n",
       "// See the License for the specific language governing permissions and\n",
       "// limitations under the License.\n",
       "\n",
       "/**\n",
       " * @fileoverview Helpers for google.colab Python module.\n",
       " */\n",
       "(function(scope) {\n",
       "function span(text, styleAttributes = {}) {\n",
       "  const element = document.createElement('span');\n",
       "  element.textContent = text;\n",
       "  for (const key of Object.keys(styleAttributes)) {\n",
       "    element.style[key] = styleAttributes[key];\n",
       "  }\n",
       "  return element;\n",
       "}\n",
       "\n",
       "// Max number of bytes which will be uploaded at a time.\n",
       "const MAX_PAYLOAD_SIZE = 100 * 1024;\n",
       "\n",
       "function _uploadFiles(inputId, outputId) {\n",
       "  const steps = uploadFilesStep(inputId, outputId);\n",
       "  const outputElement = document.getElementById(outputId);\n",
       "  // Cache steps on the outputElement to make it available for the next call\n",
       "  // to uploadFilesContinue from Python.\n",
       "  outputElement.steps = steps;\n",
       "\n",
       "  return _uploadFilesContinue(outputId);\n",
       "}\n",
       "\n",
       "// This is roughly an async generator (not supported in the browser yet),\n",
       "// where there are multiple asynchronous steps and the Python side is going\n",
       "// to poll for completion of each step.\n",
       "// This uses a Promise to block the python side on completion of each step,\n",
       "// then passes the result of the previous step as the input to the next step.\n",
       "function _uploadFilesContinue(outputId) {\n",
       "  const outputElement = document.getElementById(outputId);\n",
       "  const steps = outputElement.steps;\n",
       "\n",
       "  const next = steps.next(outputElement.lastPromiseValue);\n",
       "  return Promise.resolve(next.value.promise).then((value) => {\n",
       "    // Cache the last promise value to make it available to the next\n",
       "    // step of the generator.\n",
       "    outputElement.lastPromiseValue = value;\n",
       "    return next.value.response;\n",
       "  });\n",
       "}\n",
       "\n",
       "/**\n",
       " * Generator function which is called between each async step of the upload\n",
       " * process.\n",
       " * @param {string} inputId Element ID of the input file picker element.\n",
       " * @param {string} outputId Element ID of the output display.\n",
       " * @return {!Iterable<!Object>} Iterable of next steps.\n",
       " */\n",
       "function* uploadFilesStep(inputId, outputId) {\n",
       "  const inputElement = document.getElementById(inputId);\n",
       "  inputElement.disabled = false;\n",
       "\n",
       "  const outputElement = document.getElementById(outputId);\n",
       "  outputElement.innerHTML = '';\n",
       "\n",
       "  const pickedPromise = new Promise((resolve) => {\n",
       "    inputElement.addEventListener('change', (e) => {\n",
       "      resolve(e.target.files);\n",
       "    });\n",
       "  });\n",
       "\n",
       "  const cancel = document.createElement('button');\n",
       "  inputElement.parentElement.appendChild(cancel);\n",
       "  cancel.textContent = 'Cancel upload';\n",
       "  const cancelPromise = new Promise((resolve) => {\n",
       "    cancel.onclick = () => {\n",
       "      resolve(null);\n",
       "    };\n",
       "  });\n",
       "\n",
       "  // Wait for the user to pick the files.\n",
       "  const files = yield {\n",
       "    promise: Promise.race([pickedPromise, cancelPromise]),\n",
       "    response: {\n",
       "      action: 'starting',\n",
       "    }\n",
       "  };\n",
       "\n",
       "  cancel.remove();\n",
       "\n",
       "  // Disable the input element since further picks are not allowed.\n",
       "  inputElement.disabled = true;\n",
       "\n",
       "  if (!files) {\n",
       "    return {\n",
       "      response: {\n",
       "        action: 'complete',\n",
       "      }\n",
       "    };\n",
       "  }\n",
       "\n",
       "  for (const file of files) {\n",
       "    const li = document.createElement('li');\n",
       "    li.append(span(file.name, {fontWeight: 'bold'}));\n",
       "    li.append(span(\n",
       "        `(${file.type || 'n/a'}) - ${file.size} bytes, ` +\n",
       "        `last modified: ${\n",
       "            file.lastModifiedDate ? file.lastModifiedDate.toLocaleDateString() :\n",
       "                                    'n/a'} - `));\n",
       "    const percent = span('0% done');\n",
       "    li.appendChild(percent);\n",
       "\n",
       "    outputElement.appendChild(li);\n",
       "\n",
       "    const fileDataPromise = new Promise((resolve) => {\n",
       "      const reader = new FileReader();\n",
       "      reader.onload = (e) => {\n",
       "        resolve(e.target.result);\n",
       "      };\n",
       "      reader.readAsArrayBuffer(file);\n",
       "    });\n",
       "    // Wait for the data to be ready.\n",
       "    let fileData = yield {\n",
       "      promise: fileDataPromise,\n",
       "      response: {\n",
       "        action: 'continue',\n",
       "      }\n",
       "    };\n",
       "\n",
       "    // Use a chunked sending to avoid message size limits. See b/62115660.\n",
       "    let position = 0;\n",
       "    do {\n",
       "      const length = Math.min(fileData.byteLength - position, MAX_PAYLOAD_SIZE);\n",
       "      const chunk = new Uint8Array(fileData, position, length);\n",
       "      position += length;\n",
       "\n",
       "      const base64 = btoa(String.fromCharCode.apply(null, chunk));\n",
       "      yield {\n",
       "        response: {\n",
       "          action: 'append',\n",
       "          file: file.name,\n",
       "          data: base64,\n",
       "        },\n",
       "      };\n",
       "\n",
       "      let percentDone = fileData.byteLength === 0 ?\n",
       "          100 :\n",
       "          Math.round((position / fileData.byteLength) * 100);\n",
       "      percent.textContent = `${percentDone}% done`;\n",
       "\n",
       "    } while (position < fileData.byteLength);\n",
       "  }\n",
       "\n",
       "  // All done.\n",
       "  yield {\n",
       "    response: {\n",
       "      action: 'complete',\n",
       "    }\n",
       "  };\n",
       "}\n",
       "\n",
       "scope.google = scope.google || {};\n",
       "scope.google.colab = scope.google.colab || {};\n",
       "scope.google.colab._files = {\n",
       "  _uploadFiles,\n",
       "  _uploadFilesContinue,\n",
       "};\n",
       "})(self);\n",
       "</script> "
      ],
      "text/plain": [
       "<IPython.core.display.HTML object>"
      ]
     },
     "metadata": {},
     "output_type": "display_data"
    }
   ],
   "source": [
    "from google.colab import files\n",
    "\n",
    "\n",
    "uploaded = files.upload()"
   ]
  },
  {
   "cell_type": "code",
   "execution_count": null,
   "metadata": {
    "colab": {
     "base_uri": "https://localhost:8080/",
     "height": 193
    },
    "id": "Z25uMRjtZVWw",
    "outputId": "71875c5f-80f1-4176-b876-e3c4a567ba83"
   },
   "outputs": [
    {
     "ename": "KeyError",
     "evalue": "'Sales_Data.csv'",
     "output_type": "error",
     "traceback": [
      "\u001b[0;31m---------------------------------------------------------------------------\u001b[0m",
      "\u001b[0;31mKeyError\u001b[0m                                  Traceback (most recent call last)",
      "\u001b[0;32m<ipython-input-48-116c0010d56d>\u001b[0m in \u001b[0;36m<cell line: 0>\u001b[0;34m()\u001b[0m\n\u001b[1;32m      2\u001b[0m \u001b[0;32mimport\u001b[0m \u001b[0mio\u001b[0m\u001b[0;34m\u001b[0m\u001b[0;34m\u001b[0m\u001b[0m\n\u001b[1;32m      3\u001b[0m \u001b[0;34m\u001b[0m\u001b[0m\n\u001b[0;32m----> 4\u001b[0;31m \u001b[0mdf\u001b[0m \u001b[0;34m=\u001b[0m \u001b[0mpd\u001b[0m\u001b[0;34m.\u001b[0m\u001b[0mread_csv\u001b[0m\u001b[0;34m(\u001b[0m\u001b[0mio\u001b[0m\u001b[0;34m.\u001b[0m\u001b[0mBytesIO\u001b[0m\u001b[0;34m(\u001b[0m\u001b[0muploaded\u001b[0m\u001b[0;34m[\u001b[0m\u001b[0;34m\"Sales_Data.csv\"\u001b[0m\u001b[0;34m]\u001b[0m\u001b[0;34m)\u001b[0m\u001b[0;34m)\u001b[0m\u001b[0;34m\u001b[0m\u001b[0;34m\u001b[0m\u001b[0m\n\u001b[0m\u001b[1;32m      5\u001b[0m \u001b[0mprint\u001b[0m\u001b[0;34m(\u001b[0m\u001b[0mdf\u001b[0m\u001b[0;34m)\u001b[0m\u001b[0;34m\u001b[0m\u001b[0;34m\u001b[0m\u001b[0m\n",
      "\u001b[0;31mKeyError\u001b[0m: 'Sales_Data.csv'"
     ]
    }
   ],
   "source": [
    "import pandas as pd\n",
    "import io\n",
    "\n",
    "df = pd.read_csv(io.BytesIO(uploaded[\"Sales_Data.csv\"]))\n",
    "print(df)\n"
   ]
  },
  {
   "cell_type": "code",
   "execution_count": null,
   "metadata": {
    "colab": {
     "base_uri": "https://localhost:8080/"
    },
    "id": "JlwPf2tMnLqz",
    "outputId": "a951288c-4019-44e2-e042-e6acae2ec802"
   },
   "outputs": [
    {
     "name": "stdout",
     "output_type": "stream",
     "text": [
      "<class 'pandas.core.frame.DataFrame'>\n",
      "RangeIndex: 60 entries, 0 to 59\n",
      "Data columns (total 4 columns):\n",
      " #   Column        Non-Null Count  Dtype  \n",
      "---  ------        --------------  -----  \n",
      " 0   Month         60 non-null     object \n",
      " 1   Category      60 non-null     object \n",
      " 2   Sales         60 non-null     int64  \n",
      " 3   ProfitMargin  60 non-null     float64\n",
      "dtypes: float64(1), int64(1), object(2)\n",
      "memory usage: 2.0+ KB\n"
     ]
    }
   ],
   "source": [
    "df.info()"
   ]
  },
  {
   "cell_type": "code",
   "execution_count": null,
   "metadata": {
    "colab": {
     "base_uri": "https://localhost:8080/"
    },
    "id": "6fkj7Rf8ndXe",
    "outputId": "1aee8de6-3f29-4074-d75b-29622346a036"
   },
   "outputs": [
    {
     "data": {
      "text/plain": [
       "array([0.16804788, 0.83839779, 0.07734807, 0.76289134, 0.        ,\n",
       "       0.14709945, 0.53015654, 0.24263352, 0.91781768, 0.63858195,\n",
       "       0.21915285, 0.44129834, 0.19452118, 0.59944751, 0.40722836,\n",
       "       0.3218232 , 0.86556169, 0.63489871, 0.53061694, 0.44452118,\n",
       "       0.62016575, 0.28383978, 0.31031308, 0.14848066, 0.69567219,\n",
       "       0.87776243, 0.2051105 , 0.85474217, 0.00713628, 0.19912523,\n",
       "       0.73941068, 0.84438306, 0.04765193, 0.88927256, 0.05732044,\n",
       "       0.44475138, 0.56123389, 0.43669429, 0.06008287, 1.        ,\n",
       "       0.49447514, 0.68347145, 0.68462247, 0.53499079, 0.15515654,\n",
       "       0.60842541, 0.5893186 , 0.08563536, 0.17034991, 0.0174954 ,\n",
       "       0.31169429, 0.16873849, 0.09967772, 0.37453959, 0.35635359,\n",
       "       0.2138582 , 0.3664825 , 0.57435543, 0.33770718, 0.59000921])"
      ]
     },
     "execution_count": 50,
     "metadata": {},
     "output_type": "execute_result"
    }
   ],
   "source": [
    "sales = np.array(df['Sales'])\n",
    "Norm_sales = (sales - np.min(sales))/(np.max(sales)-np.min(sales))\n",
    "Norm_sales"
   ]
  },
  {
   "cell_type": "code",
   "execution_count": null,
   "metadata": {
    "colab": {
     "base_uri": "https://localhost:8080/"
    },
    "id": "OhkGXjBWnhwr",
    "outputId": "efc5e7a5-09a4-42c3-e83e-a82630c3fd34"
   },
   "outputs": [
    {
     "data": {
      "text/plain": [
       "array([-0.94252937,  0.50554034, -1.2349449 ,  0.51954827, -1.5133525 ,\n",
       "        0.94328814, -0.94778235, -0.5205405 , -1.56062926, -0.56606627,\n",
       "       -0.18435019, -0.56256429, -0.76918125,  0.58083296,  0.2148758 ,\n",
       "       -1.42230096,  0.79795587, -1.35751429,  1.71372426,  1.24620961,\n",
       "       -1.52911142, -0.74116539,  0.55106611, -1.46432475, -0.6781297 ,\n",
       "        1.06060455,  0.2358877 , -0.9372764 , -0.2018601 ,  0.50904232,\n",
       "       -1.2752177 ,  0.23938968,  0.30417635,  1.79602085, -0.618596  ,\n",
       "       -1.00556506,  1.11838726, -0.55731131,  0.96780201, -1.32599644,\n",
       "        0.69464739,  1.43706765, -1.36276726,  0.75768307,  0.969553  ,\n",
       "        1.52111523,  1.07986545,  1.11488527, -1.44331285, -0.08804567,\n",
       "       -0.87949369,  0.64386864,  0.38822393, -1.0966166 ,  1.06060455,\n",
       "        1.71722624,  0.84873461,  0.60184485,  0.6333627 ,  0.01351182])"
      ]
     },
     "execution_count": 51,
     "metadata": {},
     "output_type": "execute_result"
    }
   ],
   "source": [
    "Pm = np.array(df['ProfitMargin'])\n",
    "Z = (Pm - np.average(Pm))/Pm.std()\n",
    "Z"
   ]
  },
  {
   "cell_type": "markdown",
   "metadata": {
    "id": "82aSMPR9p_7b"
   },
   "source": [
    "###4.2:  Boolean Indexing and Filtering"
   ]
  },
  {
   "cell_type": "code",
   "execution_count": null,
   "metadata": {
    "colab": {
     "base_uri": "https://localhost:8080/"
    },
    "id": "BotCSQXUqXsP",
    "outputId": "04a610c7-3cc2-4e4e-df68-ee8cfa8986e5"
   },
   "outputs": [
    {
     "name": "stdout",
     "output_type": "stream",
     "text": [
      "<class 'pandas.core.frame.DataFrame'>\n",
      "RangeIndex: 60 entries, 0 to 59\n",
      "Data columns (total 4 columns):\n",
      " #   Column        Non-Null Count  Dtype  \n",
      "---  ------        --------------  -----  \n",
      " 0   Month         60 non-null     object \n",
      " 1   Category      60 non-null     object \n",
      " 2   Sales         60 non-null     int64  \n",
      " 3   ProfitMargin  60 non-null     float64\n",
      "dtypes: float64(1), int64(1), object(2)\n",
      "memory usage: 2.0+ KB\n"
     ]
    }
   ],
   "source": [
    "df.info()"
   ]
  },
  {
   "cell_type": "code",
   "execution_count": null,
   "metadata": {
    "colab": {
     "base_uri": "https://localhost:8080/"
    },
    "id": "4Yd9UVNgqJ_a",
    "outputId": "10c985bf-aece-4676-ea3e-5d8927f1a10e"
   },
   "outputs": [
    {
     "data": {
      "text/plain": [
       "array([16.94, 17.02, 19.44, 11.08, 10.82, 13.  , 10.84, 17.37, 15.28,\n",
       "       18.61, 23.84, 21.17, 17.2 , 10.18, 20.11, 15.4 , 12.9 , 16.96,\n",
       "       15.42, 15.79, 24.31, 10.52, 20.44, 10.87, 19.58, 18.02, 22.26,\n",
       "       18.38, 19.59, 22.74, 20.22, 20.42, 13.55, 17.73, 16.27, 20.11,\n",
       "       23.86, 18.9 , 17.49, 17.67, 14.13])"
      ]
     },
     "execution_count": 53,
     "metadata": {},
     "output_type": "execute_result"
    }
   ],
   "source": [
    "new_pm = np.array(df['ProfitMargin'][df['ProfitMargin'] > 10])\n",
    "new_pm"
   ]
  },
  {
   "cell_type": "code",
   "execution_count": null,
   "metadata": {
    "colab": {
     "base_uri": "https://localhost:8080/",
     "height": 81
    },
    "id": "g4ALz5kJqJzW",
    "outputId": "78b1f28e-5065-4a5d-f53c-120af96cbd88"
   },
   "outputs": [
    {
     "data": {
      "application/vnd.google.colaboratory.intrinsic+json": {
       "summary": "{\n  \"name\": \"df[df['Sales'] == np\",\n  \"rows\": 1,\n  \"fields\": [\n    {\n      \"column\": \"Month\",\n      \"properties\": {\n        \"dtype\": \"string\",\n        \"num_unique_values\": 1,\n        \"samples\": [\n          \"Aug\"\n        ],\n        \"semantic_type\": \"\",\n        \"description\": \"\"\n      }\n    },\n    {\n      \"column\": \"Category\",\n      \"properties\": {\n        \"dtype\": \"string\",\n        \"num_unique_values\": 1,\n        \"samples\": [\n          \"Books\"\n        ],\n        \"semantic_type\": \"\",\n        \"description\": \"\"\n      }\n    },\n    {\n      \"column\": \"Sales\",\n      \"properties\": {\n        \"dtype\": \"number\",\n        \"std\": null,\n        \"min\": 4974,\n        \"max\": 4974,\n        \"num_unique_values\": 1,\n        \"samples\": [\n          4974\n        ],\n        \"semantic_type\": \"\",\n        \"description\": \"\"\n      }\n    },\n    {\n      \"column\": \"ProfitMargin\",\n      \"properties\": {\n        \"dtype\": \"number\",\n        \"std\": null,\n        \"min\": 6.48,\n        \"max\": 6.48,\n        \"num_unique_values\": 1,\n        \"samples\": [\n          6.48\n        ],\n        \"semantic_type\": \"\",\n        \"description\": \"\"\n      }\n    }\n  ]\n}",
       "type": "dataframe"
      },
      "text/html": [
       "\n",
       "  <div id=\"df-2d20ebd7-ad7a-484f-91f7-9f91696d34bd\" class=\"colab-df-container\">\n",
       "    <div>\n",
       "<style scoped>\n",
       "    .dataframe tbody tr th:only-of-type {\n",
       "        vertical-align: middle;\n",
       "    }\n",
       "\n",
       "    .dataframe tbody tr th {\n",
       "        vertical-align: top;\n",
       "    }\n",
       "\n",
       "    .dataframe thead th {\n",
       "        text-align: right;\n",
       "    }\n",
       "</style>\n",
       "<table border=\"1\" class=\"dataframe\">\n",
       "  <thead>\n",
       "    <tr style=\"text-align: right;\">\n",
       "      <th></th>\n",
       "      <th>Month</th>\n",
       "      <th>Category</th>\n",
       "      <th>Sales</th>\n",
       "      <th>ProfitMargin</th>\n",
       "    </tr>\n",
       "  </thead>\n",
       "  <tbody>\n",
       "    <tr>\n",
       "      <th>39</th>\n",
       "      <td>Aug</td>\n",
       "      <td>Books</td>\n",
       "      <td>4974</td>\n",
       "      <td>6.48</td>\n",
       "    </tr>\n",
       "  </tbody>\n",
       "</table>\n",
       "</div>\n",
       "    <div class=\"colab-df-buttons\">\n",
       "\n",
       "  <div class=\"colab-df-container\">\n",
       "    <button class=\"colab-df-convert\" onclick=\"convertToInteractive('df-2d20ebd7-ad7a-484f-91f7-9f91696d34bd')\"\n",
       "            title=\"Convert this dataframe to an interactive table.\"\n",
       "            style=\"display:none;\">\n",
       "\n",
       "  <svg xmlns=\"http://www.w3.org/2000/svg\" height=\"24px\" viewBox=\"0 -960 960 960\">\n",
       "    <path d=\"M120-120v-720h720v720H120Zm60-500h600v-160H180v160Zm220 220h160v-160H400v160Zm0 220h160v-160H400v160ZM180-400h160v-160H180v160Zm440 0h160v-160H620v160ZM180-180h160v-160H180v160Zm440 0h160v-160H620v160Z\"/>\n",
       "  </svg>\n",
       "    </button>\n",
       "\n",
       "  <style>\n",
       "    .colab-df-container {\n",
       "      display:flex;\n",
       "      gap: 12px;\n",
       "    }\n",
       "\n",
       "    .colab-df-convert {\n",
       "      background-color: #E8F0FE;\n",
       "      border: none;\n",
       "      border-radius: 50%;\n",
       "      cursor: pointer;\n",
       "      display: none;\n",
       "      fill: #1967D2;\n",
       "      height: 32px;\n",
       "      padding: 0 0 0 0;\n",
       "      width: 32px;\n",
       "    }\n",
       "\n",
       "    .colab-df-convert:hover {\n",
       "      background-color: #E2EBFA;\n",
       "      box-shadow: 0px 1px 2px rgba(60, 64, 67, 0.3), 0px 1px 3px 1px rgba(60, 64, 67, 0.15);\n",
       "      fill: #174EA6;\n",
       "    }\n",
       "\n",
       "    .colab-df-buttons div {\n",
       "      margin-bottom: 4px;\n",
       "    }\n",
       "\n",
       "    [theme=dark] .colab-df-convert {\n",
       "      background-color: #3B4455;\n",
       "      fill: #D2E3FC;\n",
       "    }\n",
       "\n",
       "    [theme=dark] .colab-df-convert:hover {\n",
       "      background-color: #434B5C;\n",
       "      box-shadow: 0px 1px 3px 1px rgba(0, 0, 0, 0.15);\n",
       "      filter: drop-shadow(0px 1px 2px rgba(0, 0, 0, 0.3));\n",
       "      fill: #FFFFFF;\n",
       "    }\n",
       "  </style>\n",
       "\n",
       "    <script>\n",
       "      const buttonEl =\n",
       "        document.querySelector('#df-2d20ebd7-ad7a-484f-91f7-9f91696d34bd button.colab-df-convert');\n",
       "      buttonEl.style.display =\n",
       "        google.colab.kernel.accessAllowed ? 'block' : 'none';\n",
       "\n",
       "      async function convertToInteractive(key) {\n",
       "        const element = document.querySelector('#df-2d20ebd7-ad7a-484f-91f7-9f91696d34bd');\n",
       "        const dataTable =\n",
       "          await google.colab.kernel.invokeFunction('convertToInteractive',\n",
       "                                                    [key], {});\n",
       "        if (!dataTable) return;\n",
       "\n",
       "        const docLinkHtml = 'Like what you see? Visit the ' +\n",
       "          '<a target=\"_blank\" href=https://colab.research.google.com/notebooks/data_table.ipynb>data table notebook</a>'\n",
       "          + ' to learn more about interactive tables.';\n",
       "        element.innerHTML = '';\n",
       "        dataTable['output_type'] = 'display_data';\n",
       "        await google.colab.output.renderOutput(dataTable, element);\n",
       "        const docLink = document.createElement('div');\n",
       "        docLink.innerHTML = docLinkHtml;\n",
       "        element.appendChild(docLink);\n",
       "      }\n",
       "    </script>\n",
       "  </div>\n",
       "\n",
       "\n",
       "    </div>\n",
       "  </div>\n"
      ],
      "text/plain": [
       "   Month Category  Sales  ProfitMargin\n",
       "39   Aug    Books   4974          6.48"
      ]
     },
     "execution_count": 54,
     "metadata": {},
     "output_type": "execute_result"
    }
   ],
   "source": [
    "df[df['Sales'] == np.max(df['Sales'])]"
   ]
  },
  {
   "cell_type": "code",
   "execution_count": null,
   "metadata": {
    "colab": {
     "base_uri": "https://localhost:8080/",
     "height": 36
    },
    "id": "Exn-CyDwo8ns",
    "outputId": "e17cd0f5-2ef3-431f-b19d-953441537e0f"
   },
   "outputs": [
    {
     "data": {
      "application/vnd.google.colaboratory.intrinsic+json": {
       "type": "string"
      },
      "text/plain": [
       "'Apr'"
      ]
     },
     "execution_count": 55,
     "metadata": {},
     "output_type": "execute_result"
    }
   ],
   "source": [
    "# Calculate total sales per month\n",
    "monthly_sales = df.groupby('Month')['Sales'].sum()\n",
    "\n",
    "# Find the month with the highest total sales\n",
    "month_with_highest_sales = monthly_sales.idxmax()\n",
    "\n",
    "month_with_highest_sales"
   ]
  },
  {
   "cell_type": "markdown",
   "metadata": {
    "id": "dLQwXN0z8xyu"
   },
   "source": [
    "###4.3:  Aggregation and Statistical Computations"
   ]
  },
  {
   "cell_type": "code",
   "execution_count": null,
   "metadata": {
    "colab": {
     "base_uri": "https://localhost:8080/"
    },
    "id": "r6ANnN8I8xoc",
    "outputId": "af28685b-23e7-4167-9bb9-f3f3ef617aa6"
   },
   "outputs": [
    {
     "data": {
      "text/plain": [
       "2489.4166666666665"
      ]
     },
     "execution_count": 58,
     "metadata": {},
     "output_type": "execute_result"
    }
   ],
   "source": [
    "sales.mean()"
   ]
  },
  {
   "cell_type": "code",
   "execution_count": null,
   "metadata": {
    "colab": {
     "base_uri": "https://localhost:8080/"
    },
    "id": "lY4FNpkN8xl9",
    "outputId": "f07cafba-0676-49ed-c19a-1d7b2995e617"
   },
   "outputs": [
    {
     "data": {
      "text/plain": [
       "2463.0"
      ]
     },
     "execution_count": 62,
     "metadata": {},
     "output_type": "execute_result"
    }
   ],
   "source": [
    "np.median(sales)"
   ]
  },
  {
   "cell_type": "code",
   "execution_count": null,
   "metadata": {
    "colab": {
     "base_uri": "https://localhost:8080/"
    },
    "id": "71LH5qS1rcKN",
    "outputId": "83cfd357-944f-42af-d548-d0cc8aa32c8c"
   },
   "outputs": [
    {
     "data": {
      "text/plain": [
       "1191.1881784121638"
      ]
     },
     "execution_count": 65,
     "metadata": {},
     "output_type": "execute_result"
    }
   ],
   "source": [
    "sales.std()"
   ]
  },
  {
   "cell_type": "code",
   "execution_count": null,
   "metadata": {
    "colab": {
     "base_uri": "https://localhost:8080/"
    },
    "id": "M3muUaD3_0NP",
    "outputId": "51fde18b-91a3-4b18-b7f4-6740ff80ad33"
   },
   "outputs": [
    {
     "data": {
      "text/plain": [
       "1418929.2763888887"
      ]
     },
     "execution_count": 67,
     "metadata": {},
     "output_type": "execute_result"
    }
   ],
   "source": [
    "sales.var()\n"
   ]
  },
  {
   "cell_type": "code",
   "execution_count": null,
   "metadata": {
    "colab": {
     "base_uri": "https://localhost:8080/",
     "height": 36
    },
    "id": "HjoIWPWf_4mI",
    "outputId": "91410822-9505-4142-8730-3f6adb4b3fb2"
   },
   "outputs": [
    {
     "data": {
      "application/vnd.google.colaboratory.intrinsic+json": {
       "type": "string"
      },
      "text/plain": [
       "'Clothing'"
      ]
     },
     "execution_count": 82,
     "metadata": {},
     "output_type": "execute_result"
    }
   ],
   "source": [
    "highest_sales_category = df.groupby(\"Category\")[\"Sales\"].mean().idxmax()\n",
    "highest_sales_category"
   ]
  },
  {
   "cell_type": "markdown",
   "metadata": {
    "id": "P29oc72aO9vV"
   },
   "source": [
    "###4.4:  Bar Chart - Sales by Category"
   ]
  },
  {
   "cell_type": "code",
   "execution_count": null,
   "metadata": {
    "colab": {
     "base_uri": "https://localhost:8080/",
     "height": 1000
    },
    "id": "RhXe-7McKjOk",
    "outputId": "7df7d1a7-796c-423d-ef0d-71b221108234"
   },
   "outputs": [
    {
     "data": {
      "application/vnd.google.colaboratory.intrinsic+json": {
       "summary": "{\n  \"name\": \"df\",\n  \"rows\": 60,\n  \"fields\": [\n    {\n      \"column\": \"Month\",\n      \"properties\": {\n        \"dtype\": \"category\",\n        \"num_unique_values\": 12,\n        \"samples\": [\n          \"Nov\",\n          \"Oct\",\n          \"Jan\"\n        ],\n        \"semantic_type\": \"\",\n        \"description\": \"\"\n      }\n    },\n    {\n      \"column\": \"Category\",\n      \"properties\": {\n        \"dtype\": \"category\",\n        \"num_unique_values\": 5,\n        \"samples\": [\n          \"Clothing\",\n          \"Books\",\n          \"Groceries\"\n        ],\n        \"semantic_type\": \"\",\n        \"description\": \"\"\n      }\n    },\n    {\n      \"column\": \"Sales\",\n      \"properties\": {\n        \"dtype\": \"number\",\n        \"std\": 1201,\n        \"min\": 630,\n        \"max\": 4974,\n        \"num_unique_values\": 60,\n        \"samples\": [\n          1360,\n          1269,\n          3068\n        ],\n        \"semantic_type\": \"\",\n        \"description\": \"\"\n      }\n    },\n    {\n      \"column\": \"ProfitMargin\",\n      \"properties\": {\n        \"dtype\": \"number\",\n        \"std\": 5.759246387749205,\n        \"min\": 5.14,\n        \"max\": 24.31,\n        \"num_unique_values\": 59,\n        \"samples\": [\n          8.67,\n          19.44,\n          10.52\n        ],\n        \"semantic_type\": \"\",\n        \"description\": \"\"\n      }\n    }\n  ]\n}",
       "type": "dataframe",
       "variable_name": "df"
      },
      "text/html": [
       "\n",
       "  <div id=\"df-38ee6a81-9e86-45b8-b8bf-68cc4b660934\" class=\"colab-df-container\">\n",
       "    <div>\n",
       "<style scoped>\n",
       "    .dataframe tbody tr th:only-of-type {\n",
       "        vertical-align: middle;\n",
       "    }\n",
       "\n",
       "    .dataframe tbody tr th {\n",
       "        vertical-align: top;\n",
       "    }\n",
       "\n",
       "    .dataframe thead th {\n",
       "        text-align: right;\n",
       "    }\n",
       "</style>\n",
       "<table border=\"1\" class=\"dataframe\">\n",
       "  <thead>\n",
       "    <tr style=\"text-align: right;\">\n",
       "      <th></th>\n",
       "      <th>Month</th>\n",
       "      <th>Category</th>\n",
       "      <th>Sales</th>\n",
       "      <th>ProfitMargin</th>\n",
       "    </tr>\n",
       "  </thead>\n",
       "  <tbody>\n",
       "    <tr>\n",
       "      <th>0</th>\n",
       "      <td>Jan</td>\n",
       "      <td>Electronics</td>\n",
       "      <td>1360</td>\n",
       "      <td>8.67</td>\n",
       "    </tr>\n",
       "    <tr>\n",
       "      <th>1</th>\n",
       "      <td>Jan</td>\n",
       "      <td>Clothing</td>\n",
       "      <td>4272</td>\n",
       "      <td>16.94</td>\n",
       "    </tr>\n",
       "    <tr>\n",
       "      <th>2</th>\n",
       "      <td>Jan</td>\n",
       "      <td>Groceries</td>\n",
       "      <td>966</td>\n",
       "      <td>7.00</td>\n",
       "    </tr>\n",
       "    <tr>\n",
       "      <th>3</th>\n",
       "      <td>Jan</td>\n",
       "      <td>Furniture</td>\n",
       "      <td>3944</td>\n",
       "      <td>17.02</td>\n",
       "    </tr>\n",
       "    <tr>\n",
       "      <th>4</th>\n",
       "      <td>Jan</td>\n",
       "      <td>Books</td>\n",
       "      <td>630</td>\n",
       "      <td>5.41</td>\n",
       "    </tr>\n",
       "    <tr>\n",
       "      <th>5</th>\n",
       "      <td>Feb</td>\n",
       "      <td>Electronics</td>\n",
       "      <td>1269</td>\n",
       "      <td>19.44</td>\n",
       "    </tr>\n",
       "    <tr>\n",
       "      <th>6</th>\n",
       "      <td>Feb</td>\n",
       "      <td>Clothing</td>\n",
       "      <td>2933</td>\n",
       "      <td>8.64</td>\n",
       "    </tr>\n",
       "    <tr>\n",
       "      <th>7</th>\n",
       "      <td>Feb</td>\n",
       "      <td>Groceries</td>\n",
       "      <td>1684</td>\n",
       "      <td>11.08</td>\n",
       "    </tr>\n",
       "    <tr>\n",
       "      <th>8</th>\n",
       "      <td>Feb</td>\n",
       "      <td>Furniture</td>\n",
       "      <td>4617</td>\n",
       "      <td>5.14</td>\n",
       "    </tr>\n",
       "    <tr>\n",
       "      <th>9</th>\n",
       "      <td>Feb</td>\n",
       "      <td>Books</td>\n",
       "      <td>3404</td>\n",
       "      <td>10.82</td>\n",
       "    </tr>\n",
       "    <tr>\n",
       "      <th>10</th>\n",
       "      <td>Mar</td>\n",
       "      <td>Electronics</td>\n",
       "      <td>1582</td>\n",
       "      <td>13.00</td>\n",
       "    </tr>\n",
       "    <tr>\n",
       "      <th>11</th>\n",
       "      <td>Mar</td>\n",
       "      <td>Clothing</td>\n",
       "      <td>2547</td>\n",
       "      <td>10.84</td>\n",
       "    </tr>\n",
       "    <tr>\n",
       "      <th>12</th>\n",
       "      <td>Mar</td>\n",
       "      <td>Groceries</td>\n",
       "      <td>1475</td>\n",
       "      <td>9.66</td>\n",
       "    </tr>\n",
       "    <tr>\n",
       "      <th>13</th>\n",
       "      <td>Mar</td>\n",
       "      <td>Furniture</td>\n",
       "      <td>3234</td>\n",
       "      <td>17.37</td>\n",
       "    </tr>\n",
       "    <tr>\n",
       "      <th>14</th>\n",
       "      <td>Mar</td>\n",
       "      <td>Books</td>\n",
       "      <td>2399</td>\n",
       "      <td>15.28</td>\n",
       "    </tr>\n",
       "    <tr>\n",
       "      <th>15</th>\n",
       "      <td>Apr</td>\n",
       "      <td>Electronics</td>\n",
       "      <td>2028</td>\n",
       "      <td>5.93</td>\n",
       "    </tr>\n",
       "    <tr>\n",
       "      <th>16</th>\n",
       "      <td>Apr</td>\n",
       "      <td>Clothing</td>\n",
       "      <td>4390</td>\n",
       "      <td>18.61</td>\n",
       "    </tr>\n",
       "    <tr>\n",
       "      <th>17</th>\n",
       "      <td>Apr</td>\n",
       "      <td>Groceries</td>\n",
       "      <td>3388</td>\n",
       "      <td>6.30</td>\n",
       "    </tr>\n",
       "    <tr>\n",
       "      <th>18</th>\n",
       "      <td>Apr</td>\n",
       "      <td>Furniture</td>\n",
       "      <td>2935</td>\n",
       "      <td>23.84</td>\n",
       "    </tr>\n",
       "    <tr>\n",
       "      <th>19</th>\n",
       "      <td>Apr</td>\n",
       "      <td>Books</td>\n",
       "      <td>2561</td>\n",
       "      <td>21.17</td>\n",
       "    </tr>\n",
       "    <tr>\n",
       "      <th>20</th>\n",
       "      <td>May</td>\n",
       "      <td>Electronics</td>\n",
       "      <td>3324</td>\n",
       "      <td>5.32</td>\n",
       "    </tr>\n",
       "    <tr>\n",
       "      <th>21</th>\n",
       "      <td>May</td>\n",
       "      <td>Clothing</td>\n",
       "      <td>1863</td>\n",
       "      <td>9.82</td>\n",
       "    </tr>\n",
       "    <tr>\n",
       "      <th>22</th>\n",
       "      <td>May</td>\n",
       "      <td>Groceries</td>\n",
       "      <td>1978</td>\n",
       "      <td>17.20</td>\n",
       "    </tr>\n",
       "    <tr>\n",
       "      <th>23</th>\n",
       "      <td>May</td>\n",
       "      <td>Furniture</td>\n",
       "      <td>1275</td>\n",
       "      <td>5.69</td>\n",
       "    </tr>\n",
       "    <tr>\n",
       "      <th>24</th>\n",
       "      <td>May</td>\n",
       "      <td>Books</td>\n",
       "      <td>3652</td>\n",
       "      <td>10.18</td>\n",
       "    </tr>\n",
       "    <tr>\n",
       "      <th>25</th>\n",
       "      <td>Jun</td>\n",
       "      <td>Electronics</td>\n",
       "      <td>4443</td>\n",
       "      <td>20.11</td>\n",
       "    </tr>\n",
       "    <tr>\n",
       "      <th>26</th>\n",
       "      <td>Jun</td>\n",
       "      <td>Clothing</td>\n",
       "      <td>1521</td>\n",
       "      <td>15.40</td>\n",
       "    </tr>\n",
       "    <tr>\n",
       "      <th>27</th>\n",
       "      <td>Jun</td>\n",
       "      <td>Groceries</td>\n",
       "      <td>4343</td>\n",
       "      <td>8.70</td>\n",
       "    </tr>\n",
       "    <tr>\n",
       "      <th>28</th>\n",
       "      <td>Jun</td>\n",
       "      <td>Furniture</td>\n",
       "      <td>661</td>\n",
       "      <td>12.90</td>\n",
       "    </tr>\n",
       "    <tr>\n",
       "      <th>29</th>\n",
       "      <td>Jun</td>\n",
       "      <td>Books</td>\n",
       "      <td>1495</td>\n",
       "      <td>16.96</td>\n",
       "    </tr>\n",
       "    <tr>\n",
       "      <th>30</th>\n",
       "      <td>Jul</td>\n",
       "      <td>Electronics</td>\n",
       "      <td>3842</td>\n",
       "      <td>6.77</td>\n",
       "    </tr>\n",
       "    <tr>\n",
       "      <th>31</th>\n",
       "      <td>Jul</td>\n",
       "      <td>Clothing</td>\n",
       "      <td>4298</td>\n",
       "      <td>15.42</td>\n",
       "    </tr>\n",
       "    <tr>\n",
       "      <th>32</th>\n",
       "      <td>Jul</td>\n",
       "      <td>Groceries</td>\n",
       "      <td>837</td>\n",
       "      <td>15.79</td>\n",
       "    </tr>\n",
       "    <tr>\n",
       "      <th>33</th>\n",
       "      <td>Jul</td>\n",
       "      <td>Furniture</td>\n",
       "      <td>4493</td>\n",
       "      <td>24.31</td>\n",
       "    </tr>\n",
       "    <tr>\n",
       "      <th>34</th>\n",
       "      <td>Jul</td>\n",
       "      <td>Books</td>\n",
       "      <td>879</td>\n",
       "      <td>10.52</td>\n",
       "    </tr>\n",
       "    <tr>\n",
       "      <th>35</th>\n",
       "      <td>Aug</td>\n",
       "      <td>Electronics</td>\n",
       "      <td>2562</td>\n",
       "      <td>8.31</td>\n",
       "    </tr>\n",
       "    <tr>\n",
       "      <th>36</th>\n",
       "      <td>Aug</td>\n",
       "      <td>Clothing</td>\n",
       "      <td>3068</td>\n",
       "      <td>20.44</td>\n",
       "    </tr>\n",
       "    <tr>\n",
       "      <th>37</th>\n",
       "      <td>Aug</td>\n",
       "      <td>Groceries</td>\n",
       "      <td>2527</td>\n",
       "      <td>10.87</td>\n",
       "    </tr>\n",
       "    <tr>\n",
       "      <th>38</th>\n",
       "      <td>Aug</td>\n",
       "      <td>Furniture</td>\n",
       "      <td>891</td>\n",
       "      <td>19.58</td>\n",
       "    </tr>\n",
       "    <tr>\n",
       "      <th>39</th>\n",
       "      <td>Aug</td>\n",
       "      <td>Books</td>\n",
       "      <td>4974</td>\n",
       "      <td>6.48</td>\n",
       "    </tr>\n",
       "    <tr>\n",
       "      <th>40</th>\n",
       "      <td>Sep</td>\n",
       "      <td>Electronics</td>\n",
       "      <td>2778</td>\n",
       "      <td>18.02</td>\n",
       "    </tr>\n",
       "    <tr>\n",
       "      <th>41</th>\n",
       "      <td>Sep</td>\n",
       "      <td>Clothing</td>\n",
       "      <td>3599</td>\n",
       "      <td>22.26</td>\n",
       "    </tr>\n",
       "    <tr>\n",
       "      <th>42</th>\n",
       "      <td>Sep</td>\n",
       "      <td>Groceries</td>\n",
       "      <td>3604</td>\n",
       "      <td>6.27</td>\n",
       "    </tr>\n",
       "    <tr>\n",
       "      <th>43</th>\n",
       "      <td>Sep</td>\n",
       "      <td>Furniture</td>\n",
       "      <td>2954</td>\n",
       "      <td>18.38</td>\n",
       "    </tr>\n",
       "    <tr>\n",
       "      <th>44</th>\n",
       "      <td>Sep</td>\n",
       "      <td>Books</td>\n",
       "      <td>1304</td>\n",
       "      <td>19.59</td>\n",
       "    </tr>\n",
       "    <tr>\n",
       "      <th>45</th>\n",
       "      <td>Oct</td>\n",
       "      <td>Electronics</td>\n",
       "      <td>3273</td>\n",
       "      <td>22.74</td>\n",
       "    </tr>\n",
       "    <tr>\n",
       "      <th>46</th>\n",
       "      <td>Oct</td>\n",
       "      <td>Clothing</td>\n",
       "      <td>3190</td>\n",
       "      <td>20.22</td>\n",
       "    </tr>\n",
       "    <tr>\n",
       "      <th>47</th>\n",
       "      <td>Oct</td>\n",
       "      <td>Groceries</td>\n",
       "      <td>1002</td>\n",
       "      <td>20.42</td>\n",
       "    </tr>\n",
       "    <tr>\n",
       "      <th>48</th>\n",
       "      <td>Oct</td>\n",
       "      <td>Furniture</td>\n",
       "      <td>1370</td>\n",
       "      <td>5.81</td>\n",
       "    </tr>\n",
       "    <tr>\n",
       "      <th>49</th>\n",
       "      <td>Oct</td>\n",
       "      <td>Books</td>\n",
       "      <td>706</td>\n",
       "      <td>13.55</td>\n",
       "    </tr>\n",
       "    <tr>\n",
       "      <th>50</th>\n",
       "      <td>Nov</td>\n",
       "      <td>Electronics</td>\n",
       "      <td>1984</td>\n",
       "      <td>9.03</td>\n",
       "    </tr>\n",
       "    <tr>\n",
       "      <th>51</th>\n",
       "      <td>Nov</td>\n",
       "      <td>Clothing</td>\n",
       "      <td>1363</td>\n",
       "      <td>17.73</td>\n",
       "    </tr>\n",
       "    <tr>\n",
       "      <th>52</th>\n",
       "      <td>Nov</td>\n",
       "      <td>Groceries</td>\n",
       "      <td>1063</td>\n",
       "      <td>16.27</td>\n",
       "    </tr>\n",
       "    <tr>\n",
       "      <th>53</th>\n",
       "      <td>Nov</td>\n",
       "      <td>Furniture</td>\n",
       "      <td>2257</td>\n",
       "      <td>7.79</td>\n",
       "    </tr>\n",
       "    <tr>\n",
       "      <th>54</th>\n",
       "      <td>Nov</td>\n",
       "      <td>Books</td>\n",
       "      <td>2178</td>\n",
       "      <td>20.11</td>\n",
       "    </tr>\n",
       "    <tr>\n",
       "      <th>55</th>\n",
       "      <td>Dec</td>\n",
       "      <td>Electronics</td>\n",
       "      <td>1559</td>\n",
       "      <td>23.86</td>\n",
       "    </tr>\n",
       "    <tr>\n",
       "      <th>56</th>\n",
       "      <td>Dec</td>\n",
       "      <td>Clothing</td>\n",
       "      <td>2222</td>\n",
       "      <td>18.90</td>\n",
       "    </tr>\n",
       "    <tr>\n",
       "      <th>57</th>\n",
       "      <td>Dec</td>\n",
       "      <td>Groceries</td>\n",
       "      <td>3125</td>\n",
       "      <td>17.49</td>\n",
       "    </tr>\n",
       "    <tr>\n",
       "      <th>58</th>\n",
       "      <td>Dec</td>\n",
       "      <td>Furniture</td>\n",
       "      <td>2097</td>\n",
       "      <td>17.67</td>\n",
       "    </tr>\n",
       "    <tr>\n",
       "      <th>59</th>\n",
       "      <td>Dec</td>\n",
       "      <td>Books</td>\n",
       "      <td>3193</td>\n",
       "      <td>14.13</td>\n",
       "    </tr>\n",
       "  </tbody>\n",
       "</table>\n",
       "</div>\n",
       "    <div class=\"colab-df-buttons\">\n",
       "\n",
       "  <div class=\"colab-df-container\">\n",
       "    <button class=\"colab-df-convert\" onclick=\"convertToInteractive('df-38ee6a81-9e86-45b8-b8bf-68cc4b660934')\"\n",
       "            title=\"Convert this dataframe to an interactive table.\"\n",
       "            style=\"display:none;\">\n",
       "\n",
       "  <svg xmlns=\"http://www.w3.org/2000/svg\" height=\"24px\" viewBox=\"0 -960 960 960\">\n",
       "    <path d=\"M120-120v-720h720v720H120Zm60-500h600v-160H180v160Zm220 220h160v-160H400v160Zm0 220h160v-160H400v160ZM180-400h160v-160H180v160Zm440 0h160v-160H620v160ZM180-180h160v-160H180v160Zm440 0h160v-160H620v160Z\"/>\n",
       "  </svg>\n",
       "    </button>\n",
       "\n",
       "  <style>\n",
       "    .colab-df-container {\n",
       "      display:flex;\n",
       "      gap: 12px;\n",
       "    }\n",
       "\n",
       "    .colab-df-convert {\n",
       "      background-color: #E8F0FE;\n",
       "      border: none;\n",
       "      border-radius: 50%;\n",
       "      cursor: pointer;\n",
       "      display: none;\n",
       "      fill: #1967D2;\n",
       "      height: 32px;\n",
       "      padding: 0 0 0 0;\n",
       "      width: 32px;\n",
       "    }\n",
       "\n",
       "    .colab-df-convert:hover {\n",
       "      background-color: #E2EBFA;\n",
       "      box-shadow: 0px 1px 2px rgba(60, 64, 67, 0.3), 0px 1px 3px 1px rgba(60, 64, 67, 0.15);\n",
       "      fill: #174EA6;\n",
       "    }\n",
       "\n",
       "    .colab-df-buttons div {\n",
       "      margin-bottom: 4px;\n",
       "    }\n",
       "\n",
       "    [theme=dark] .colab-df-convert {\n",
       "      background-color: #3B4455;\n",
       "      fill: #D2E3FC;\n",
       "    }\n",
       "\n",
       "    [theme=dark] .colab-df-convert:hover {\n",
       "      background-color: #434B5C;\n",
       "      box-shadow: 0px 1px 3px 1px rgba(0, 0, 0, 0.15);\n",
       "      filter: drop-shadow(0px 1px 2px rgba(0, 0, 0, 0.3));\n",
       "      fill: #FFFFFF;\n",
       "    }\n",
       "  </style>\n",
       "\n",
       "    <script>\n",
       "      const buttonEl =\n",
       "        document.querySelector('#df-38ee6a81-9e86-45b8-b8bf-68cc4b660934 button.colab-df-convert');\n",
       "      buttonEl.style.display =\n",
       "        google.colab.kernel.accessAllowed ? 'block' : 'none';\n",
       "\n",
       "      async function convertToInteractive(key) {\n",
       "        const element = document.querySelector('#df-38ee6a81-9e86-45b8-b8bf-68cc4b660934');\n",
       "        const dataTable =\n",
       "          await google.colab.kernel.invokeFunction('convertToInteractive',\n",
       "                                                    [key], {});\n",
       "        if (!dataTable) return;\n",
       "\n",
       "        const docLinkHtml = 'Like what you see? Visit the ' +\n",
       "          '<a target=\"_blank\" href=https://colab.research.google.com/notebooks/data_table.ipynb>data table notebook</a>'\n",
       "          + ' to learn more about interactive tables.';\n",
       "        element.innerHTML = '';\n",
       "        dataTable['output_type'] = 'display_data';\n",
       "        await google.colab.output.renderOutput(dataTable, element);\n",
       "        const docLink = document.createElement('div');\n",
       "        docLink.innerHTML = docLinkHtml;\n",
       "        element.appendChild(docLink);\n",
       "      }\n",
       "    </script>\n",
       "  </div>\n",
       "\n",
       "\n",
       "<div id=\"df-38341713-fb05-4c83-98ed-8e32fe2cea1d\">\n",
       "  <button class=\"colab-df-quickchart\" onclick=\"quickchart('df-38341713-fb05-4c83-98ed-8e32fe2cea1d')\"\n",
       "            title=\"Suggest charts\"\n",
       "            style=\"display:none;\">\n",
       "\n",
       "<svg xmlns=\"http://www.w3.org/2000/svg\" height=\"24px\"viewBox=\"0 0 24 24\"\n",
       "     width=\"24px\">\n",
       "    <g>\n",
       "        <path d=\"M19 3H5c-1.1 0-2 .9-2 2v14c0 1.1.9 2 2 2h14c1.1 0 2-.9 2-2V5c0-1.1-.9-2-2-2zM9 17H7v-7h2v7zm4 0h-2V7h2v10zm4 0h-2v-4h2v4z\"/>\n",
       "    </g>\n",
       "</svg>\n",
       "  </button>\n",
       "\n",
       "<style>\n",
       "  .colab-df-quickchart {\n",
       "      --bg-color: #E8F0FE;\n",
       "      --fill-color: #1967D2;\n",
       "      --hover-bg-color: #E2EBFA;\n",
       "      --hover-fill-color: #174EA6;\n",
       "      --disabled-fill-color: #AAA;\n",
       "      --disabled-bg-color: #DDD;\n",
       "  }\n",
       "\n",
       "  [theme=dark] .colab-df-quickchart {\n",
       "      --bg-color: #3B4455;\n",
       "      --fill-color: #D2E3FC;\n",
       "      --hover-bg-color: #434B5C;\n",
       "      --hover-fill-color: #FFFFFF;\n",
       "      --disabled-bg-color: #3B4455;\n",
       "      --disabled-fill-color: #666;\n",
       "  }\n",
       "\n",
       "  .colab-df-quickchart {\n",
       "    background-color: var(--bg-color);\n",
       "    border: none;\n",
       "    border-radius: 50%;\n",
       "    cursor: pointer;\n",
       "    display: none;\n",
       "    fill: var(--fill-color);\n",
       "    height: 32px;\n",
       "    padding: 0;\n",
       "    width: 32px;\n",
       "  }\n",
       "\n",
       "  .colab-df-quickchart:hover {\n",
       "    background-color: var(--hover-bg-color);\n",
       "    box-shadow: 0 1px 2px rgba(60, 64, 67, 0.3), 0 1px 3px 1px rgba(60, 64, 67, 0.15);\n",
       "    fill: var(--button-hover-fill-color);\n",
       "  }\n",
       "\n",
       "  .colab-df-quickchart-complete:disabled,\n",
       "  .colab-df-quickchart-complete:disabled:hover {\n",
       "    background-color: var(--disabled-bg-color);\n",
       "    fill: var(--disabled-fill-color);\n",
       "    box-shadow: none;\n",
       "  }\n",
       "\n",
       "  .colab-df-spinner {\n",
       "    border: 2px solid var(--fill-color);\n",
       "    border-color: transparent;\n",
       "    border-bottom-color: var(--fill-color);\n",
       "    animation:\n",
       "      spin 1s steps(1) infinite;\n",
       "  }\n",
       "\n",
       "  @keyframes spin {\n",
       "    0% {\n",
       "      border-color: transparent;\n",
       "      border-bottom-color: var(--fill-color);\n",
       "      border-left-color: var(--fill-color);\n",
       "    }\n",
       "    20% {\n",
       "      border-color: transparent;\n",
       "      border-left-color: var(--fill-color);\n",
       "      border-top-color: var(--fill-color);\n",
       "    }\n",
       "    30% {\n",
       "      border-color: transparent;\n",
       "      border-left-color: var(--fill-color);\n",
       "      border-top-color: var(--fill-color);\n",
       "      border-right-color: var(--fill-color);\n",
       "    }\n",
       "    40% {\n",
       "      border-color: transparent;\n",
       "      border-right-color: var(--fill-color);\n",
       "      border-top-color: var(--fill-color);\n",
       "    }\n",
       "    60% {\n",
       "      border-color: transparent;\n",
       "      border-right-color: var(--fill-color);\n",
       "    }\n",
       "    80% {\n",
       "      border-color: transparent;\n",
       "      border-right-color: var(--fill-color);\n",
       "      border-bottom-color: var(--fill-color);\n",
       "    }\n",
       "    90% {\n",
       "      border-color: transparent;\n",
       "      border-bottom-color: var(--fill-color);\n",
       "    }\n",
       "  }\n",
       "</style>\n",
       "\n",
       "  <script>\n",
       "    async function quickchart(key) {\n",
       "      const quickchartButtonEl =\n",
       "        document.querySelector('#' + key + ' button');\n",
       "      quickchartButtonEl.disabled = true;  // To prevent multiple clicks.\n",
       "      quickchartButtonEl.classList.add('colab-df-spinner');\n",
       "      try {\n",
       "        const charts = await google.colab.kernel.invokeFunction(\n",
       "            'suggestCharts', [key], {});\n",
       "      } catch (error) {\n",
       "        console.error('Error during call to suggestCharts:', error);\n",
       "      }\n",
       "      quickchartButtonEl.classList.remove('colab-df-spinner');\n",
       "      quickchartButtonEl.classList.add('colab-df-quickchart-complete');\n",
       "    }\n",
       "    (() => {\n",
       "      let quickchartButtonEl =\n",
       "        document.querySelector('#df-38341713-fb05-4c83-98ed-8e32fe2cea1d button');\n",
       "      quickchartButtonEl.style.display =\n",
       "        google.colab.kernel.accessAllowed ? 'block' : 'none';\n",
       "    })();\n",
       "  </script>\n",
       "</div>\n",
       "\n",
       "  <div id=\"id_f8ffe875-5f79-4a88-bb65-5a2757c4c9af\">\n",
       "    <style>\n",
       "      .colab-df-generate {\n",
       "        background-color: #E8F0FE;\n",
       "        border: none;\n",
       "        border-radius: 50%;\n",
       "        cursor: pointer;\n",
       "        display: none;\n",
       "        fill: #1967D2;\n",
       "        height: 32px;\n",
       "        padding: 0 0 0 0;\n",
       "        width: 32px;\n",
       "      }\n",
       "\n",
       "      .colab-df-generate:hover {\n",
       "        background-color: #E2EBFA;\n",
       "        box-shadow: 0px 1px 2px rgba(60, 64, 67, 0.3), 0px 1px 3px 1px rgba(60, 64, 67, 0.15);\n",
       "        fill: #174EA6;\n",
       "      }\n",
       "\n",
       "      [theme=dark] .colab-df-generate {\n",
       "        background-color: #3B4455;\n",
       "        fill: #D2E3FC;\n",
       "      }\n",
       "\n",
       "      [theme=dark] .colab-df-generate:hover {\n",
       "        background-color: #434B5C;\n",
       "        box-shadow: 0px 1px 3px 1px rgba(0, 0, 0, 0.15);\n",
       "        filter: drop-shadow(0px 1px 2px rgba(0, 0, 0, 0.3));\n",
       "        fill: #FFFFFF;\n",
       "      }\n",
       "    </style>\n",
       "    <button class=\"colab-df-generate\" onclick=\"generateWithVariable('df')\"\n",
       "            title=\"Generate code using this dataframe.\"\n",
       "            style=\"display:none;\">\n",
       "\n",
       "  <svg xmlns=\"http://www.w3.org/2000/svg\" height=\"24px\"viewBox=\"0 0 24 24\"\n",
       "       width=\"24px\">\n",
       "    <path d=\"M7,19H8.4L18.45,9,17,7.55,7,17.6ZM5,21V16.75L18.45,3.32a2,2,0,0,1,2.83,0l1.4,1.43a1.91,1.91,0,0,1,.58,1.4,1.91,1.91,0,0,1-.58,1.4L9.25,21ZM18.45,9,17,7.55Zm-12,3A5.31,5.31,0,0,0,4.9,8.1,5.31,5.31,0,0,0,1,6.5,5.31,5.31,0,0,0,4.9,4.9,5.31,5.31,0,0,0,6.5,1,5.31,5.31,0,0,0,8.1,4.9,5.31,5.31,0,0,0,12,6.5,5.46,5.46,0,0,0,6.5,12Z\"/>\n",
       "  </svg>\n",
       "    </button>\n",
       "    <script>\n",
       "      (() => {\n",
       "      const buttonEl =\n",
       "        document.querySelector('#id_f8ffe875-5f79-4a88-bb65-5a2757c4c9af button.colab-df-generate');\n",
       "      buttonEl.style.display =\n",
       "        google.colab.kernel.accessAllowed ? 'block' : 'none';\n",
       "\n",
       "      buttonEl.onclick = () => {\n",
       "        google.colab.notebook.generateWithVariable('df');\n",
       "      }\n",
       "      })();\n",
       "    </script>\n",
       "  </div>\n",
       "\n",
       "    </div>\n",
       "  </div>\n"
      ],
      "text/plain": [
       "   Month     Category  Sales  ProfitMargin\n",
       "0    Jan  Electronics   1360          8.67\n",
       "1    Jan     Clothing   4272         16.94\n",
       "2    Jan    Groceries    966          7.00\n",
       "3    Jan    Furniture   3944         17.02\n",
       "4    Jan        Books    630          5.41\n",
       "5    Feb  Electronics   1269         19.44\n",
       "6    Feb     Clothing   2933          8.64\n",
       "7    Feb    Groceries   1684         11.08\n",
       "8    Feb    Furniture   4617          5.14\n",
       "9    Feb        Books   3404         10.82\n",
       "10   Mar  Electronics   1582         13.00\n",
       "11   Mar     Clothing   2547         10.84\n",
       "12   Mar    Groceries   1475          9.66\n",
       "13   Mar    Furniture   3234         17.37\n",
       "14   Mar        Books   2399         15.28\n",
       "15   Apr  Electronics   2028          5.93\n",
       "16   Apr     Clothing   4390         18.61\n",
       "17   Apr    Groceries   3388          6.30\n",
       "18   Apr    Furniture   2935         23.84\n",
       "19   Apr        Books   2561         21.17\n",
       "20   May  Electronics   3324          5.32\n",
       "21   May     Clothing   1863          9.82\n",
       "22   May    Groceries   1978         17.20\n",
       "23   May    Furniture   1275          5.69\n",
       "24   May        Books   3652         10.18\n",
       "25   Jun  Electronics   4443         20.11\n",
       "26   Jun     Clothing   1521         15.40\n",
       "27   Jun    Groceries   4343          8.70\n",
       "28   Jun    Furniture    661         12.90\n",
       "29   Jun        Books   1495         16.96\n",
       "30   Jul  Electronics   3842          6.77\n",
       "31   Jul     Clothing   4298         15.42\n",
       "32   Jul    Groceries    837         15.79\n",
       "33   Jul    Furniture   4493         24.31\n",
       "34   Jul        Books    879         10.52\n",
       "35   Aug  Electronics   2562          8.31\n",
       "36   Aug     Clothing   3068         20.44\n",
       "37   Aug    Groceries   2527         10.87\n",
       "38   Aug    Furniture    891         19.58\n",
       "39   Aug        Books   4974          6.48\n",
       "40   Sep  Electronics   2778         18.02\n",
       "41   Sep     Clothing   3599         22.26\n",
       "42   Sep    Groceries   3604          6.27\n",
       "43   Sep    Furniture   2954         18.38\n",
       "44   Sep        Books   1304         19.59\n",
       "45   Oct  Electronics   3273         22.74\n",
       "46   Oct     Clothing   3190         20.22\n",
       "47   Oct    Groceries   1002         20.42\n",
       "48   Oct    Furniture   1370          5.81\n",
       "49   Oct        Books    706         13.55\n",
       "50   Nov  Electronics   1984          9.03\n",
       "51   Nov     Clothing   1363         17.73\n",
       "52   Nov    Groceries   1063         16.27\n",
       "53   Nov    Furniture   2257          7.79\n",
       "54   Nov        Books   2178         20.11\n",
       "55   Dec  Electronics   1559         23.86\n",
       "56   Dec     Clothing   2222         18.90\n",
       "57   Dec    Groceries   3125         17.49\n",
       "58   Dec    Furniture   2097         17.67\n",
       "59   Dec        Books   3193         14.13"
      ]
     },
     "execution_count": 92,
     "metadata": {},
     "output_type": "execute_result"
    }
   ],
   "source": [
    "df"
   ]
  },
  {
   "cell_type": "code",
   "execution_count": null,
   "metadata": {
    "colab": {
     "base_uri": "https://localhost:8080/",
     "height": 550
    },
    "id": "yKKs-a_vPHMc",
    "outputId": "67c6a6d0-9e5c-4097-8703-9f7b4d0b409f"
   },
   "outputs": [
    {
     "data": {
      "text/plain": [
       "Text(0.5, 1.0, 'Total Sales per category')"
      ]
     },
     "execution_count": 91,
     "metadata": {},
     "output_type": "execute_result"
    },
    {
     "data": {
      "image/png": "[encoded data removed]",
      "text/plain": [
       "<Figure size 640x480 with 1 Axes>"
      ]
     },
     "metadata": {},
     "output_type": "display_data"
    }
   ],
   "source": [
    "df.groupby(\"Category\")[\"Sales\"].sum().plot(kind = 'bar')\n",
    "plt.ylabel(\"Total Sales\")\n",
    "plt.title(\"Total Sales per category\")"
   ]
  },
  {
   "cell_type": "markdown",
   "metadata": {
    "id": "7HUsFIFZSIHb"
   },
   "source": [
    "###4.5:  Line Plot - Sales Trend Over Time"
   ]
  },
  {
   "cell_type": "code",
   "execution_count": null,
   "metadata": {
    "colab": {
     "base_uri": "https://localhost:8080/",
     "height": 607
    },
    "id": "yPaBfbU_PfPl",
    "outputId": "11f5921f-d678-48a7-b3dd-5966eed0626b"
   },
   "outputs": [
    {
     "data": {
      "image/png": "[encoded data removed]",
      "text/plain": [
       "<Figure size 1000x600 with 1 Axes>"
      ]
     },
     "metadata": {},
     "output_type": "display_data"
    }
   ],
   "source": [
    "# Calculate total sales per month\n",
    "monthly_sales = df.groupby('Month')['Sales'].sum()\n",
    "\n",
    "# Create the line plot\n",
    "plt.figure(figsize=(10, 6))  # Adjust figure size as needed\n",
    "plt.plot(monthly_sales.index, monthly_sales.values, marker='o', linestyle='-', color='blue')\n",
    "\n",
    "# Customize the plot\n",
    "plt.title('Total Sales Trend per Month')\n",
    "plt.xlabel('Month')\n",
    "plt.ylabel('Total Sales')\n",
    "plt.grid(True, linestyle='--', alpha=0.7)  # Add grid lines\n",
    "\n",
    "# Show the plot\n",
    "plt.tight_layout()\n",
    "plt.show()"
   ]
  },
  {
   "cell_type": "markdown",
   "metadata": {
    "id": "5KnJOnZVYhd2"
   },
   "source": [
    "###4.6 Advanced Plotting - Subplots"
   ]
  },
  {
   "cell_type": "code",
   "execution_count": null,
   "metadata": {
    "colab": {
     "base_uri": "https://localhost:8080/",
     "height": 807
    },
    "id": "PFBXHmbLY20S",
    "outputId": "9984db4e-aa30-4142-9118-a3bdd8314eff"
   },
   "outputs": [
    {
     "data": {
      "image/png": "[encoded data removed]",
      "text/plain": [
       "<Figure size 1200x800 with 2 Axes>"
      ]
     },
     "metadata": {},
     "output_type": "display_data"
    }
   ],
   "source": [
    "fig, axes = plt.subplots(1, 2, figsize=(12, 8))\n",
    "category_sales = df.groupby(\"Category\")[\"Sales\"].sum()\n",
    "\n",
    "axes[0].bar(category_sales.index, category_sales.values, color='skyblue')\n",
    "axes[0].set_title('Total Sales per Category')\n",
    "axes[0].set_xlabel('Category')\n",
    "axes[0].set_ylabel('Total Sales')\n",
    "axes[0].grid(axis='y', linestyle='--', alpha=0.7)\n",
    "\n",
    "# Pie chart (subplot 2)\n",
    "axes[1].pie(category_sales, labels=category_sales.index, autopct='%1.1f%%', startangle=140)\n",
    "axes[1].set_title('Percentage Contribution of Each Category')\n",
    "\n",
    "# Adjust layout\n",
    "plt.tight_layout()\n",
    "\n",
    "# Show plot\n",
    "plt.show()"
   ]
  },
  {
   "cell_type": "markdown",
   "metadata": {
    "id": "0KmoS_2qf4XU"
   },
   "source": [
    "###4.7:  Data-driven Styling - Scatter Plot"
   ]
  },
  {
   "cell_type": "code",
   "execution_count": null,
   "metadata": {
    "colab": {
     "base_uri": "https://localhost:8080/",
     "height": 607
    },
    "id": "cIwE8Vp8bajj",
    "outputId": "44d2999e-e833-4c09-9942-6c25615f8ce2"
   },
   "outputs": [
    {
     "data": {
      "image/png": "[encoded data removed]",
      "text/plain": [
       "<Figure size 1000x600 with 1 Axes>"
      ]
     },
     "metadata": {},
     "output_type": "display_data"
    }
   ],
   "source": [
    "import seaborn as sns\n",
    "\n",
    "plt.figure(figsize=(10, 6)) # Adjust figure size as needed\n",
    "sns.scatterplot(x= df['Sales'], y= df['ProfitMargin'], hue='Category', style='Category', data=df)\n",
    "\n",
    "# Customize the plot\n",
    "plt.title('Sales vs. Profit Margin by Category')\n",
    "plt.xlabel('Sales')\n",
    "plt.ylabel('Profit Margin')\n",
    "plt.grid(True, linestyle='--', alpha=0.7)\n",
    "plt.legend(title='Category')\n",
    "\n",
    "# Show plot\n",
    "plt.tight_layout()\n",
    "plt.show()"
   ]
  },
  {
   "cell_type": "markdown",
   "metadata": {
    "id": "y0G60Pwgx-UK"
   },
   "source": [
    "##Logistic Regression"
   ]
  },
  {
   "cell_type": "code",
   "execution_count": 2,
   "metadata": {
    "colab": {
     "base_uri": "https://localhost:8080/"
    },
    "id": "BWeyevWegMPJ",
    "outputId": "05813943-c9c5-4fa8-a895-487829f556be"
   },
   "outputs": [
    {
     "name": "stdout",
     "output_type": "stream",
     "text": [
      "X_train:\n",
      " [[1.  0.5 1.5]\n",
      " [1.  1.  1. ]\n",
      " [1.  1.5 0.5]\n",
      " [1.  3.  2.5]\n",
      " [1.  2.  3. ]\n",
      " [1.  3.  3. ]]\n",
      "\n",
      "y_train:\n",
      " [[0]\n",
      " [0]\n",
      " [0]\n",
      " [1]\n",
      " [1]\n",
      " [1]]\n",
      "\n",
      "X_test:\n",
      " [[1.  0.8 1.2]\n",
      " [1.  2.2 2.8]\n",
      " [1.  3.1 2.7]]\n",
      "\n",
      "W:\n",
      " [[-5.76]\n",
      " [ 1.43]\n",
      " [ 1.9 ]]\n"
     ]
    }
   ],
   "source": [
    "import numpy as np\n",
    "\n",
    "# Training dataset\n",
    "#The first column of all 1's in X_train represents the bias term in a linear model.\n",
    "X_train = np.array([\n",
    "    [1, 0.5, 1.5],\n",
    "    [1, 1, 1],\n",
    "    [1, 1.5, 0.5],\n",
    "    [1, 3, 2.5],\n",
    "    [1, 2, 3],\n",
    "    [1, 3, 3]\n",
    "])\n",
    "\n",
    "y_train = np.array([\n",
    "    [0],\n",
    "    [0],\n",
    "    [0],\n",
    "    [1],\n",
    "    [1],\n",
    "    [1]\n",
    "])\n",
    "\n",
    "# Test dataset\n",
    "X_test = np.array([\n",
    "    [1, 0.8, 1.2],\n",
    "    [1, 2.2, 2.8],\n",
    "    [1, 3.1, 2.7]\n",
    "])\n",
    "\n",
    "# Weight vector\n",
    "W = np.array([\n",
    "    [-5.76],\n",
    "    [1.43],\n",
    "    [1.90]\n",
    "])\n",
    "\n",
    "# Print the datasets and weight vector (optional)\n",
    "print(\"X_train:\\n\", X_train)\n",
    "print(\"\\ny_train:\\n\", y_train)\n",
    "print(\"\\nX_test:\\n\", X_test)\n",
    "print(\"\\nW:\\n\", W)"
   ]
  },
  {
   "cell_type": "markdown",
   "metadata": {
    "id": "0cNv1bQUyR-z"
   },
   "source": [
    "###5.1 Compute the probabilities"
   ]
  },
  {
   "cell_type": "code",
   "execution_count": 3,
   "metadata": {
    "colab": {
     "base_uri": "https://localhost:8080/"
    },
    "id": "d6P_9vpPx6F0",
    "outputId": "5ec0f8f6-0321-4f26-9a40-a392ce550970"
   },
   "outputs": [
    {
     "data": {
      "text/plain": [
       "array([[0.89979961],\n",
       "       [0.91908653],\n",
       "       [0.93492951],\n",
       "       [0.03626372],\n",
       "       [0.05732418],\n",
       "       [0.01434366]])"
      ]
     },
     "execution_count": 3,
     "metadata": {},
     "output_type": "execute_result"
    }
   ],
   "source": [
    "z = np.matmul(X_train,W)\n",
    "y_hat_probs = 1/(1+np.exp(z))\n",
    "y_hat_probs"
   ]
  },
  {
   "cell_type": "markdown",
   "metadata": {
    "id": "5xxTkOH2WuXh"
   },
   "source": [
    "###5.2:  Compute the predicted class labels"
   ]
  },
  {
   "cell_type": "code",
   "execution_count": 4,
   "metadata": {
    "colab": {
     "base_uri": "https://localhost:8080/"
    },
    "id": "a5ZcgY9OWuIj",
    "outputId": "75943f3e-76be-4154-a1d3-5bdb1aa7a073"
   },
   "outputs": [
    {
     "data": {
      "text/plain": [
       "array([[1],\n",
       "       [1],\n",
       "       [1],\n",
       "       [0],\n",
       "       [0],\n",
       "       [0]])"
      ]
     },
     "execution_count": 4,
     "metadata": {},
     "output_type": "execute_result"
    }
   ],
   "source": [
    "# Assign class labels based on the probabilities\n",
    "y_hat_labels = np.where(y_hat_probs >= 0.5, 1, 0)\n",
    "y_hat_labels"
   ]
  },
  {
   "cell_type": "markdown",
   "metadata": {
    "id": "3MB-s8cMWw9U"
   },
   "source": [
    "###5.3:  Apply the model to the test set"
   ]
  },
  {
   "cell_type": "code",
   "execution_count": 5,
   "metadata": {
    "colab": {
     "base_uri": "https://localhost:8080/"
    },
    "id": "LJ4tz-x6WuEa",
    "outputId": "534fbe57-9f47-4358-e88b-0ee8b787c275"
   },
   "outputs": [
    {
     "name": "stdout",
     "output_type": "stream",
     "text": [
      "z_test:\n",
      " [[-2.336]\n",
      " [ 2.706]\n",
      " [ 3.803]]\n",
      "\n",
      "y_test_probs:\n",
      " [[0.08818502]\n",
      " [0.93737976]\n",
      " [0.97818284]]\n",
      "\n",
      "y_test_labels:\n",
      " [[0]\n",
      " [1]\n",
      " [1]]\n"
     ]
    }
   ],
   "source": [
    "# 1. Compute z_test = X_test @ W\n",
    "z_test = X_test @ W\n",
    "\n",
    "# 2. Compute probabilities using the sigmoid function\n",
    "y_test_probs = 1 / (1 + np.exp(-z_test))\n",
    "\n",
    "# 3. Assign predicted class labels based on the threshold 0.5\n",
    "y_test_labels = np.where(y_test_probs >= 0.5, 1, 0)\n",
    "\n",
    "# Print the results\n",
    "print(\"z_test:\\n\", z_test)\n",
    "print(\"\\ny_test_probs:\\n\", y_test_probs)\n",
    "print(\"\\ny_test_labels:\\n\", y_test_labels)"
   ]
  },
  {
   "cell_type": "markdown",
   "metadata": {
    "id": "8Ha1JEL8ZblJ"
   },
   "source": [
    "### 5.4:  Visualization using Matplotlib"
   ]
  },
  {
   "cell_type": "code",
   "execution_count": 16,
   "metadata": {
    "colab": {
     "base_uri": "https://localhost:8080/",
     "height": 564
    },
    "id": "Z43IILoXVLZN",
    "outputId": "cf99df84-7624-460b-e05d-f8ca5fbd7535"
   },
   "outputs": [
    {
     "data": {
      "image/png": "[encoded data removed]",
      "text/plain": [
       "<Figure size 800x600 with 1 Axes>"
      ]
     },
     "metadata": {},
     "output_type": "display_data"
    }
   ],
   "source": [
    "import matplotlib.pyplot as plt\n",
    "\n",
    "# Extract features (exclude the bias term)\n",
    "feature1 = X_train[:, 1]\n",
    "feature2 = X_train[:, 2]\n",
    "\n",
    "# Create scatter plot\n",
    "plt.figure(figsize=(8, 6))\n",
    "\n",
    "# Separate points by class for different colors\n",
    "class0_indices = np.where(y_train[:, 0] == 0)[0]\n",
    "class1_indices = np.where(y_train[:, 0] == 1)[0]\n",
    "\n",
    "plt.scatter(feature1[class0_indices], feature2[class0_indices], color='blue', label='Class 0', marker='o')\n",
    "plt.scatter(feature1[class1_indices], feature2[class1_indices], color='red', label='Class 1', marker='x')\n",
    "\n",
    "# Customize plot\n",
    "plt.title('Scatter Plot of Training Data')\n",
    "plt.xlabel('Feature 1')\n",
    "plt.ylabel('Feature 2')\n",
    "plt.legend()\n",
    "plt.grid(True)\n",
    "plt.show()"
   ]
  },
  {
   "cell_type": "code",
   "execution_count": null,
   "metadata": {
    "id": "5alP4DiMUxHZ"
   },
   "outputs": [],
   "source": []
  }
 ],
 "metadata": {
  "colab": {
   "provenance": []
  },
  "kernelspec": {
   "display_name": "Python 3 (ipykernel)",
   "language": "python",
   "name": "python3"
  },
  "language_info": {
   "codemirror_mode": {
    "name": "ipython",
    "version": 3
   },
   "file_extension": ".py",
   "mimetype": "text/x-python",
   "name": "python",
   "nbconvert_exporter": "python",
   "pygments_lexer": "ipython3",
   "version": "3.12.7"
  }
 },
 "nbformat": 4,
 "nbformat_minor": 4
}
