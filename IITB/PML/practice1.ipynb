{
 "cells": [
  {
   "cell_type": "code",
   "execution_count": 22,
   "metadata": {},
   "outputs": [
    {
     "name": "stdout",
     "output_type": "stream",
     "text": [
      "(4, 2)\n",
      "32\n",
      "[14 18]\n",
      "[ 5  3  9 15]\n"
     ]
    }
   ],
   "source": [
    "import numpy as np\n",
    "\n",
    "a = np.array([[2,3],[1,2],[4,5],[7,8]])\n",
    "print(a.shape)\n",
    "print(a.sum())\n",
    "print(a.sum(axis =0))\n",
    "print(a.sum(axis =1))"
   ]
  },
  {
   "cell_type": "code",
   "execution_count": 16,
   "metadata": {},
   "outputs": [
    {
     "name": "stdout",
     "output_type": "stream",
     "text": [
      "1210\n",
      "[[0.66104841 0.50290191 0.36028621 0.58703436 0.41980873 0.55724133\n",
      "  0.19566878 0.96452009 0.37296457 0.85648537]\n",
      " [0.37240391 0.61747059 0.04118779 0.63937763 0.76829705 0.23231827\n",
      "  0.84089301 0.76327129 0.63025721 0.88039719]\n",
      " [0.23414245 0.31633192 0.97427055 0.84970545 0.47469169 0.17719482\n",
      "  0.32091177 0.33759952 0.21158718 0.34949959]\n",
      " [0.78693224 0.83448552 0.092173   0.70934182 0.06526497 0.79751286\n",
      "  0.49550549 0.27161219 0.21738624 0.13258154]\n",
      " [0.26681514 0.28758394 0.1641852  0.60607392 0.22723702 0.23545588\n",
      "  0.30128282 0.13278788 0.17334578 0.62362187]\n",
      " [0.97654138 0.63257914 0.16625663 0.67024769 0.73936679 0.28110316\n",
      "  0.52626286 0.3769874  0.84372914 0.60789617]\n",
      " [0.40254172 0.86972431 0.31892762 0.63698365 0.20074843 0.49272166\n",
      "  0.12141143 0.4117784  0.28243353 0.72178242]\n",
      " [0.57125788 0.9776268  0.11297918 0.2667123  0.77766611 0.9911605\n",
      "  0.26264884 0.58078141 0.17760311 0.61377121]\n",
      " [0.76134437 0.83529341 0.44753903 0.6786878  0.6761489  0.471856\n",
      "  0.835919   0.63659475 0.65876881 0.58411347]\n",
      " [0.76084024 0.53557221 0.21238904 0.86920996 0.44822656 0.08362919\n",
      "  0.04867985 0.47113953 0.41969647 0.73087556]]\n"
     ]
    },
    {
     "data": {
      "text/plain": [
       "(10, 10)"
      ]
     },
     "execution_count": 16,
     "metadata": {},
     "output_type": "execute_result"
    }
   ],
   "source": [
    "import time as time\n",
    "import numpy as np\n",
    "\n",
    "n =10\n",
    "sum =0\n",
    "\n",
    "for i in range(11):\n",
    "    for j in range(11):\n",
    "        sum= sum+i+j\n",
    "\n",
    "print(sum)\n",
    "\n",
    "k= np.random.rand(10,10)\n",
    "print(k)\n",
    "k.shape"
   ]
  },
  {
   "cell_type": "code",
   "execution_count": 13,
   "metadata": {},
   "outputs": [
    {
     "name": "stdout",
     "output_type": "stream",
     "text": [
      "{'Professors': [{'name': 'Abir', 'Subject': 'ML', 'Salary': '123432'}, {'name': 'Vinay', 'Subject': 'AI', 'Salary': '123432'}], 'TAs': [{'name': 'Ninand', 'Subject': 'ML', 'Salary': '123432'}, {'name': 'Vaibhav', 'Subject': 'AI', 'Salary': '123432'}]}\n",
      "<built-in method keys of dict object at 0x113b17b40>\n",
      "<built-in method values of dict object at 0x113b0f4c0>\n",
      "Geeks\n",
      "dict\n",
      "iterate\n",
      "name\n",
      "topic\n",
      "task\n",
      "name\n",
      "topic\n",
      "task\n",
      "{'name'} {'Geeks'}\n",
      "{'topic'} {'dict'}\n",
      "{'task'} {'iterate'}\n",
      "last...Geeks\n",
      "<class 'builtin_function_or_method'>\n",
      "last...dict\n",
      "<class 'builtin_function_or_method'>\n",
      "last...iterate\n",
      "<class 'builtin_function_or_method'>\n"
     ]
    }
   ],
   "source": [
    "\n",
    "listOfInstructors = { \"Professors\" : [{\"name\":\"Abir\",\"Subject\" :\"ML\",\"Salary\" :\"123432\"} , {\"name\":\"Vinay\" ,\"Subject\" :\"AI\",\"Salary\" :\"123432\"}] , \n",
    "                    \"TAs\" : [{\"name\":\"Ninand\",\"Subject\" :\"ML\",\"Salary\" :\"123432\"} , {\"name\":\"Vaibhav\" ,\"Subject\" :\"AI\",\"Salary\" :\"123432\"}] }\n",
    "\n",
    "print(listOfInstructors)\n",
    "firstProfessor = listOfInstructors[\"Professors\"][0]\n",
    "keyValues = listOfInstructors[\"Professors\"][0].keys\n",
    "\n",
    "print(listOfInstructors[\"Professors\"][0].keys)\n",
    "print(listOfInstructors.values)\n",
    "\n",
    "d = {\"name\": \"Geeks\", \"topic\": \"dict\", \"task\": \"iterate\"}\n",
    "\n",
    "for val in d.values():\n",
    "    print(val)\n",
    "\n",
    "for val in d.keys():\n",
    "    print(val)\n",
    "\n",
    "\n",
    "for keys in d:\n",
    "    print(keys)\n",
    "\n",
    "\n",
    "for key,value in d.items():\n",
    "    print({key},{value})\n",
    "\n",
    "map_keys = map(d.get,d)\n",
    "\n",
    "\n",
    "for i in map_keys:\n",
    "    print(\"last...\"+i)\n",
    "\n",
    "    print(type(d.keys))"
   ]
  },
  {
   "cell_type": "code",
   "execution_count": 15,
   "metadata": {},
   "outputs": [
    {
     "name": "stdout",
     "output_type": "stream",
     "text": [
      "S\n",
      "t\n",
      "r\n",
      "i\n",
      "n\n",
      "g\n",
      "Rahul Dravid\n"
     ]
    }
   ],
   "source": [
    "for i in 'String':\n",
    "    print(i)\n",
    "\n",
    "for k in ['Rahul Dravid']:\n",
    "    print(k)"
   ]
  },
  {
   "cell_type": "code",
   "execution_count": 21,
   "metadata": {},
   "outputs": [
    {
     "name": "stdout",
     "output_type": "stream",
     "text": [
      "10  is Even Number\n",
      "7  is Odd Number\n",
      "102  is Even Number\n"
     ]
    }
   ],
   "source": [
    "def isEven(num):\n",
    "    if(num%2==0):\n",
    "        print(num ,\" is Even Number\")\n",
    "    else:\n",
    "        print(num ,\" is Odd Number\")\n",
    "\n",
    "\n",
    "isEven(10)\n",
    "isEven(7)\n",
    "isEven(102)\n"
   ]
  },
  {
   "cell_type": "code",
   "execution_count": 35,
   "metadata": {},
   "outputs": [
    {
     "name": "stdout",
     "output_type": "stream",
     "text": [
      "(2, 6)\n",
      "[ 8 10 12 14 16 18]\n",
      "2\n",
      "12\n",
      "int64\n",
      "96\n",
      "10\n",
      "8\n",
      "[2 8]\n",
      "[1 2 3 4 5 6]\n"
     ]
    }
   ],
   "source": [
    "import numpy as np\n",
    "\n",
    "array1= np.array([[1,2,3,4,5,6],[7,8,9,10,11,12]])\n",
    "\n",
    "print(array1.shape)\n",
    "print(array1.sum(axis=0))\n",
    "print(array1.ndim)\n",
    "print(array1.size)\n",
    "print(array1.dtype)\n",
    "print(array1.nbytes)\n",
    "print(array1[1][3])\n",
    "print(array1[1,1])\n",
    "print(array1[:,1])\n",
    "print(array1[0,:])\n",
    "\n",
    "\n",
    "\n",
    "\n"
   ]
  }
 ],
 "metadata": {
  "kernelspec": {
   "display_name": "Python 3 (ipykernel)",
   "language": "python",
   "name": "python3"
  },
  "language_info": {
   "codemirror_mode": {
    "name": "ipython",
    "version": 3
   },
   "file_extension": ".py",
   "mimetype": "text/x-python",
   "name": "python",
   "nbconvert_exporter": "python",
   "pygments_lexer": "ipython3",
   "version": "3.12.7"
  }
 },
 "nbformat": 4,
 "nbformat_minor": 4
}
